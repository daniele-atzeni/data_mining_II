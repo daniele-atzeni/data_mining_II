{
 "cells": [
  {
   "cell_type": "code",
   "execution_count": 1,
   "metadata": {},
   "outputs": [],
   "source": [
    "import pandas as pd"
   ]
  },
  {
   "cell_type": "code",
   "execution_count": 2,
   "metadata": {},
   "outputs": [
    {
     "data": {
      "text/html": [
       "<div>\n",
       "<style scoped>\n",
       "    .dataframe tbody tr th:only-of-type {\n",
       "        vertical-align: middle;\n",
       "    }\n",
       "\n",
       "    .dataframe tbody tr th {\n",
       "        vertical-align: top;\n",
       "    }\n",
       "\n",
       "    .dataframe thead th {\n",
       "        text-align: right;\n",
       "    }\n",
       "</style>\n",
       "<table border=\"1\" class=\"dataframe\">\n",
       "  <thead>\n",
       "    <tr style=\"text-align: right;\">\n",
       "      <th></th>\n",
       "      <th>sex</th>\n",
       "      <th>lenght</th>\n",
       "      <th>diameter</th>\n",
       "      <th>height</th>\n",
       "      <th>whole_weight</th>\n",
       "      <th>shucked_weight</th>\n",
       "      <th>viscera_weight</th>\n",
       "      <th>shell_weight</th>\n",
       "      <th>rings</th>\n",
       "    </tr>\n",
       "  </thead>\n",
       "  <tbody>\n",
       "    <tr>\n",
       "      <th>0</th>\n",
       "      <td>M</td>\n",
       "      <td>0.455</td>\n",
       "      <td>0.365</td>\n",
       "      <td>0.095</td>\n",
       "      <td>0.5140</td>\n",
       "      <td>0.2245</td>\n",
       "      <td>0.1010</td>\n",
       "      <td>0.150</td>\n",
       "      <td>15</td>\n",
       "    </tr>\n",
       "    <tr>\n",
       "      <th>1</th>\n",
       "      <td>M</td>\n",
       "      <td>0.350</td>\n",
       "      <td>0.265</td>\n",
       "      <td>0.090</td>\n",
       "      <td>0.2255</td>\n",
       "      <td>0.0995</td>\n",
       "      <td>0.0485</td>\n",
       "      <td>0.070</td>\n",
       "      <td>7</td>\n",
       "    </tr>\n",
       "    <tr>\n",
       "      <th>2</th>\n",
       "      <td>F</td>\n",
       "      <td>0.530</td>\n",
       "      <td>0.420</td>\n",
       "      <td>0.135</td>\n",
       "      <td>0.6770</td>\n",
       "      <td>0.2565</td>\n",
       "      <td>0.1415</td>\n",
       "      <td>0.210</td>\n",
       "      <td>9</td>\n",
       "    </tr>\n",
       "    <tr>\n",
       "      <th>3</th>\n",
       "      <td>M</td>\n",
       "      <td>0.440</td>\n",
       "      <td>0.365</td>\n",
       "      <td>0.125</td>\n",
       "      <td>0.5160</td>\n",
       "      <td>0.2155</td>\n",
       "      <td>0.1140</td>\n",
       "      <td>0.155</td>\n",
       "      <td>10</td>\n",
       "    </tr>\n",
       "    <tr>\n",
       "      <th>4</th>\n",
       "      <td>I</td>\n",
       "      <td>0.330</td>\n",
       "      <td>0.255</td>\n",
       "      <td>0.080</td>\n",
       "      <td>0.2050</td>\n",
       "      <td>0.0895</td>\n",
       "      <td>0.0395</td>\n",
       "      <td>0.055</td>\n",
       "      <td>7</td>\n",
       "    </tr>\n",
       "  </tbody>\n",
       "</table>\n",
       "</div>"
      ],
      "text/plain": [
       "  sex  lenght  diameter  height  whole_weight  shucked_weight  viscera_weight  \\\n",
       "0   M   0.455     0.365   0.095        0.5140          0.2245          0.1010   \n",
       "1   M   0.350     0.265   0.090        0.2255          0.0995          0.0485   \n",
       "2   F   0.530     0.420   0.135        0.6770          0.2565          0.1415   \n",
       "3   M   0.440     0.365   0.125        0.5160          0.2155          0.1140   \n",
       "4   I   0.330     0.255   0.080        0.2050          0.0895          0.0395   \n",
       "\n",
       "   shell_weight  rings  \n",
       "0         0.150     15  \n",
       "1         0.070      7  \n",
       "2         0.210      9  \n",
       "3         0.155     10  \n",
       "4         0.055      7  "
      ]
     },
     "execution_count": 2,
     "metadata": {},
     "output_type": "execute_result"
    }
   ],
   "source": [
    "df_train = pd.read_csv(\"abalone_data.csv\") \n",
    "df_train.head()\n",
    "# dobbiamo creare un modello che predica il numero di rings, dopo aver discretizzato l'attributo ring in due intervalli"
   ]
  },
  {
   "cell_type": "code",
   "execution_count": 3,
   "metadata": {},
   "outputs": [
    {
     "data": {
      "text/plain": [
       "4177"
      ]
     },
     "execution_count": 3,
     "metadata": {},
     "output_type": "execute_result"
    }
   ],
   "source": [
    "len(df_train)"
   ]
  },
  {
   "cell_type": "code",
   "execution_count": 4,
   "metadata": {},
   "outputs": [
    {
     "data": {
      "text/plain": [
       "2835"
      ]
     },
     "execution_count": 4,
     "metadata": {},
     "output_type": "execute_result"
    }
   ],
   "source": [
    "# dobbiamo scartare gli infanti\n",
    "df_train = df_train[df_train['sex'] != 'I']\n",
    "\n",
    "len(df_train)"
   ]
  },
  {
   "cell_type": "code",
   "execution_count": 5,
   "metadata": {},
   "outputs": [
    {
     "data": {
      "text/html": [
       "<div>\n",
       "<style scoped>\n",
       "    .dataframe tbody tr th:only-of-type {\n",
       "        vertical-align: middle;\n",
       "    }\n",
       "\n",
       "    .dataframe tbody tr th {\n",
       "        vertical-align: top;\n",
       "    }\n",
       "\n",
       "    .dataframe thead th {\n",
       "        text-align: right;\n",
       "    }\n",
       "</style>\n",
       "<table border=\"1\" class=\"dataframe\">\n",
       "  <thead>\n",
       "    <tr style=\"text-align: right;\">\n",
       "      <th></th>\n",
       "      <th>lenght</th>\n",
       "      <th>diameter</th>\n",
       "      <th>height</th>\n",
       "      <th>whole_weight</th>\n",
       "      <th>shucked_weight</th>\n",
       "      <th>viscera_weight</th>\n",
       "      <th>shell_weight</th>\n",
       "      <th>rings</th>\n",
       "      <th>sex_val</th>\n",
       "    </tr>\n",
       "  </thead>\n",
       "  <tbody>\n",
       "    <tr>\n",
       "      <th>0</th>\n",
       "      <td>0.455</td>\n",
       "      <td>0.365</td>\n",
       "      <td>0.095</td>\n",
       "      <td>0.5140</td>\n",
       "      <td>0.2245</td>\n",
       "      <td>0.1010</td>\n",
       "      <td>0.150</td>\n",
       "      <td>15</td>\n",
       "      <td>1</td>\n",
       "    </tr>\n",
       "    <tr>\n",
       "      <th>1</th>\n",
       "      <td>0.350</td>\n",
       "      <td>0.265</td>\n",
       "      <td>0.090</td>\n",
       "      <td>0.2255</td>\n",
       "      <td>0.0995</td>\n",
       "      <td>0.0485</td>\n",
       "      <td>0.070</td>\n",
       "      <td>7</td>\n",
       "      <td>1</td>\n",
       "    </tr>\n",
       "    <tr>\n",
       "      <th>2</th>\n",
       "      <td>0.530</td>\n",
       "      <td>0.420</td>\n",
       "      <td>0.135</td>\n",
       "      <td>0.6770</td>\n",
       "      <td>0.2565</td>\n",
       "      <td>0.1415</td>\n",
       "      <td>0.210</td>\n",
       "      <td>9</td>\n",
       "      <td>0</td>\n",
       "    </tr>\n",
       "    <tr>\n",
       "      <th>3</th>\n",
       "      <td>0.440</td>\n",
       "      <td>0.365</td>\n",
       "      <td>0.125</td>\n",
       "      <td>0.5160</td>\n",
       "      <td>0.2155</td>\n",
       "      <td>0.1140</td>\n",
       "      <td>0.155</td>\n",
       "      <td>10</td>\n",
       "      <td>1</td>\n",
       "    </tr>\n",
       "    <tr>\n",
       "      <th>6</th>\n",
       "      <td>0.530</td>\n",
       "      <td>0.415</td>\n",
       "      <td>0.150</td>\n",
       "      <td>0.7775</td>\n",
       "      <td>0.2370</td>\n",
       "      <td>0.1415</td>\n",
       "      <td>0.330</td>\n",
       "      <td>20</td>\n",
       "      <td>0</td>\n",
       "    </tr>\n",
       "  </tbody>\n",
       "</table>\n",
       "</div>"
      ],
      "text/plain": [
       "   lenght  diameter  height  whole_weight  shucked_weight  viscera_weight  \\\n",
       "0   0.455     0.365   0.095        0.5140          0.2245          0.1010   \n",
       "1   0.350     0.265   0.090        0.2255          0.0995          0.0485   \n",
       "2   0.530     0.420   0.135        0.6770          0.2565          0.1415   \n",
       "3   0.440     0.365   0.125        0.5160          0.2155          0.1140   \n",
       "6   0.530     0.415   0.150        0.7775          0.2370          0.1415   \n",
       "\n",
       "   shell_weight  rings  sex_val  \n",
       "0         0.150     15        1  \n",
       "1         0.070      7        1  \n",
       "2         0.210      9        0  \n",
       "3         0.155     10        1  \n",
       "6         0.330     20        0  "
      ]
     },
     "execution_count": 5,
     "metadata": {},
     "output_type": "execute_result"
    }
   ],
   "source": [
    "# Get the unique values of sex\n",
    "sexes = sorted(df_train['sex'].unique())\n",
    "    \n",
    "# Generate a mapping of sex from a string to a number representation    \n",
    "genders_mapping = dict(zip(sexes, range(0, len(sexes) + 1)))\n",
    "\n",
    "# Transform Sex from a string to a number representation\n",
    "df_train['sex_val'] = df_train['sex'].map(genders_mapping).astype(int)\n",
    "\n",
    "# Drop the coloumn sex\n",
    "df_train = df_train.drop(['sex'], axis=1)\n",
    "\n",
    "\n",
    "df_train.head()\n",
    "\n",
    "# F = 0, M = 1"
   ]
  },
  {
   "cell_type": "code",
   "execution_count": 6,
   "metadata": {},
   "outputs": [
    {
     "data": {
      "text/plain": [
       "count    2835.000000\n",
       "mean       10.900882\n",
       "std         3.069252\n",
       "min         3.000000\n",
       "25%         9.000000\n",
       "50%        10.000000\n",
       "75%        12.000000\n",
       "max        29.000000\n",
       "Name: rings, dtype: float64"
      ]
     },
     "execution_count": 6,
     "metadata": {},
     "output_type": "execute_result"
    }
   ],
   "source": [
    "df_train['rings'].describe()"
   ]
  },
  {
   "cell_type": "code",
   "execution_count": 7,
   "metadata": {},
   "outputs": [
    {
     "data": {
      "text/plain": [
       "(array([   3.,    6.,   15.,   43.,  124.,  294.,  516.,  542.,  425.,\n",
       "         246.,  179.,  112.,   93.,   60.,   51.,   37.,   30.,   24.,\n",
       "          13.,    6.,    9.,    2.,    1.,    1.,    2.,    1.]),\n",
       " array([  3.,   4.,   5.,   6.,   7.,   8.,   9.,  10.,  11.,  12.,  13.,\n",
       "         14.,  15.,  16.,  17.,  18.,  19.,  20.,  21.,  22.,  23.,  24.,\n",
       "         25.,  26.,  27.,  28.,  29.]),\n",
       " <a list of 26 Patch objects>)"
      ]
     },
     "execution_count": 7,
     "metadata": {},
     "output_type": "execute_result"
    },
    {
     "data": {
      "image/png": "[encoded data removed]",
      "text/plain": [
       "<matplotlib.figure.Figure at 0x16414539a58>"
      ]
     },
     "metadata": {},
     "output_type": "display_data"
    }
   ],
   "source": [
    "%matplotlib inline\n",
    "import matplotlib.pyplot as plt\n",
    "\n",
    "plt.hist(df_train['rings'], bins=len(df_train['rings'].unique()))"
   ]
  },
  {
   "cell_type": "code",
   "execution_count": 8,
   "metadata": {},
   "outputs": [],
   "source": [
    "# discretizzazione dell'attributo rings\n",
    "III_quart = df_train['rings'].quantile(0.75)        # utilizziamo il terzo quartile\n",
    "\n",
    "# Generate a mapping of rings, 1 if rings > III quart    \n",
    "def rings_mapping(x):\n",
    "    if x > III_quart:\n",
    "        return 1\n",
    "    return 0\n",
    "\n",
    "# Transform rings from an integer to a 0-1 representation\n",
    "df_train['class'] = df_train['rings'].map(rings_mapping).astype(int)\n",
    "\n",
    "# Drop the coloumn rings\n",
    "df_train = df_train.drop(['rings'], axis=1)"
   ]
  },
  {
   "cell_type": "code",
   "execution_count": 9,
   "metadata": {},
   "outputs": [
    {
     "data": {
      "text/plain": [
       "array([[ 0.455,  0.365,  0.095, ...,  0.15 ,  1.   ,  1.   ],\n",
       "       [ 0.35 ,  0.265,  0.09 , ...,  0.07 ,  1.   ,  0.   ],\n",
       "       [ 0.53 ,  0.42 ,  0.135, ...,  0.21 ,  0.   ,  0.   ],\n",
       "       ..., \n",
       "       [ 0.6  ,  0.475,  0.205, ...,  0.308,  1.   ,  0.   ],\n",
       "       [ 0.625,  0.485,  0.15 , ...,  0.296,  0.   ,  0.   ],\n",
       "       [ 0.71 ,  0.555,  0.195, ...,  0.495,  1.   ,  0.   ]])"
      ]
     },
     "execution_count": 9,
     "metadata": {},
     "output_type": "execute_result"
    }
   ],
   "source": [
    "# Convert the DataFrame to a numpy array:\n",
    "train_data = df_train.values\n",
    "train_data"
   ]
  },
  {
   "cell_type": "code",
   "execution_count": 10,
   "metadata": {},
   "outputs": [],
   "source": [
    "# Training data features, skip the last column 'class'\n",
    "train_features = train_data[:, :len(train_data[0])-1]\n",
    "\n",
    "# 'class' column values\n",
    "train_target = train_data[:, len(train_data[0])-1]"
   ]
  },
  {
   "cell_type": "code",
   "execution_count": null,
   "metadata": {},
   "outputs": [],
   "source": []
  },
  {
   "cell_type": "code",
   "execution_count": 11,
   "metadata": {},
   "outputs": [],
   "source": [
    "# FINE PREPARAZIONE DATASET"
   ]
  },
  {
   "cell_type": "code",
   "execution_count": null,
   "metadata": {},
   "outputs": [],
   "source": []
  },
  {
   "cell_type": "code",
   "execution_count": 12,
   "metadata": {},
   "outputs": [
    {
     "name": "stdout",
     "output_type": "stream",
     "text": [
      "Wall time: 2min 44s\n"
     ]
    },
    {
     "data": {
      "image/png": "[encoded data removed]",
      "text/plain": [
       "<matplotlib.figure.Figure at 0x164158d7cc0>"
      ]
     },
     "metadata": {},
     "output_type": "display_data"
    }
   ],
   "source": [
    "%%time\n",
    "\n",
    "import numpy as np\n",
    "\n",
    "#\n",
    "# Neural Networks\n",
    "#\n",
    "# RICORDA\n",
    "# train_data = df_train.values\n",
    "# train_features = train_data[:, :len(train_data[0])-1]\n",
    "# train_target = train_data[:, len(train_data[0])-1]\n",
    "\n",
    "from sklearn.neural_network import MLPClassifier\n",
    "i_ideale = 0\n",
    "err_min = 10000000\n",
    "error_list = list()\n",
    "for i in range(5,100):\n",
    "        clf = MLPClassifier(solver='lbfgs', alpha=1e-5, hidden_layer_sizes=(i, i//2), random_state=1)\n",
    "        clf.fit(train_features, train_target)       \n",
    "        error = sum(abs(np.array(clf.predict(train_features)) - np.array(train_target)))\n",
    "        error_list.append(error)\n",
    "    \n",
    "        if (error < err_min):\n",
    "            i_ideale = i\n",
    "            err_min = error\n",
    "    \n",
    "plt.plot(range(5,100), error_list)"
   ]
  },
  {
   "cell_type": "code",
   "execution_count": 13,
   "metadata": {},
   "outputs": [
    {
     "name": "stdout",
     "output_type": "stream",
     "text": [
      "Wall time: 1min 20s\n"
     ]
    },
    {
     "data": {
      "image/png": "[encoded data removed]",
      "text/plain": [
       "<matplotlib.figure.Figure at 0x1641234eba8>"
      ]
     },
     "metadata": {},
     "output_type": "display_data"
    }
   ],
   "source": [
    "%%time\n",
    "\n",
    "j_ideale = 0\n",
    "err_min = 10000000\n",
    "error_list = list()\n",
    "for j in range(2,i_ideale):\n",
    "        clf = MLPClassifier(solver='lbfgs', alpha=1e-5, hidden_layer_sizes=(i, j), random_state=1)\n",
    "        clf.fit(train_features, train_target)       \n",
    "        error = sum(abs(np.array(clf.predict(train_features)) - np.array(train_target)))\n",
    "        error_list.append(error)\n",
    "    \n",
    "        if (error < err_min):\n",
    "            j_ideale = j\n",
    "            err_min = error\n",
    "    \n",
    "plt.plot(range(2,i_ideale), error_list)"
   ]
  },
  {
   "cell_type": "code",
   "execution_count": 14,
   "metadata": {},
   "outputs": [
    {
     "name": "stdout",
     "output_type": "stream",
     "text": [
      "layer 1: 31 layer 2: 19\n",
      "error: 441.0 \terror rate: 0.155555555556\n"
     ]
    }
   ],
   "source": [
    "print(\"layer 1:\", i_ideale, \"layer 2:\", j_ideale)\n",
    "clf = MLPClassifier(solver='lbfgs', alpha=1e-5, hidden_layer_sizes=(i_ideale, j_ideale), random_state=1)\n",
    "clf.fit(train_features, train_target)       \n",
    "error = sum(abs(np.array(clf.predict(train_features)) - np.array(train_target)))\n",
    "errorRate = error/len(df_train)\n",
    "print (\"error:\", error, \"\\terror rate:\", errorRate)\n",
    "\n",
    "# quindi usando metodi abbastanza casuali ottengo due hidden layers, di dim 86 e 21\n",
    "# credo sia abbastanza overfitting comunque"
   ]
  },
  {
   "cell_type": "code",
   "execution_count": 15,
   "metadata": {},
   "outputs": [
    {
     "data": {
      "text/plain": [
       "[<matplotlib.lines.Line2D at 0x16415d75d30>]"
      ]
     },
     "execution_count": 15,
     "metadata": {},
     "output_type": "execute_result"
    },
    {
     "data": {
      "image/png": "[encoded data removed]",
      "text/plain": [
       "<matplotlib.figure.Figure at 0x164161ef208>"
      ]
     },
     "metadata": {},
     "output_type": "display_data"
    }
   ],
   "source": [
    "# II prova metodi casuali\n",
    "\n",
    "i_ideale = 0\n",
    "err_min = 10000000\n",
    "error_list = list()\n",
    "for i in range(5,21):\n",
    "        clf = MLPClassifier(solver='lbfgs', alpha=1e-5, hidden_layer_sizes=(i, i//2), random_state=1)\n",
    "        clf.fit(train_features, train_target)       \n",
    "        error = sum(abs(np.array(clf.predict(train_features)) - np.array(train_target)))\n",
    "        error_list.append(error)\n",
    "    \n",
    "        if (error < err_min):\n",
    "            i_ideale = i\n",
    "            err_min = error\n",
    "    \n",
    "plt.plot(range(5,21), error_list)"
   ]
  },
  {
   "cell_type": "code",
   "execution_count": 16,
   "metadata": {},
   "outputs": [
    {
     "data": {
      "text/plain": [
       "[<matplotlib.lines.Line2D at 0x16415db6f28>]"
      ]
     },
     "execution_count": 16,
     "metadata": {},
     "output_type": "execute_result"
    },
    {
     "data": {
      "image/png": "[encoded data removed]",
      "text/plain": [
       "<matplotlib.figure.Figure at 0x16415d64080>"
      ]
     },
     "metadata": {},
     "output_type": "display_data"
    }
   ],
   "source": [
    "j_ideale = 0\n",
    "err_min = 10000000\n",
    "error_list = list()\n",
    "for j in range(2,i_ideale):\n",
    "        clf = MLPClassifier(solver='lbfgs', alpha=1e-5, hidden_layer_sizes=(i, j), random_state=1)\n",
    "        clf.fit(train_features, train_target)       \n",
    "        error = sum(abs(np.array(clf.predict(train_features)) - np.array(train_target)))\n",
    "        error_list.append(error)\n",
    "    \n",
    "        if (error < err_min):\n",
    "            j_ideale = j\n",
    "            err_min = error\n",
    "    \n",
    "plt.plot(range(2,i_ideale), error_list)"
   ]
  },
  {
   "cell_type": "code",
   "execution_count": 17,
   "metadata": {},
   "outputs": [
    {
     "name": "stdout",
     "output_type": "stream",
     "text": [
      "layer 1: 13 layer 2: 5\n",
      "error: 446.0 \terror rate: 0.157319223986\n"
     ]
    }
   ],
   "source": [
    "print(\"layer 1:\", i_ideale, \"layer 2:\", j_ideale)\n",
    "clf = MLPClassifier(solver='lbfgs', alpha=1e-5, hidden_layer_sizes=(i_ideale, j_ideale), random_state=1)\n",
    "clf.fit(train_features, train_target)       \n",
    "error = sum(abs(np.array(clf.predict(train_features)) - np.array(train_target)))\n",
    "errorRate = error/len(df_train)\n",
    "print (\"error:\", error, \"\\terror rate:\", errorRate)\n",
    "\n",
    "# ottengo sempre due layer, dimensioni 19 e 3, a discapito di un errore maggiore, ma di pochissimo"
   ]
  },
  {
   "cell_type": "code",
   "execution_count": 18,
   "metadata": {},
   "outputs": [
    {
     "data": {
      "text/plain": [
       "[array([[ -1.42603528e+00,  -7.13205415e-01,  -5.66400943e-01,\n",
       "          -3.65173713e-01,  -4.59870873e-01,  -6.71605421e-01,\n",
       "          -3.35398312e-01,  -4.70429015e-01,  -3.39819776e-01,\n",
       "          -8.43736594e-01,  -8.63837629e-02,   2.06706674e+00,\n",
       "          -4.68299974e-01],\n",
       "        [  1.23704432e+00,   1.40509052e-01,   1.56418802e-01,\n",
       "          -2.03450801e-01,  -7.90711707e-03,  -5.62434964e-01,\n",
       "          -3.22739591e-01,   6.65042920e-02,   3.25410378e-01,\n",
       "          -1.03582768e-01,   2.05599299e-01,   1.30076078e-02,\n",
       "           2.64406051e-01],\n",
       "        [  2.21280134e-01,   4.14731999e-01,  -3.62570464e-01,\n",
       "           3.62250503e-01,  -4.62513574e-01,  -1.37922806e-01,\n",
       "           4.89499200e-01,  -6.87482746e-02,   1.47016516e-01,\n",
       "           5.49748366e-01,   1.99375721e-01,  -4.28657298e-01,\n",
       "          -5.98145993e-01],\n",
       "        [  1.50404010e+00,   2.91958451e+00,   1.58205108e-01,\n",
       "          -3.26752285e-01,   8.15086391e-02,  -5.74103239e-01,\n",
       "          -5.57035608e-02,  -3.55849921e-01,  -4.85559422e-01,\n",
       "           1.09704217e+00,  -3.95511813e-01,  -2.02186158e+00,\n",
       "          -9.60527327e-01],\n",
       "        [ -4.19741681e+00,  -1.32991782e+00,  -5.03479807e-02,\n",
       "          -5.33902123e-01,   4.86967405e-02,  -4.84959124e-01,\n",
       "           9.54706016e-02,   4.28372054e-02,  -5.63635264e-01,\n",
       "          -2.57192156e+00,   2.07820261e-01,   1.85532292e+00,\n",
       "          -7.42642136e-01],\n",
       "        [ -1.06437782e+00,  -6.90733221e-01,  -2.68813049e-03,\n",
       "           4.52511064e-01,   5.25615101e-02,   3.94612955e-01,\n",
       "          -3.87551649e-01,  -5.36163515e-01,   2.68685311e-01,\n",
       "          -8.81182111e-01,  -3.57747540e-01,   1.65162985e+00,\n",
       "          -4.69407918e-01],\n",
       "        [  3.88407783e-01,   2.12492182e-01,   3.74007866e-01,\n",
       "           1.11603842e-01,   1.69128891e-01,  -1.78643685e-01,\n",
       "          -2.45954768e-01,   9.47164375e-02,  -1.41250166e-01,\n",
       "           9.31935683e-01,   1.74724420e-01,   2.97502129e-01,\n",
       "          -8.82173402e-01],\n",
       "        [ -3.86287702e-01,   1.60207958e+00,   4.77224877e-02,\n",
       "          -4.04457634e-01,  -3.99996905e-01,  -8.28200652e-02,\n",
       "           7.87658320e-02,  -7.69862652e-01,  -2.10277318e-01,\n",
       "           6.33857905e-01,   2.89260150e-02,   1.04451792e-01,\n",
       "           5.43038365e-01]]),\n",
       " array([[ 0.16243   ,  2.10620161, -0.48466064, -2.61690065, -0.54730808],\n",
       "        [-1.11390069,  0.18233734, -0.03385113, -0.61526764, -0.03581484],\n",
       "        [ 0.39436305, -0.43290155, -0.2545802 ,  0.07874105,  0.5422366 ],\n",
       "        [ 0.04047873, -0.55581222,  0.33912926, -0.13925163,  0.3546107 ],\n",
       "        [-0.2285461 ,  0.42689737,  0.2106918 , -0.63957439, -0.4197808 ],\n",
       "        [-0.54870842, -0.43723018, -0.52655618,  0.25343952, -0.31672015],\n",
       "        [ 0.24593583,  0.06895449, -0.56284578, -0.49423618,  0.53955839],\n",
       "        [ 0.0304408 , -0.34260375, -0.32053622, -0.78644432, -0.35168394],\n",
       "        [-0.06952369,  0.54272646,  0.37221087,  0.12875047, -0.00719404],\n",
       "        [ 0.78668542,  1.29077354, -0.33431878, -1.15017134, -0.49829896],\n",
       "        [-0.01576714,  0.12277736,  0.07950193, -0.21088944,  0.56419923],\n",
       "        [-0.74924586, -0.63272582, -0.4002211 ,  1.45597565, -0.1163852 ],\n",
       "        [-0.35098576, -0.70642653, -0.16162388,  1.04524831, -0.33465861]]),\n",
       " array([[-0.99683983],\n",
       "        [ 1.38993958],\n",
       "        [ 0.85510209],\n",
       "        [-2.20014101],\n",
       "        [-0.851826  ]])]"
      ]
     },
     "execution_count": 18,
     "metadata": {},
     "output_type": "execute_result"
    }
   ],
   "source": [
    "# weights of the network\n",
    "clf.coefs_"
   ]
  },
  {
   "cell_type": "code",
   "execution_count": 19,
   "metadata": {},
   "outputs": [
    {
     "data": {
      "text/plain": [
       "[<matplotlib.lines.Line2D at 0x16415dfb5c0>]"
      ]
     },
     "execution_count": 19,
     "metadata": {},
     "output_type": "execute_result"
    },
    {
     "data": {
      "image/png": "[encoded data removed]",
      "text/plain": [
       "<matplotlib.figure.Figure at 0x16415d93b38>"
      ]
     },
     "metadata": {},
     "output_type": "display_data"
    }
   ],
   "source": [
    "# proviamo con i = 9\n",
    "i_ideale = 9\n",
    "j_ideale = 0\n",
    "err_min = 10000000\n",
    "error_list = list()\n",
    "for j in range(2,i_ideale):\n",
    "        clf = MLPClassifier(solver='lbfgs', alpha=1e-5, hidden_layer_sizes=(i, j), random_state=1)\n",
    "        clf.fit(train_features, train_target)       \n",
    "        error = sum(abs(np.array(clf.predict(train_features)) - np.array(train_target)))\n",
    "        error_list.append(error)\n",
    "    \n",
    "        if (error < err_min):\n",
    "            j_ideale = j\n",
    "            err_min = error\n",
    "    \n",
    "plt.plot(range(2,i_ideale), error_list)"
   ]
  },
  {
   "cell_type": "code",
   "execution_count": 20,
   "metadata": {},
   "outputs": [
    {
     "name": "stdout",
     "output_type": "stream",
     "text": [
      "layer 1: 9 layer 2: 5\n",
      "error: 443.0 \terror rate: 0.156261022928\n"
     ]
    }
   ],
   "source": [
    "print(\"layer 1:\", i_ideale, \"layer 2:\", j_ideale)\n",
    "clf = MLPClassifier(solver='lbfgs', alpha=1e-5, hidden_layer_sizes=(i_ideale, j_ideale), random_state=1)\n",
    "clf.fit(train_features, train_target)       \n",
    "error = sum(abs(np.array(clf.predict(train_features)) - np.array(train_target)))\n",
    "errorRate = error/len(df_train)\n",
    "print (\"error:\", error, \"\\terror rate:\", errorRate)\n",
    "\n",
    "# due hidden layer, dim 9 e 3, errori praticamente uguali a prima"
   ]
  },
  {
   "cell_type": "code",
   "execution_count": null,
   "metadata": {},
   "outputs": [],
   "source": []
  },
  {
   "cell_type": "code",
   "execution_count": 21,
   "metadata": {},
   "outputs": [],
   "source": [
    "# Cerchiamo i parametri migliori con il metodo del prof\n",
    "\n",
    "from sklearn.model_selection import RandomizedSearchCV\n",
    "from sklearn.metrics import make_scorer\n",
    "from sklearn.metrics import accuracy_score\n",
    "\n",
    "def report(results, n_top=3):\n",
    "    for i in range(1, n_top + 1):\n",
    "        candidates = np.flatnonzero(results['rank_test_score'] == i)\n",
    "        for candidate in candidates:\n",
    "            print(\"Model with rank: {0}\".format(i))\n",
    "            print(\"Mean validation score: {0:.3f} (std: {1:.3f})\".format(\n",
    "                  results['mean_test_score'][candidate],\n",
    "                  results['std_test_score'][candidate]))\n",
    "            print(\"Parameters: {0}\".format(results['params'][candidate]))\n",
    "            print(\"\")"
   ]
  },
  {
   "cell_type": "code",
   "execution_count": 22,
   "metadata": {},
   "outputs": [],
   "source": [
    "from random import randint\n",
    "\n",
    "clf = MLPClassifier(solver='lbfgs')\n",
    "\n",
    "param_dist = {'hidden_layer_sizes': [(randint(1,100), randint(1,100)) for _ in range(20)]\n",
    "             }\n",
    "\n",
    "n_iter_search = len(param_dist[\"hidden_layer_sizes\"])\n",
    "\n",
    "search = RandomizedSearchCV(clf, param_distributions=param_dist, n_iter=n_iter_search, \n",
    "                            n_jobs=10, scoring=make_scorer(accuracy_score))"
   ]
  },
  {
   "cell_type": "code",
   "execution_count": 23,
   "metadata": {},
   "outputs": [
    {
     "name": "stdout",
     "output_type": "stream",
     "text": [
      "Model with rank: 1\n",
      "Mean validation score: 0.841 (std: 0.010)\n",
      "Parameters: {'hidden_layer_sizes': (7, 20)}\n",
      "\n",
      "Model with rank: 2\n",
      "Mean validation score: 0.838 (std: 0.010)\n",
      "Parameters: {'hidden_layer_sizes': (37, 5)}\n",
      "\n",
      "Model with rank: 2\n",
      "Mean validation score: 0.838 (std: 0.007)\n",
      "Parameters: {'hidden_layer_sizes': (17, 48)}\n",
      "\n"
     ]
    }
   ],
   "source": [
    "search.fit(train_features, train_target)\n",
    "\n",
    "report(search.cv_results_, 3) #search.best_estimator_.estimators_[0]\n"
   ]
  },
  {
   "cell_type": "code",
   "execution_count": 24,
   "metadata": {},
   "outputs": [
    {
     "name": "stdout",
     "output_type": "stream",
     "text": [
      "Model with rank: 1\n",
      "Mean validation score: 0.837 (std: 0.010)\n",
      "Parameters: {'hidden_layer_sizes': (75, 187)}\n",
      "\n",
      "Model with rank: 2\n",
      "Mean validation score: 0.837 (std: 0.010)\n",
      "Parameters: {'hidden_layer_sizes': (346, 310)}\n",
      "\n",
      "Model with rank: 3\n",
      "Mean validation score: 0.836 (std: 0.008)\n",
      "Parameters: {'hidden_layer_sizes': (484, 468)}\n",
      "\n"
     ]
    }
   ],
   "source": [
    "# Proviamo con grid search invece che randomized search\n",
    "from sklearn.model_selection import GridSearchCV\n",
    "\n",
    "param_grid = {'hidden_layer_sizes': [(randint(1,500), randint(1,500)) for _ in range(20)]\n",
    "             }\n",
    "\n",
    "n_iter_search = len(param_dist[\"hidden_layer_sizes\"])\n",
    "\n",
    "search = GridSearchCV(clf, param_grid=param_grid, scoring=make_scorer(accuracy_score))\n",
    "search.fit(train_features, train_target)\n",
    "report(search.cv_results_, 3) #search.best_estimator_.estimators_[0]\n",
    "\n",
    "# come sopra"
   ]
  },
  {
   "cell_type": "code",
   "execution_count": null,
   "metadata": {},
   "outputs": [],
   "source": []
  },
  {
   "cell_type": "code",
   "execution_count": null,
   "metadata": {},
   "outputs": [],
   "source": []
  }
 ],
 "metadata": {
  "kernelspec": {
   "display_name": "Python 3",
   "language": "python",
   "name": "python3"
  },
  "language_info": {
   "codemirror_mode": {
    "name": "ipython",
    "version": 3
   },
   "file_extension": ".py",
   "mimetype": "text/x-python",
   "name": "python",
   "nbconvert_exporter": "python",
   "pygments_lexer": "ipython3",
   "version": "3.5.4"
  }
 },
 "nbformat": 4,
 "nbformat_minor": 2
}
