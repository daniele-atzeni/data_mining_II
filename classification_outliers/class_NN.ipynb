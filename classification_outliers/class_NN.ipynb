{
 "cells": [
  {
   "cell_type": "code",
   "execution_count": 1,
   "metadata": {},
   "outputs": [],
   "source": [
    "import pandas as pd"
   ]
  },
  {
   "cell_type": "code",
   "execution_count": 2,
   "metadata": {},
   "outputs": [
    {
     "data": {
      "text/html": [
       "<div>\n",
       "<style scoped>\n",
       "    .dataframe tbody tr th:only-of-type {\n",
       "        vertical-align: middle;\n",
       "    }\n",
       "\n",
       "    .dataframe tbody tr th {\n",
       "        vertical-align: top;\n",
       "    }\n",
       "\n",
       "    .dataframe thead th {\n",
       "        text-align: right;\n",
       "    }\n",
       "</style>\n",
       "<table border=\"1\" class=\"dataframe\">\n",
       "  <thead>\n",
       "    <tr style=\"text-align: right;\">\n",
       "      <th></th>\n",
       "      <th>sex</th>\n",
       "      <th>lenght</th>\n",
       "      <th>diameter</th>\n",
       "      <th>height</th>\n",
       "      <th>whole_weight</th>\n",
       "      <th>shucked_weight</th>\n",
       "      <th>viscera_weight</th>\n",
       "      <th>shell_weight</th>\n",
       "      <th>rings</th>\n",
       "    </tr>\n",
       "  </thead>\n",
       "  <tbody>\n",
       "    <tr>\n",
       "      <th>0</th>\n",
       "      <td>M</td>\n",
       "      <td>0.455</td>\n",
       "      <td>0.365</td>\n",
       "      <td>0.095</td>\n",
       "      <td>0.5140</td>\n",
       "      <td>0.2245</td>\n",
       "      <td>0.1010</td>\n",
       "      <td>0.150</td>\n",
       "      <td>15</td>\n",
       "    </tr>\n",
       "    <tr>\n",
       "      <th>1</th>\n",
       "      <td>M</td>\n",
       "      <td>0.350</td>\n",
       "      <td>0.265</td>\n",
       "      <td>0.090</td>\n",
       "      <td>0.2255</td>\n",
       "      <td>0.0995</td>\n",
       "      <td>0.0485</td>\n",
       "      <td>0.070</td>\n",
       "      <td>7</td>\n",
       "    </tr>\n",
       "    <tr>\n",
       "      <th>2</th>\n",
       "      <td>F</td>\n",
       "      <td>0.530</td>\n",
       "      <td>0.420</td>\n",
       "      <td>0.135</td>\n",
       "      <td>0.6770</td>\n",
       "      <td>0.2565</td>\n",
       "      <td>0.1415</td>\n",
       "      <td>0.210</td>\n",
       "      <td>9</td>\n",
       "    </tr>\n",
       "    <tr>\n",
       "      <th>3</th>\n",
       "      <td>M</td>\n",
       "      <td>0.440</td>\n",
       "      <td>0.365</td>\n",
       "      <td>0.125</td>\n",
       "      <td>0.5160</td>\n",
       "      <td>0.2155</td>\n",
       "      <td>0.1140</td>\n",
       "      <td>0.155</td>\n",
       "      <td>10</td>\n",
       "    </tr>\n",
       "    <tr>\n",
       "      <th>4</th>\n",
       "      <td>I</td>\n",
       "      <td>0.330</td>\n",
       "      <td>0.255</td>\n",
       "      <td>0.080</td>\n",
       "      <td>0.2050</td>\n",
       "      <td>0.0895</td>\n",
       "      <td>0.0395</td>\n",
       "      <td>0.055</td>\n",
       "      <td>7</td>\n",
       "    </tr>\n",
       "  </tbody>\n",
       "</table>\n",
       "</div>"
      ],
      "text/plain": [
       "  sex  lenght  diameter  height  whole_weight  shucked_weight  viscera_weight  \\\n",
       "0   M   0.455     0.365   0.095        0.5140          0.2245          0.1010   \n",
       "1   M   0.350     0.265   0.090        0.2255          0.0995          0.0485   \n",
       "2   F   0.530     0.420   0.135        0.6770          0.2565          0.1415   \n",
       "3   M   0.440     0.365   0.125        0.5160          0.2155          0.1140   \n",
       "4   I   0.330     0.255   0.080        0.2050          0.0895          0.0395   \n",
       "\n",
       "   shell_weight  rings  \n",
       "0         0.150     15  \n",
       "1         0.070      7  \n",
       "2         0.210      9  \n",
       "3         0.155     10  \n",
       "4         0.055      7  "
      ]
     },
     "execution_count": 2,
     "metadata": {},
     "output_type": "execute_result"
    }
   ],
   "source": [
    "df_train = pd.read_csv(\"abalone_data.csv\") \n",
    "df_train.head()\n",
    "# dobbiamo creare un modello che predica il numero di rings, dopo aver discretizzato l'attributo ring in due intervalli"
   ]
  },
  {
   "cell_type": "code",
   "execution_count": 3,
   "metadata": {},
   "outputs": [
    {
     "data": {
      "text/plain": [
       "4177"
      ]
     },
     "execution_count": 3,
     "metadata": {},
     "output_type": "execute_result"
    }
   ],
   "source": [
    "len(df_train)"
   ]
  },
  {
   "cell_type": "code",
   "execution_count": 4,
   "metadata": {},
   "outputs": [
    {
     "data": {
      "text/plain": [
       "2835"
      ]
     },
     "execution_count": 4,
     "metadata": {},
     "output_type": "execute_result"
    }
   ],
   "source": [
    "# dobbiamo scartare gli infanti\n",
    "df_train = df_train[df_train['sex'] != 'I']\n",
    "\n",
    "len(df_train)"
   ]
  },
  {
   "cell_type": "code",
   "execution_count": 5,
   "metadata": {},
   "outputs": [
    {
     "data": {
      "text/html": [
       "<div>\n",
       "<style scoped>\n",
       "    .dataframe tbody tr th:only-of-type {\n",
       "        vertical-align: middle;\n",
       "    }\n",
       "\n",
       "    .dataframe tbody tr th {\n",
       "        vertical-align: top;\n",
       "    }\n",
       "\n",
       "    .dataframe thead th {\n",
       "        text-align: right;\n",
       "    }\n",
       "</style>\n",
       "<table border=\"1\" class=\"dataframe\">\n",
       "  <thead>\n",
       "    <tr style=\"text-align: right;\">\n",
       "      <th></th>\n",
       "      <th>lenght</th>\n",
       "      <th>diameter</th>\n",
       "      <th>height</th>\n",
       "      <th>whole_weight</th>\n",
       "      <th>shucked_weight</th>\n",
       "      <th>viscera_weight</th>\n",
       "      <th>shell_weight</th>\n",
       "      <th>rings</th>\n",
       "      <th>sex_val</th>\n",
       "    </tr>\n",
       "  </thead>\n",
       "  <tbody>\n",
       "    <tr>\n",
       "      <th>0</th>\n",
       "      <td>0.455</td>\n",
       "      <td>0.365</td>\n",
       "      <td>0.095</td>\n",
       "      <td>0.5140</td>\n",
       "      <td>0.2245</td>\n",
       "      <td>0.1010</td>\n",
       "      <td>0.150</td>\n",
       "      <td>15</td>\n",
       "      <td>1</td>\n",
       "    </tr>\n",
       "    <tr>\n",
       "      <th>1</th>\n",
       "      <td>0.350</td>\n",
       "      <td>0.265</td>\n",
       "      <td>0.090</td>\n",
       "      <td>0.2255</td>\n",
       "      <td>0.0995</td>\n",
       "      <td>0.0485</td>\n",
       "      <td>0.070</td>\n",
       "      <td>7</td>\n",
       "      <td>1</td>\n",
       "    </tr>\n",
       "    <tr>\n",
       "      <th>2</th>\n",
       "      <td>0.530</td>\n",
       "      <td>0.420</td>\n",
       "      <td>0.135</td>\n",
       "      <td>0.6770</td>\n",
       "      <td>0.2565</td>\n",
       "      <td>0.1415</td>\n",
       "      <td>0.210</td>\n",
       "      <td>9</td>\n",
       "      <td>0</td>\n",
       "    </tr>\n",
       "    <tr>\n",
       "      <th>3</th>\n",
       "      <td>0.440</td>\n",
       "      <td>0.365</td>\n",
       "      <td>0.125</td>\n",
       "      <td>0.5160</td>\n",
       "      <td>0.2155</td>\n",
       "      <td>0.1140</td>\n",
       "      <td>0.155</td>\n",
       "      <td>10</td>\n",
       "      <td>1</td>\n",
       "    </tr>\n",
       "    <tr>\n",
       "      <th>6</th>\n",
       "      <td>0.530</td>\n",
       "      <td>0.415</td>\n",
       "      <td>0.150</td>\n",
       "      <td>0.7775</td>\n",
       "      <td>0.2370</td>\n",
       "      <td>0.1415</td>\n",
       "      <td>0.330</td>\n",
       "      <td>20</td>\n",
       "      <td>0</td>\n",
       "    </tr>\n",
       "  </tbody>\n",
       "</table>\n",
       "</div>"
      ],
      "text/plain": [
       "   lenght  diameter  height  whole_weight  shucked_weight  viscera_weight  \\\n",
       "0   0.455     0.365   0.095        0.5140          0.2245          0.1010   \n",
       "1   0.350     0.265   0.090        0.2255          0.0995          0.0485   \n",
       "2   0.530     0.420   0.135        0.6770          0.2565          0.1415   \n",
       "3   0.440     0.365   0.125        0.5160          0.2155          0.1140   \n",
       "6   0.530     0.415   0.150        0.7775          0.2370          0.1415   \n",
       "\n",
       "   shell_weight  rings  sex_val  \n",
       "0         0.150     15        1  \n",
       "1         0.070      7        1  \n",
       "2         0.210      9        0  \n",
       "3         0.155     10        1  \n",
       "6         0.330     20        0  "
      ]
     },
     "execution_count": 5,
     "metadata": {},
     "output_type": "execute_result"
    }
   ],
   "source": [
    "# Get the unique values of sex\n",
    "sexes = sorted(df_train['sex'].unique())\n",
    "    \n",
    "# Generate a mapping of sex from a string to a number representation    \n",
    "genders_mapping = dict(zip(sexes, range(0, len(sexes) + 1)))\n",
    "\n",
    "# Transform Sex from a string to a number representation\n",
    "df_train['sex_val'] = df_train['sex'].map(genders_mapping).astype(int)\n",
    "\n",
    "# Drop the coloumn sex\n",
    "df_train = df_train.drop(['sex'], axis=1)\n",
    "\n",
    "\n",
    "df_train.head()\n",
    "\n",
    "# F = 0, M = 1"
   ]
  },
  {
   "cell_type": "code",
   "execution_count": 6,
   "metadata": {},
   "outputs": [
    {
     "data": {
      "text/plain": [
       "count    2835.000000\n",
       "mean       10.900882\n",
       "std         3.069252\n",
       "min         3.000000\n",
       "25%         9.000000\n",
       "50%        10.000000\n",
       "75%        12.000000\n",
       "max        29.000000\n",
       "Name: rings, dtype: float64"
      ]
     },
     "execution_count": 6,
     "metadata": {},
     "output_type": "execute_result"
    }
   ],
   "source": [
    "df_train['rings'].describe()"
   ]
  },
  {
   "cell_type": "code",
   "execution_count": 7,
   "metadata": {},
   "outputs": [
    {
     "data": {
      "text/plain": [
       "(array([   3.,    6.,   15.,   43.,  124.,  294.,  516.,  542.,  425.,\n",
       "         246.,  179.,  112.,   93.,   60.,   51.,   37.,   30.,   24.,\n",
       "          13.,    6.,    9.,    2.,    1.,    1.,    2.,    1.]),\n",
       " array([  3.,   4.,   5.,   6.,   7.,   8.,   9.,  10.,  11.,  12.,  13.,\n",
       "         14.,  15.,  16.,  17.,  18.,  19.,  20.,  21.,  22.,  23.,  24.,\n",
       "         25.,  26.,  27.,  28.,  29.]),\n",
       " <a list of 26 Patch objects>)"
      ]
     },
     "execution_count": 7,
     "metadata": {},
     "output_type": "execute_result"
    },
    {
     "data": {
      "image/png": "[encoded data removed]",
      "text/plain": [
       "<matplotlib.figure.Figure at 0x1bbf71bf828>"
      ]
     },
     "metadata": {},
     "output_type": "display_data"
    }
   ],
   "source": [
    "%matplotlib inline\n",
    "import matplotlib.pyplot as plt\n",
    "\n",
    "plt.hist(df_train['rings'], bins=len(df_train['rings'].unique()))"
   ]
  },
  {
   "cell_type": "code",
   "execution_count": 8,
   "metadata": {},
   "outputs": [
    {
     "data": {
      "text/html": [
       "<div>\n",
       "<style scoped>\n",
       "    .dataframe tbody tr th:only-of-type {\n",
       "        vertical-align: middle;\n",
       "    }\n",
       "\n",
       "    .dataframe tbody tr th {\n",
       "        vertical-align: top;\n",
       "    }\n",
       "\n",
       "    .dataframe thead th {\n",
       "        text-align: right;\n",
       "    }\n",
       "</style>\n",
       "<table border=\"1\" class=\"dataframe\">\n",
       "  <thead>\n",
       "    <tr style=\"text-align: right;\">\n",
       "      <th></th>\n",
       "      <th>lenght</th>\n",
       "      <th>diameter</th>\n",
       "      <th>height</th>\n",
       "      <th>whole_weight</th>\n",
       "      <th>shucked_weight</th>\n",
       "      <th>viscera_weight</th>\n",
       "      <th>shell_weight</th>\n",
       "      <th>sex_val</th>\n",
       "      <th>class</th>\n",
       "    </tr>\n",
       "  </thead>\n",
       "  <tbody>\n",
       "    <tr>\n",
       "      <th>0</th>\n",
       "      <td>0.455</td>\n",
       "      <td>0.365</td>\n",
       "      <td>0.095</td>\n",
       "      <td>0.5140</td>\n",
       "      <td>0.2245</td>\n",
       "      <td>0.1010</td>\n",
       "      <td>0.150</td>\n",
       "      <td>1</td>\n",
       "      <td>1</td>\n",
       "    </tr>\n",
       "    <tr>\n",
       "      <th>1</th>\n",
       "      <td>0.350</td>\n",
       "      <td>0.265</td>\n",
       "      <td>0.090</td>\n",
       "      <td>0.2255</td>\n",
       "      <td>0.0995</td>\n",
       "      <td>0.0485</td>\n",
       "      <td>0.070</td>\n",
       "      <td>1</td>\n",
       "      <td>0</td>\n",
       "    </tr>\n",
       "    <tr>\n",
       "      <th>2</th>\n",
       "      <td>0.530</td>\n",
       "      <td>0.420</td>\n",
       "      <td>0.135</td>\n",
       "      <td>0.6770</td>\n",
       "      <td>0.2565</td>\n",
       "      <td>0.1415</td>\n",
       "      <td>0.210</td>\n",
       "      <td>0</td>\n",
       "      <td>0</td>\n",
       "    </tr>\n",
       "    <tr>\n",
       "      <th>3</th>\n",
       "      <td>0.440</td>\n",
       "      <td>0.365</td>\n",
       "      <td>0.125</td>\n",
       "      <td>0.5160</td>\n",
       "      <td>0.2155</td>\n",
       "      <td>0.1140</td>\n",
       "      <td>0.155</td>\n",
       "      <td>1</td>\n",
       "      <td>0</td>\n",
       "    </tr>\n",
       "    <tr>\n",
       "      <th>6</th>\n",
       "      <td>0.530</td>\n",
       "      <td>0.415</td>\n",
       "      <td>0.150</td>\n",
       "      <td>0.7775</td>\n",
       "      <td>0.2370</td>\n",
       "      <td>0.1415</td>\n",
       "      <td>0.330</td>\n",
       "      <td>0</td>\n",
       "      <td>1</td>\n",
       "    </tr>\n",
       "  </tbody>\n",
       "</table>\n",
       "</div>"
      ],
      "text/plain": [
       "   lenght  diameter  height  whole_weight  shucked_weight  viscera_weight  \\\n",
       "0   0.455     0.365   0.095        0.5140          0.2245          0.1010   \n",
       "1   0.350     0.265   0.090        0.2255          0.0995          0.0485   \n",
       "2   0.530     0.420   0.135        0.6770          0.2565          0.1415   \n",
       "3   0.440     0.365   0.125        0.5160          0.2155          0.1140   \n",
       "6   0.530     0.415   0.150        0.7775          0.2370          0.1415   \n",
       "\n",
       "   shell_weight  sex_val  class  \n",
       "0         0.150        1      1  \n",
       "1         0.070        1      0  \n",
       "2         0.210        0      0  \n",
       "3         0.155        1      0  \n",
       "6         0.330        0      1  "
      ]
     },
     "execution_count": 8,
     "metadata": {},
     "output_type": "execute_result"
    }
   ],
   "source": [
    "# discretizzazione dell'attributo rings\n",
    "med = df_train['rings'].median()        # utilizziamo dapprima la mediana\n",
    "\n",
    "# Generate a mapping of rings, 1 if rings > median    \n",
    "def rings_mapping(x):\n",
    "    if x > med:\n",
    "        return 1\n",
    "    return 0\n",
    "\n",
    "# Transform rings from an integer to a 0-1 representation\n",
    "df_train['class'] = df_train['rings'].map(rings_mapping).astype(int)\n",
    "\n",
    "# Drop the coloumn rings\n",
    "df_train = df_train.drop(['rings'], axis=1)\n",
    "\n",
    "df_train.head()"
   ]
  },
  {
   "cell_type": "code",
   "execution_count": 9,
   "metadata": {},
   "outputs": [
    {
     "data": {
      "text/plain": [
       "array([[ 0.455,  0.365,  0.095, ...,  0.15 ,  1.   ,  1.   ],\n",
       "       [ 0.35 ,  0.265,  0.09 , ...,  0.07 ,  1.   ,  0.   ],\n",
       "       [ 0.53 ,  0.42 ,  0.135, ...,  0.21 ,  0.   ,  0.   ],\n",
       "       ..., \n",
       "       [ 0.6  ,  0.475,  0.205, ...,  0.308,  1.   ,  0.   ],\n",
       "       [ 0.625,  0.485,  0.15 , ...,  0.296,  0.   ,  0.   ],\n",
       "       [ 0.71 ,  0.555,  0.195, ...,  0.495,  1.   ,  1.   ]])"
      ]
     },
     "execution_count": 9,
     "metadata": {},
     "output_type": "execute_result"
    }
   ],
   "source": [
    "# Convert the DataFrame to a numpy array:\n",
    "train_data = df_train.values\n",
    "train_data"
   ]
  },
  {
   "cell_type": "code",
   "execution_count": 10,
   "metadata": {},
   "outputs": [],
   "source": [
    "# Training data features, skip the last column 'class'\n",
    "train_features = train_data[:, :len(train_data[0])-1]\n",
    "\n",
    "# 'class' column values\n",
    "train_target = train_data[:, len(train_data[0])-1]"
   ]
  },
  {
   "cell_type": "code",
   "execution_count": null,
   "metadata": {},
   "outputs": [],
   "source": []
  },
  {
   "cell_type": "code",
   "execution_count": 11,
   "metadata": {},
   "outputs": [],
   "source": [
    "# FINE PREPARAZIONE DATASET"
   ]
  },
  {
   "cell_type": "code",
   "execution_count": null,
   "metadata": {},
   "outputs": [],
   "source": []
  },
  {
   "cell_type": "code",
   "execution_count": 12,
   "metadata": {},
   "outputs": [
    {
     "name": "stdout",
     "output_type": "stream",
     "text": [
      "Wall time: 2min 58s\n"
     ]
    },
    {
     "data": {
      "image/png": "[encoded data removed]",
      "text/plain": [
       "<matplotlib.figure.Figure at 0x1bbf9595e48>"
      ]
     },
     "metadata": {},
     "output_type": "display_data"
    }
   ],
   "source": [
    "%%time\n",
    "\n",
    "import numpy as np\n",
    "\n",
    "#\n",
    "# Neural Networks\n",
    "#\n",
    "# RICORDA\n",
    "# train_data = df_train.values\n",
    "# train_features = train_data[:, :len(train_data[0])-1]\n",
    "# train_target = train_data[:, len(train_data[0])-1]\n",
    "\n",
    "from sklearn.neural_network import MLPClassifier\n",
    "i_ideale = 0\n",
    "err_min = 10000000\n",
    "error_list = list()\n",
    "for i in range(5,100):\n",
    "        clf = MLPClassifier(solver='lbfgs', alpha=1e-5, hidden_layer_sizes=(i, i//2), random_state=1)\n",
    "        clf.fit(train_features, train_target)       \n",
    "        error = sum(abs(np.array(clf.predict(train_features)) - np.array(train_target)))\n",
    "        error_list.append(error)\n",
    "    \n",
    "        if (error < err_min):\n",
    "            i_ideale = i\n",
    "            err_min = error\n",
    "    \n",
    "plt.plot(range(5,100), error_list)"
   ]
  },
  {
   "cell_type": "code",
   "execution_count": 13,
   "metadata": {},
   "outputs": [
    {
     "name": "stdout",
     "output_type": "stream",
     "text": [
      "Wall time: 5min 18s\n"
     ]
    },
    {
     "data": {
      "image/png": "[encoded data removed]",
      "text/plain": [
       "<matplotlib.figure.Figure at 0x1bbf959d400>"
      ]
     },
     "metadata": {},
     "output_type": "display_data"
    }
   ],
   "source": [
    "%%time\n",
    "\n",
    "j_ideale = 0\n",
    "err_min = 10000000\n",
    "error_list = list()\n",
    "for j in range(2,i_ideale):\n",
    "        clf = MLPClassifier(solver='lbfgs', alpha=1e-5, hidden_layer_sizes=(i, j), random_state=1)\n",
    "        clf.fit(train_features, train_target)       \n",
    "        error = sum(abs(np.array(clf.predict(train_features)) - np.array(train_target)))\n",
    "        error_list.append(error)\n",
    "    \n",
    "        if (error < err_min):\n",
    "            j_ideale = j\n",
    "            err_min = error\n",
    "    \n",
    "plt.plot(range(2,i_ideale), error_list)"
   ]
  },
  {
   "cell_type": "code",
   "execution_count": 14,
   "metadata": {},
   "outputs": [
    {
     "name": "stdout",
     "output_type": "stream",
     "text": [
      "layer 1: 86 layer 2: 21\n",
      "error: 729.0 \terror rate: 0.257142857143\n"
     ]
    }
   ],
   "source": [
    "print(\"layer 1:\", i_ideale, \"layer 2:\", j_ideale)\n",
    "clf = MLPClassifier(solver='lbfgs', alpha=1e-5, hidden_layer_sizes=(i_ideale, j_ideale), random_state=1)\n",
    "clf.fit(train_features, train_target)       \n",
    "error = sum(abs(np.array(clf.predict(train_features)) - np.array(train_target)))\n",
    "errorRate = error/len(df_train)\n",
    "print (\"error:\", error, \"\\terror rate:\", errorRate)\n",
    "\n",
    "# quindi usando metodi abbastanza casuali ottengo due hidden layers, di dim 86 e 21\n",
    "# credo sia abbastanza overfitting comunque"
   ]
  },
  {
   "cell_type": "code",
   "execution_count": 15,
   "metadata": {},
   "outputs": [
    {
     "data": {
      "text/plain": [
       "[<matplotlib.lines.Line2D at 0x1bb80af1c88>]"
      ]
     },
     "execution_count": 15,
     "metadata": {},
     "output_type": "execute_result"
    },
    {
     "data": {
      "image/png": "[encoded data removed]",
      "text/plain": [
       "<matplotlib.figure.Figure at 0x1bbf8d0f4e0>"
      ]
     },
     "metadata": {},
     "output_type": "display_data"
    }
   ],
   "source": [
    "# II prova metodi casuali\n",
    "\n",
    "i_ideale = 0\n",
    "err_min = 10000000\n",
    "error_list = list()\n",
    "for i in range(5,21):\n",
    "        clf = MLPClassifier(solver='lbfgs', alpha=1e-5, hidden_layer_sizes=(i, i//2), random_state=1)\n",
    "        clf.fit(train_features, train_target)       \n",
    "        error = sum(abs(np.array(clf.predict(train_features)) - np.array(train_target)))\n",
    "        error_list.append(error)\n",
    "    \n",
    "        if (error < err_min):\n",
    "            i_ideale = i\n",
    "            err_min = error\n",
    "    \n",
    "plt.plot(range(5,21), error_list)"
   ]
  },
  {
   "cell_type": "code",
   "execution_count": 16,
   "metadata": {},
   "outputs": [
    {
     "data": {
      "text/plain": [
       "[<matplotlib.lines.Line2D at 0x1bb80898828>]"
      ]
     },
     "execution_count": 16,
     "metadata": {},
     "output_type": "execute_result"
    },
    {
     "data": {
      "image/png": "[encoded data removed]",
      "text/plain": [
       "<matplotlib.figure.Figure at 0x1bb80b0b0b8>"
      ]
     },
     "metadata": {},
     "output_type": "display_data"
    }
   ],
   "source": [
    "j_ideale = 0\n",
    "err_min = 10000000\n",
    "error_list = list()\n",
    "for j in range(2,i_ideale):\n",
    "        clf = MLPClassifier(solver='lbfgs', alpha=1e-5, hidden_layer_sizes=(i, j), random_state=1)\n",
    "        clf.fit(train_features, train_target)       \n",
    "        error = sum(abs(np.array(clf.predict(train_features)) - np.array(train_target)))\n",
    "        error_list.append(error)\n",
    "    \n",
    "        if (error < err_min):\n",
    "            j_ideale = j\n",
    "            err_min = error\n",
    "    \n",
    "plt.plot(range(2,i_ideale), error_list)"
   ]
  },
  {
   "cell_type": "code",
   "execution_count": 17,
   "metadata": {},
   "outputs": [
    {
     "name": "stdout",
     "output_type": "stream",
     "text": [
      "layer 1: 19 layer 2: 3\n",
      "error: 734.0 \terror rate: 0.258906525573\n"
     ]
    }
   ],
   "source": [
    "print(\"layer 1:\", i_ideale, \"layer 2:\", j_ideale)\n",
    "clf = MLPClassifier(solver='lbfgs', alpha=1e-5, hidden_layer_sizes=(i_ideale, j_ideale), random_state=1)\n",
    "clf.fit(train_features, train_target)       \n",
    "error = sum(abs(np.array(clf.predict(train_features)) - np.array(train_target)))\n",
    "errorRate = error/len(df_train)\n",
    "print (\"error:\", error, \"\\terror rate:\", errorRate)\n",
    "\n",
    "# ottengo sempre due layer, dimensioni 19 e 3, a discapito di un errore maggiore, ma di pochissimo"
   ]
  },
  {
   "cell_type": "code",
   "execution_count": 18,
   "metadata": {},
   "outputs": [
    {
     "data": {
      "text/plain": [
       "[array([[ -7.82319879e-02,  -2.76859890e-01,  -3.64044996e-01,\n",
       "          -7.25023132e-01,  -2.94220367e-01,  -7.59827926e-01,\n",
       "           1.67137239e-02,  -4.45891721e-01,  -9.73280407e-02,\n",
       "           4.21485820e-01,  -1.81475361e-01,   4.65329955e-01,\n",
       "          -2.78643608e-01,   3.17651968e-01,  -4.45580879e-01,\n",
       "           1.33772650e-01,   1.36657990e-01,  -2.05161947e-01,\n",
       "          -5.87631866e-01],\n",
       "        [ -2.84631131e-01,  -8.68280443e-02,   7.88070730e-01,\n",
       "          -6.87031027e-01,   2.44499675e-01,   1.06151929e-01,\n",
       "          -7.57578586e-01,  -6.37029838e-01,  -4.34581005e-01,\n",
       "          -1.27574198e-01,   2.75476334e-01,  -5.12627537e-01,\n",
       "          -7.43800486e-02,   4.97344604e-01,   3.12683641e-02,\n",
       "           1.60282349e-01,   5.73432035e-01,  -2.29614584e-02,\n",
       "           9.93735023e-02],\n",
       "        [ -4.54159751e-01,   1.01037914e-01,   5.45108566e-01,\n",
       "           1.31149617e-01,  -4.96698676e-01,   2.23654308e-01,\n",
       "          -1.97459038e-01,  -1.50576972e-01,   3.85225485e-01,\n",
       "          -8.40862626e-02,  -2.35333983e-01,  -2.73469993e-01,\n",
       "          -4.53142766e-01,  -8.46021926e-02,  -2.71878173e-01,\n",
       "          -2.27839009e-01,   1.17551311e-01,  -4.83205393e-01,\n",
       "          -2.70345438e-02],\n",
       "        [ -3.33065721e-01,  -9.11302785e-01,   5.44760569e-01,\n",
       "          -1.70474476e+00,  -6.17580342e-01,  -1.75311939e-01,\n",
       "          -6.94914261e-01,  -7.62706542e-01,   3.38432760e-02,\n",
       "           3.68355597e-01,  -1.48409836e-01,   4.57967343e-01,\n",
       "           8.16044405e-02,  -5.13437585e-01,  -3.41790308e-01,\n",
       "          -3.64580174e-01,   1.11292266e+00,  -4.38964209e-01,\n",
       "          -8.95152485e-01],\n",
       "        [  4.03056810e-01,  -6.68303872e-01,  -4.74881146e-01,\n",
       "           2.05975023e-01,   1.93660138e+00,  -5.31891765e-01,\n",
       "           2.77866618e+00,  -1.76877523e-01,  -2.16912910e-01,\n",
       "           6.26846058e-01,  -6.94955094e-02,   8.89500223e-01,\n",
       "           1.54093302e-01,   2.86208330e+00,  -3.63219047e-01,\n",
       "           4.12616600e-01,  -1.16226775e+00,  -1.20177904e-01,\n",
       "          -1.73322918e-01],\n",
       "        [ -2.47932021e-01,   1.44386366e-01,   1.23592485e-02,\n",
       "          -5.54725425e-01,  -1.80021068e-01,  -2.74406780e-01,\n",
       "           6.55567332e-01,   2.83470797e-01,  -1.34566645e-01,\n",
       "           4.80080628e-01,   7.77601863e-02,  -2.97634084e-01,\n",
       "           4.04875152e-01,   1.20712477e-01,   4.68877985e-01,\n",
       "          -3.14159110e-01,  -4.32705203e-01,   3.30803339e-01,\n",
       "           6.46150565e-02],\n",
       "        [ -4.09176784e-01,   1.77683548e-02,   7.14573215e-01,\n",
       "          -4.03164446e-01,  -7.58978597e-01,  -1.38784391e-01,\n",
       "          -1.10676497e+00,  -6.17422960e-01,  -4.44714541e-01,\n",
       "          -1.10590286e-01,   2.34624499e-01,   1.38450793e-01,\n",
       "           4.98007741e-02,  -1.20354974e+00,  -3.54330911e-01,\n",
       "          -2.15210207e-01,   7.97398281e-01,   3.67065203e-01,\n",
       "          -2.25367571e-01],\n",
       "        [ -4.53821273e-01,  -4.91158135e-01,   9.51593121e-02,\n",
       "          -2.63967253e-01,   1.06958439e+00,   2.49965995e-01,\n",
       "           1.89059850e-01,  -4.28515221e-01,  -3.42751476e-01,\n",
       "           6.43722346e-03,  -3.39450124e-01,   6.25922883e-02,\n",
       "          -3.70056115e-01,   7.69385583e-04,   2.00806868e-01,\n",
       "          -1.78360853e-03,   2.86236970e-01,  -4.00486154e-01,\n",
       "           2.00904118e-01]]),\n",
       " array([[  5.10340213e-01,   8.32907218e-02,  -1.25187796e-01],\n",
       "        [ -3.96643588e-01,   1.08054933e-01,   1.71984951e-01],\n",
       "        [ -5.89505798e-01,  -4.71687273e-01,  -2.51562059e-01],\n",
       "        [  1.48786824e+00,  -3.76839133e-01,   3.46612915e-01],\n",
       "        [ -1.43042372e+00,  -2.50335691e-01,   3.18304067e-01],\n",
       "        [  2.53894581e-04,  -6.18458706e-02,   1.04299781e-01],\n",
       "        [  1.46902201e+00,  -5.44785327e-01,  -3.53854755e-01],\n",
       "        [ -3.90972040e-03,   2.72632180e-01,   4.69033852e-01],\n",
       "        [  4.51177710e-01,  -5.07658324e-01,  -2.77448276e-01],\n",
       "        [  1.37987555e-01,   4.28028117e-01,   4.54060089e-01],\n",
       "        [ -1.88171838e-01,   3.65984342e-01,   1.49550256e-01],\n",
       "        [  6.58364128e-01,  -2.38220665e-01,   9.01471669e-02],\n",
       "        [  5.17508408e-02,   4.45129614e-01,   4.37350482e-01],\n",
       "        [ -1.35869923e+00,   3.44342165e-01,  -3.40540387e-01],\n",
       "        [ -3.90284011e-01,  -3.81145360e-01,   5.91390770e-03],\n",
       "        [ -5.00864176e-01,   4.60698291e-01,   3.43114544e-01],\n",
       "        [ -8.83575936e-01,  -3.78369786e-01,  -4.23674682e-01],\n",
       "        [ -3.27726660e-01,   2.64162742e-01,  -1.62166414e-01],\n",
       "        [  4.47283853e-01,   6.36783553e-02,   4.62166725e-01]]),\n",
       " array([[-4.42910536],\n",
       "        [ 0.24768982],\n",
       "        [-0.53603905]])]"
      ]
     },
     "execution_count": 18,
     "metadata": {},
     "output_type": "execute_result"
    }
   ],
   "source": [
    "# weights of the network\n",
    "clf.coefs_"
   ]
  },
  {
   "cell_type": "code",
   "execution_count": 19,
   "metadata": {},
   "outputs": [
    {
     "data": {
      "text/plain": [
       "[<matplotlib.lines.Line2D at 0x1bb808da048>]"
      ]
     },
     "execution_count": 19,
     "metadata": {},
     "output_type": "execute_result"
    },
    {
     "data": {
      "image/png": "[encoded data removed]",
      "text/plain": [
       "<matplotlib.figure.Figure at 0x1bb80bb5ac8>"
      ]
     },
     "metadata": {},
     "output_type": "display_data"
    }
   ],
   "source": [
    "# proviamo con i = 9\n",
    "i_ideale = 9\n",
    "j_ideale = 0\n",
    "err_min = 10000000\n",
    "error_list = list()\n",
    "for j in range(2,i_ideale):\n",
    "        clf = MLPClassifier(solver='lbfgs', alpha=1e-5, hidden_layer_sizes=(i, j), random_state=1)\n",
    "        clf.fit(train_features, train_target)       \n",
    "        error = sum(abs(np.array(clf.predict(train_features)) - np.array(train_target)))\n",
    "        error_list.append(error)\n",
    "    \n",
    "        if (error < err_min):\n",
    "            j_ideale = j\n",
    "            err_min = error\n",
    "    \n",
    "plt.plot(range(2,i_ideale), error_list)"
   ]
  },
  {
   "cell_type": "code",
   "execution_count": 20,
   "metadata": {},
   "outputs": [
    {
     "name": "stdout",
     "output_type": "stream",
     "text": [
      "layer 1: 9 layer 2: 3\n",
      "error: 739.0 \terror rate: 0.260670194004\n"
     ]
    }
   ],
   "source": [
    "print(\"layer 1:\", i_ideale, \"layer 2:\", j_ideale)\n",
    "clf = MLPClassifier(solver='lbfgs', alpha=1e-5, hidden_layer_sizes=(i_ideale, j_ideale), random_state=1)\n",
    "clf.fit(train_features, train_target)       \n",
    "error = sum(abs(np.array(clf.predict(train_features)) - np.array(train_target)))\n",
    "errorRate = error/len(df_train)\n",
    "print (\"error:\", error, \"\\terror rate:\", errorRate)\n",
    "\n",
    "# due hidden layer, dim 9 e 3, errori praticamente uguali a prima"
   ]
  },
  {
   "cell_type": "code",
   "execution_count": null,
   "metadata": {},
   "outputs": [],
   "source": []
  },
  {
   "cell_type": "code",
   "execution_count": 21,
   "metadata": {},
   "outputs": [],
   "source": [
    "# Cerchiamo i parametri migliori con il metodo del prof\n",
    "\n",
    "from sklearn.model_selection import RandomizedSearchCV\n",
    "from sklearn.metrics import make_scorer\n",
    "from sklearn.metrics import accuracy_score\n",
    "\n",
    "def report(results, n_top=3):\n",
    "    for i in range(1, n_top + 1):\n",
    "        candidates = np.flatnonzero(results['rank_test_score'] == i)\n",
    "        for candidate in candidates:\n",
    "            print(\"Model with rank: {0}\".format(i))\n",
    "            print(\"Mean validation score: {0:.3f} (std: {1:.3f})\".format(\n",
    "                  results['mean_test_score'][candidate],\n",
    "                  results['std_test_score'][candidate]))\n",
    "            print(\"Parameters: {0}\".format(results['params'][candidate]))\n",
    "            print(\"\")"
   ]
  },
  {
   "cell_type": "code",
   "execution_count": 22,
   "metadata": {},
   "outputs": [],
   "source": [
    "from random import randint\n",
    "\n",
    "clf = MLPClassifier(solver='lbfgs')\n",
    "\n",
    "param_dist = {'hidden_layer_sizes': [(randint(1,100), randint(1,100)) for _ in range(20)]\n",
    "             }\n",
    "\n",
    "n_iter_search = len(param_dist[\"hidden_layer_sizes\"])\n",
    "\n",
    "search = RandomizedSearchCV(clf, param_distributions=param_dist, n_iter=n_iter_search, \n",
    "                            n_jobs=10, scoring=make_scorer(accuracy_score))"
   ]
  },
  {
   "cell_type": "code",
   "execution_count": null,
   "metadata": {},
   "outputs": [
    {
     "name": "stdout",
     "output_type": "stream",
     "text": [
      "Model with rank: 1\n",
      "Mean validation score: 0.739 (std: 0.024)\n",
      "Parameters: {'hidden_layer_sizes': (8, 50)}\n",
      "\n",
      "Model with rank: 2\n",
      "Mean validation score: 0.737 (std: 0.022)\n",
      "Parameters: {'hidden_layer_sizes': (9, 60)}\n",
      "\n",
      "Model with rank: 3\n",
      "Mean validation score: 0.736 (std: 0.019)\n",
      "Parameters: {'hidden_layer_sizes': (76, 9)}\n",
      "\n"
     ]
    }
   ],
   "source": [
    "search.fit(train_features, train_target)\n",
    "\n",
    "report(search.cv_results_, 3) #search.best_estimator_.estimators_[0]\n"
   ]
  },
  {
   "cell_type": "code",
   "execution_count": null,
   "metadata": {},
   "outputs": [],
   "source": [
    "# Proviamo con grid search invece che randomized search\n",
    "from sklearn.model_selection import GridSearchCV\n",
    "\n",
    "param_grid = {'hidden_layer_sizes': [(randint(1,500), randint(1,500)) for _ in range(20)]\n",
    "             }\n",
    "\n",
    "n_iter_search = len(param_dist[\"hidden_layer_sizes\"])\n",
    "\n",
    "search = GridSearchCV(clf, param_grid=param_grid, scoring=make_scorer(accuracy_score))\n",
    "search.fit(train_features, train_target)\n",
    "report(search.cv_results_, 3) #search.best_estimator_.estimators_[0]\n",
    "\n",
    "# come sopra"
   ]
  },
  {
   "cell_type": "code",
   "execution_count": null,
   "metadata": {},
   "outputs": [],
   "source": []
  },
  {
   "cell_type": "code",
   "execution_count": null,
   "metadata": {},
   "outputs": [],
   "source": []
  }
 ],
 "metadata": {
  "kernelspec": {
   "display_name": "Python 3",
   "language": "python",
   "name": "python3"
  },
  "language_info": {
   "codemirror_mode": {
    "name": "ipython",
    "version": 3
   },
   "file_extension": ".py",
   "mimetype": "text/x-python",
   "name": "python",
   "nbconvert_exporter": "python",
   "pygments_lexer": "ipython3",
   "version": "3.5.4"
  }
 },
 "nbformat": 4,
 "nbformat_minor": 2
}
