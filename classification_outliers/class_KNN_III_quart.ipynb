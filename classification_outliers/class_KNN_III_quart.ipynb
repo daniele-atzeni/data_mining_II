{
 "cells": [
  {
   "cell_type": "code",
   "execution_count": 1,
   "metadata": {},
   "outputs": [],
   "source": [
    "import pandas as pd"
   ]
  },
  {
   "cell_type": "code",
   "execution_count": 2,
   "metadata": {},
   "outputs": [
    {
     "data": {
      "text/html": [
       "<div>\n",
       "<style scoped>\n",
       "    .dataframe tbody tr th:only-of-type {\n",
       "        vertical-align: middle;\n",
       "    }\n",
       "\n",
       "    .dataframe tbody tr th {\n",
       "        vertical-align: top;\n",
       "    }\n",
       "\n",
       "    .dataframe thead th {\n",
       "        text-align: right;\n",
       "    }\n",
       "</style>\n",
       "<table border=\"1\" class=\"dataframe\">\n",
       "  <thead>\n",
       "    <tr style=\"text-align: right;\">\n",
       "      <th></th>\n",
       "      <th>sex</th>\n",
       "      <th>lenght</th>\n",
       "      <th>diameter</th>\n",
       "      <th>height</th>\n",
       "      <th>whole_weight</th>\n",
       "      <th>shucked_weight</th>\n",
       "      <th>viscera_weight</th>\n",
       "      <th>shell_weight</th>\n",
       "      <th>rings</th>\n",
       "    </tr>\n",
       "  </thead>\n",
       "  <tbody>\n",
       "    <tr>\n",
       "      <th>0</th>\n",
       "      <td>M</td>\n",
       "      <td>0.455</td>\n",
       "      <td>0.365</td>\n",
       "      <td>0.095</td>\n",
       "      <td>0.5140</td>\n",
       "      <td>0.2245</td>\n",
       "      <td>0.1010</td>\n",
       "      <td>0.150</td>\n",
       "      <td>15</td>\n",
       "    </tr>\n",
       "    <tr>\n",
       "      <th>1</th>\n",
       "      <td>M</td>\n",
       "      <td>0.350</td>\n",
       "      <td>0.265</td>\n",
       "      <td>0.090</td>\n",
       "      <td>0.2255</td>\n",
       "      <td>0.0995</td>\n",
       "      <td>0.0485</td>\n",
       "      <td>0.070</td>\n",
       "      <td>7</td>\n",
       "    </tr>\n",
       "    <tr>\n",
       "      <th>2</th>\n",
       "      <td>F</td>\n",
       "      <td>0.530</td>\n",
       "      <td>0.420</td>\n",
       "      <td>0.135</td>\n",
       "      <td>0.6770</td>\n",
       "      <td>0.2565</td>\n",
       "      <td>0.1415</td>\n",
       "      <td>0.210</td>\n",
       "      <td>9</td>\n",
       "    </tr>\n",
       "    <tr>\n",
       "      <th>3</th>\n",
       "      <td>M</td>\n",
       "      <td>0.440</td>\n",
       "      <td>0.365</td>\n",
       "      <td>0.125</td>\n",
       "      <td>0.5160</td>\n",
       "      <td>0.2155</td>\n",
       "      <td>0.1140</td>\n",
       "      <td>0.155</td>\n",
       "      <td>10</td>\n",
       "    </tr>\n",
       "    <tr>\n",
       "      <th>4</th>\n",
       "      <td>I</td>\n",
       "      <td>0.330</td>\n",
       "      <td>0.255</td>\n",
       "      <td>0.080</td>\n",
       "      <td>0.2050</td>\n",
       "      <td>0.0895</td>\n",
       "      <td>0.0395</td>\n",
       "      <td>0.055</td>\n",
       "      <td>7</td>\n",
       "    </tr>\n",
       "  </tbody>\n",
       "</table>\n",
       "</div>"
      ],
      "text/plain": [
       "  sex  lenght  diameter  height  whole_weight  shucked_weight  viscera_weight  \\\n",
       "0   M   0.455     0.365   0.095        0.5140          0.2245          0.1010   \n",
       "1   M   0.350     0.265   0.090        0.2255          0.0995          0.0485   \n",
       "2   F   0.530     0.420   0.135        0.6770          0.2565          0.1415   \n",
       "3   M   0.440     0.365   0.125        0.5160          0.2155          0.1140   \n",
       "4   I   0.330     0.255   0.080        0.2050          0.0895          0.0395   \n",
       "\n",
       "   shell_weight  rings  \n",
       "0         0.150     15  \n",
       "1         0.070      7  \n",
       "2         0.210      9  \n",
       "3         0.155     10  \n",
       "4         0.055      7  "
      ]
     },
     "execution_count": 2,
     "metadata": {},
     "output_type": "execute_result"
    }
   ],
   "source": [
    "df_train = pd.read_csv(\"abalone_data.csv\") \n",
    "df_train.head()\n",
    "# dobbiamo creare un modello che predica il numero di rings, dopo aver discretizzato l'attributo ring in due intervalli"
   ]
  },
  {
   "cell_type": "code",
   "execution_count": 3,
   "metadata": {},
   "outputs": [
    {
     "data": {
      "text/plain": [
       "4177"
      ]
     },
     "execution_count": 3,
     "metadata": {},
     "output_type": "execute_result"
    }
   ],
   "source": [
    "len(df_train)"
   ]
  },
  {
   "cell_type": "code",
   "execution_count": 4,
   "metadata": {},
   "outputs": [
    {
     "data": {
      "text/plain": [
       "2835"
      ]
     },
     "execution_count": 4,
     "metadata": {},
     "output_type": "execute_result"
    }
   ],
   "source": [
    "# dobbiamo scartare gli infanti\n",
    "df_train = df_train[df_train['sex'] != 'I']\n",
    "\n",
    "len(df_train)"
   ]
  },
  {
   "cell_type": "code",
   "execution_count": 5,
   "metadata": {},
   "outputs": [
    {
     "data": {
      "text/html": [
       "<div>\n",
       "<style scoped>\n",
       "    .dataframe tbody tr th:only-of-type {\n",
       "        vertical-align: middle;\n",
       "    }\n",
       "\n",
       "    .dataframe tbody tr th {\n",
       "        vertical-align: top;\n",
       "    }\n",
       "\n",
       "    .dataframe thead th {\n",
       "        text-align: right;\n",
       "    }\n",
       "</style>\n",
       "<table border=\"1\" class=\"dataframe\">\n",
       "  <thead>\n",
       "    <tr style=\"text-align: right;\">\n",
       "      <th></th>\n",
       "      <th>lenght</th>\n",
       "      <th>diameter</th>\n",
       "      <th>height</th>\n",
       "      <th>whole_weight</th>\n",
       "      <th>shucked_weight</th>\n",
       "      <th>viscera_weight</th>\n",
       "      <th>shell_weight</th>\n",
       "      <th>rings</th>\n",
       "    </tr>\n",
       "  </thead>\n",
       "  <tbody>\n",
       "    <tr>\n",
       "      <th>0</th>\n",
       "      <td>0.455</td>\n",
       "      <td>0.365</td>\n",
       "      <td>0.095</td>\n",
       "      <td>0.5140</td>\n",
       "      <td>0.2245</td>\n",
       "      <td>0.1010</td>\n",
       "      <td>0.150</td>\n",
       "      <td>15</td>\n",
       "    </tr>\n",
       "    <tr>\n",
       "      <th>1</th>\n",
       "      <td>0.350</td>\n",
       "      <td>0.265</td>\n",
       "      <td>0.090</td>\n",
       "      <td>0.2255</td>\n",
       "      <td>0.0995</td>\n",
       "      <td>0.0485</td>\n",
       "      <td>0.070</td>\n",
       "      <td>7</td>\n",
       "    </tr>\n",
       "    <tr>\n",
       "      <th>2</th>\n",
       "      <td>0.530</td>\n",
       "      <td>0.420</td>\n",
       "      <td>0.135</td>\n",
       "      <td>0.6770</td>\n",
       "      <td>0.2565</td>\n",
       "      <td>0.1415</td>\n",
       "      <td>0.210</td>\n",
       "      <td>9</td>\n",
       "    </tr>\n",
       "    <tr>\n",
       "      <th>3</th>\n",
       "      <td>0.440</td>\n",
       "      <td>0.365</td>\n",
       "      <td>0.125</td>\n",
       "      <td>0.5160</td>\n",
       "      <td>0.2155</td>\n",
       "      <td>0.1140</td>\n",
       "      <td>0.155</td>\n",
       "      <td>10</td>\n",
       "    </tr>\n",
       "    <tr>\n",
       "      <th>6</th>\n",
       "      <td>0.530</td>\n",
       "      <td>0.415</td>\n",
       "      <td>0.150</td>\n",
       "      <td>0.7775</td>\n",
       "      <td>0.2370</td>\n",
       "      <td>0.1415</td>\n",
       "      <td>0.330</td>\n",
       "      <td>20</td>\n",
       "    </tr>\n",
       "  </tbody>\n",
       "</table>\n",
       "</div>"
      ],
      "text/plain": [
       "   lenght  diameter  height  whole_weight  shucked_weight  viscera_weight  \\\n",
       "0   0.455     0.365   0.095        0.5140          0.2245          0.1010   \n",
       "1   0.350     0.265   0.090        0.2255          0.0995          0.0485   \n",
       "2   0.530     0.420   0.135        0.6770          0.2565          0.1415   \n",
       "3   0.440     0.365   0.125        0.5160          0.2155          0.1140   \n",
       "6   0.530     0.415   0.150        0.7775          0.2370          0.1415   \n",
       "\n",
       "   shell_weight  rings  \n",
       "0         0.150     15  \n",
       "1         0.070      7  \n",
       "2         0.210      9  \n",
       "3         0.155     10  \n",
       "6         0.330     20  "
      ]
     },
     "execution_count": 5,
     "metadata": {},
     "output_type": "execute_result"
    }
   ],
   "source": [
    "# Non serve la colonna sex nel KNN\n",
    "\n",
    "# Drop the coloumn sex\n",
    "df_train = df_train.drop(['sex'], axis=1)\n",
    "\n",
    "\n",
    "df_train.head()\n"
   ]
  },
  {
   "cell_type": "code",
   "execution_count": 6,
   "metadata": {},
   "outputs": [
    {
     "data": {
      "text/plain": [
       "count    2835.000000\n",
       "mean       10.900882\n",
       "std         3.069252\n",
       "min         3.000000\n",
       "25%         9.000000\n",
       "50%        10.000000\n",
       "75%        12.000000\n",
       "max        29.000000\n",
       "Name: rings, dtype: float64"
      ]
     },
     "execution_count": 6,
     "metadata": {},
     "output_type": "execute_result"
    }
   ],
   "source": [
    "df_train['rings'].describe()"
   ]
  },
  {
   "cell_type": "code",
   "execution_count": 7,
   "metadata": {},
   "outputs": [
    {
     "data": {
      "text/plain": [
       "(array([   3.,    6.,   15.,   43.,  124.,  294.,  516.,  542.,  425.,\n",
       "         246.,  179.,  112.,   93.,   60.,   51.,   37.,   30.,   24.,\n",
       "          13.,    6.,    9.,    2.,    1.,    1.,    2.,    1.]),\n",
       " array([  3.,   4.,   5.,   6.,   7.,   8.,   9.,  10.,  11.,  12.,  13.,\n",
       "         14.,  15.,  16.,  17.,  18.,  19.,  20.,  21.,  22.,  23.,  24.,\n",
       "         25.,  26.,  27.,  28.,  29.]),\n",
       " <a list of 26 Patch objects>)"
      ]
     },
     "execution_count": 7,
     "metadata": {},
     "output_type": "execute_result"
    },
    {
     "data": {
      "image/png": "[encoded data removed]",
      "text/plain": [
       "<matplotlib.figure.Figure at 0x195ac6dc400>"
      ]
     },
     "metadata": {},
     "output_type": "display_data"
    }
   ],
   "source": [
    "%matplotlib inline\n",
    "import matplotlib.pyplot as plt\n",
    "\n",
    "plt.hist(df_train['rings'], bins=len(df_train['rings'].unique()))"
   ]
  },
  {
   "cell_type": "code",
   "execution_count": 8,
   "metadata": {},
   "outputs": [],
   "source": [
    "# discretizzazione dell'attributo rings\n",
    "III_quart = df_train['rings'].quantile(0.75)        # utilizziamo il terzo quartile\n",
    "\n",
    "# Generate a mapping of rings, 1 if rings > III quart    \n",
    "def rings_mapping(x):\n",
    "    if x > III_quart:\n",
    "        return 1\n",
    "    return 0\n",
    "\n",
    "# Transform rings from an integer to a 0-1 representation\n",
    "df_train['class'] = df_train['rings'].map(rings_mapping).astype(int)\n",
    "\n",
    "# Drop the coloumn rings\n",
    "df_train = df_train.drop(['rings'], axis=1)"
   ]
  },
  {
   "cell_type": "code",
   "execution_count": 9,
   "metadata": {},
   "outputs": [
    {
     "data": {
      "text/plain": [
       "array([[ 0.455 ,  0.365 ,  0.095 , ...,  0.101 ,  0.15  ,  1.    ],\n",
       "       [ 0.35  ,  0.265 ,  0.09  , ...,  0.0485,  0.07  ,  0.    ],\n",
       "       [ 0.53  ,  0.42  ,  0.135 , ...,  0.1415,  0.21  ,  0.    ],\n",
       "       ..., \n",
       "       [ 0.6   ,  0.475 ,  0.205 , ...,  0.2875,  0.308 ,  0.    ],\n",
       "       [ 0.625 ,  0.485 ,  0.15  , ...,  0.261 ,  0.296 ,  0.    ],\n",
       "       [ 0.71  ,  0.555 ,  0.195 , ...,  0.3765,  0.495 ,  0.    ]])"
      ]
     },
     "execution_count": 9,
     "metadata": {},
     "output_type": "execute_result"
    }
   ],
   "source": [
    "# Convert the DataFrame to a numpy array:\n",
    "train_data = df_train.values\n",
    "train_data"
   ]
  },
  {
   "cell_type": "code",
   "execution_count": 10,
   "metadata": {},
   "outputs": [],
   "source": [
    "# Training data features, skip the last column 'class'\n",
    "train_features = train_data[:, :len(train_data[0])-1]\n",
    "\n",
    "# 'class' column values\n",
    "train_target = train_data[:, len(train_data[0])-1]"
   ]
  },
  {
   "cell_type": "code",
   "execution_count": 11,
   "metadata": {},
   "outputs": [
    {
     "name": "stderr",
     "output_type": "stream",
     "text": [
      "C:\\Users\\danie\\Anaconda3\\lib\\site-packages\\sklearn\\cross_validation.py:41: DeprecationWarning: This module was deprecated in version 0.18 in favor of the model_selection module into which all the refactored classes and functions are moved. Also note that the interface of the new CV iterators are different from that of this module. This module will be removed in 0.20.\n",
      "  \"This module will be removed in 0.20.\", DeprecationWarning)\n"
     ]
    }
   ],
   "source": [
    "from sklearn.cross_validation import train_test_split\n",
    "\n",
    "train_x, test_x, train_y, test_y = train_test_split(train_features, \n",
    "                                                    train_target, \n",
    "                                                    test_size=0.10, \n",
    "                                                    random_state=0)\n",
    "# train_x = attributi su cui allenare, training set\n",
    "# train_y = attributo da classificare, training set\n",
    "# test_x = attributi su cui allenare, test set\n",
    "# test_y = attributo da classificare, test set"
   ]
  },
  {
   "cell_type": "code",
   "execution_count": 12,
   "metadata": {},
   "outputs": [],
   "source": [
    "# FINE PREPARAZIONE DATASET"
   ]
  },
  {
   "cell_type": "code",
   "execution_count": null,
   "metadata": {},
   "outputs": [],
   "source": []
  },
  {
   "cell_type": "code",
   "execution_count": 13,
   "metadata": {},
   "outputs": [],
   "source": [
    "#\n",
    "# k-NN\n",
    "#\n",
    "from sklearn import neighbors\n",
    "import numpy as np"
   ]
  },
  {
   "cell_type": "code",
   "execution_count": 14,
   "metadata": {},
   "outputs": [
    {
     "data": {
      "text/plain": [
       "[<matplotlib.lines.Line2D at 0x195adfb2cf8>]"
      ]
     },
     "execution_count": 14,
     "metadata": {},
     "output_type": "execute_result"
    },
    {
     "data": {
      "image/png": "[encoded data removed]",
      "text/plain": [
       "<matplotlib.figure.Figure at 0x195adf85d30>"
      ]
     },
     "metadata": {},
     "output_type": "display_data"
    }
   ],
   "source": [
    "k_max = 100\n",
    "error_list = list(())\n",
    "for i in range(2, k_max):\n",
    "    n_neighbors = i\n",
    "    clf = neighbors.KNeighborsClassifier(n_neighbors, weights='uniform')\n",
    "    clf.fit(train_features, train_target)\n",
    "    error_list.append(sum(abs(np.array(clf.predict(train_features)) - np.array(train_target))))\n",
    "\n",
    "plt.plot((range(2, k_max)), error_list)\n",
    "\n",
    "# Il migliore dovrebbe essere k=3"
   ]
  },
  {
   "cell_type": "code",
   "execution_count": 15,
   "metadata": {},
   "outputs": [
    {
     "data": {
      "text/plain": [
       "Text(0.5,1,'auc')"
      ]
     },
     "execution_count": 15,
     "metadata": {},
     "output_type": "execute_result"
    },
    {
     "data": {
      "image/png": "[encoded data removed]",
      "text/plain": [
       "<matplotlib.figure.Figure at 0x195aef9acf8>"
      ]
     },
     "metadata": {},
     "output_type": "display_data"
    }
   ],
   "source": [
    "from sklearn.metrics import roc_curve, auc\n",
    "\n",
    "k_max = 100\n",
    "auc_list = list(())\n",
    "for i in range(2, k_max):\n",
    "    n_neighbors = i\n",
    "    clf = neighbors.KNeighborsClassifier(n_neighbors, weights='uniform')\n",
    "    clf.fit(train_features, train_target)\n",
    "    \n",
    "    y_score = clf.predict_proba(test_x)     \n",
    "\n",
    "    fpr, tpr, _ =  roc_curve(test_y, y_score[:,1])\n",
    "    roc_auc = auc(fpr, tpr)\n",
    "    \n",
    "    auc_list.append(roc_auc)\n",
    "    \n",
    "plt.plot((range(2, k_max)), auc_list)\n",
    "plt.title('auc')\n",
    "\n",
    "# i migliori sembrano 2 e 3"
   ]
  },
  {
   "cell_type": "code",
   "execution_count": 16,
   "metadata": {},
   "outputs": [],
   "source": [
    "# Cerchiamo i parametri migliori con il metodo del prof\n",
    "\n",
    "from sklearn.model_selection import RandomizedSearchCV\n",
    "from sklearn.metrics import make_scorer\n",
    "from sklearn.metrics import accuracy_score\n",
    "\n",
    "def report(results, n_top=3):\n",
    "    for i in range(1, n_top + 1):\n",
    "        candidates = np.flatnonzero(results['rank_test_score'] == i)\n",
    "        for candidate in candidates:\n",
    "            print(\"Model with rank: {0}\".format(i))\n",
    "            print(\"Mean validation score: {0:.3f} (std: {1:.3f})\".format(\n",
    "                  results['mean_test_score'][candidate],\n",
    "                  results['std_test_score'][candidate]))\n",
    "            print(\"Parameters: {0}\".format(results['params'][candidate]))\n",
    "            print(\"\")"
   ]
  },
  {
   "cell_type": "code",
   "execution_count": 17,
   "metadata": {},
   "outputs": [],
   "source": [
    "clf = neighbors.KNeighborsClassifier()\n",
    "\n",
    "param_dist = {\"n_neighbors\": list(range(2,50)),\n",
    "              \"weights\": ['uniform']\n",
    "             }\n",
    "\n",
    "n_iter_search = len(param_dist[\"n_neighbors\"])*len(param_dist[\"weights\"])\n",
    "\n",
    "search = RandomizedSearchCV(clf, param_distributions=param_dist, n_iter=n_iter_search, \n",
    "                            n_jobs=10, scoring=make_scorer(accuracy_score))"
   ]
  },
  {
   "cell_type": "code",
   "execution_count": 18,
   "metadata": {},
   "outputs": [
    {
     "name": "stdout",
     "output_type": "stream",
     "text": [
      "Model with rank: 1\n",
      "Mean validation score: 0.824 (std: 0.003)\n",
      "Parameters: {'weights': 'uniform', 'n_neighbors': 11}\n",
      "\n",
      "Model with rank: 2\n",
      "Mean validation score: 0.823 (std: 0.004)\n",
      "Parameters: {'weights': 'uniform', 'n_neighbors': 13}\n",
      "\n",
      "Model with rank: 3\n",
      "Mean validation score: 0.822 (std: 0.011)\n",
      "Parameters: {'weights': 'uniform', 'n_neighbors': 21}\n",
      "\n",
      "Model with rank: 3\n",
      "Mean validation score: 0.822 (std: 0.013)\n",
      "Parameters: {'weights': 'uniform', 'n_neighbors': 27}\n",
      "\n"
     ]
    }
   ],
   "source": [
    "search.fit(train_features, train_target)\n",
    "\n",
    "report(search.cv_results_, 3) #search.best_estimator_.estimators_[0]\n",
    "# non viene 3, viene 37"
   ]
  },
  {
   "cell_type": "code",
   "execution_count": 19,
   "metadata": {},
   "outputs": [
    {
     "name": "stdout",
     "output_type": "stream",
     "text": [
      "Model with rank: 1\n",
      "Mean validation score: 0.824 (std: 0.003)\n",
      "Parameters: {'weights': 'uniform', 'n_neighbors': 11}\n",
      "\n",
      "Model with rank: 2\n",
      "Mean validation score: 0.823 (std: 0.004)\n",
      "Parameters: {'weights': 'uniform', 'n_neighbors': 13}\n",
      "\n",
      "Model with rank: 3\n",
      "Mean validation score: 0.822 (std: 0.011)\n",
      "Parameters: {'weights': 'uniform', 'n_neighbors': 21}\n",
      "\n",
      "Model with rank: 3\n",
      "Mean validation score: 0.822 (std: 0.013)\n",
      "Parameters: {'weights': 'uniform', 'n_neighbors': 27}\n",
      "\n"
     ]
    }
   ],
   "source": [
    "# Proviamo con grid search invece che randomized search\n",
    "from sklearn.model_selection import GridSearchCV\n",
    "\n",
    "param_grid = {\"n_neighbors\": list(range(2,50)),\n",
    "              \"weights\": ['uniform']\n",
    "             }\n",
    "\n",
    "#n_iter_search = len(param_dist[\"n_neighbors\"])*len(param_dist[\"weights\"])\n",
    "\n",
    "search = GridSearchCV(clf, param_grid=param_grid, scoring=make_scorer(accuracy_score))\n",
    "search.fit(train_features, train_target)\n",
    "report(search.cv_results_, 3) #search.best_estimator_.estimators_[0]\n",
    "\n",
    "# come sopra"
   ]
  },
  {
   "cell_type": "code",
   "execution_count": null,
   "metadata": {},
   "outputs": [],
   "source": []
  },
  {
   "cell_type": "code",
   "execution_count": 20,
   "metadata": {},
   "outputs": [
    {
     "data": {
      "text/plain": [
       "[<matplotlib.lines.Line2D at 0x195af06e898>]"
      ]
     },
     "execution_count": 20,
     "metadata": {},
     "output_type": "execute_result"
    },
    {
     "data": {
      "image/png": "[encoded data removed]",
      "text/plain": [
       "<matplotlib.figure.Figure at 0x195af04c518>"
      ]
     },
     "metadata": {},
     "output_type": "display_data"
    }
   ],
   "source": [
    "# Proviamo con weight = distance\n",
    "\n",
    "k_max = 100\n",
    "error_list = list(())\n",
    "for i in range(2, k_max):\n",
    "    n_neighbors = i\n",
    "    clf = neighbors.KNeighborsClassifier(n_neighbors, weights='distance')\n",
    "    clf.fit(train_features, train_target)\n",
    "    error_list.append(sum(abs(np.array(clf.predict(train_features)) - np.array(train_target))))\n",
    "\n",
    "plt.plot((range(2, k_max)), error_list)\n",
    "\n",
    "# Fa tutto giusto per ogni k\n",
    "# Proviamo a non usare tutto il dataset come trainig set"
   ]
  },
  {
   "cell_type": "code",
   "execution_count": 21,
   "metadata": {},
   "outputs": [
    {
     "data": {
      "text/plain": [
       "[<matplotlib.lines.Line2D at 0x195af0a5c18>]"
      ]
     },
     "execution_count": 21,
     "metadata": {},
     "output_type": "execute_result"
    },
    {
     "data": {
      "image/png": "[encoded data removed]",
      "text/plain": [
       "<matplotlib.figure.Figure at 0x195af083f28>"
      ]
     },
     "metadata": {},
     "output_type": "display_data"
    }
   ],
   "source": [
    "# RICORDA    train_x, test_x, train_y, test_y = train_test_split(train_features, train_target, test_size=0.10, random_state=0)\n",
    "\n",
    "k_max = 100\n",
    "error_list = list(())\n",
    "for i in range(2, k_max):\n",
    "    n_neighbors = i\n",
    "    clf = neighbors.KNeighborsClassifier(n_neighbors, weights='distance')\n",
    "    clf.fit(train_x, train_y)\n",
    "    error_list.append(sum(abs(np.array(clf.predict(test_x)) - np.array(test_y))))\n",
    "\n",
    "plt.plot((range(2, k_max)), error_list)\n",
    "\n",
    "# sembra un po piu interessante"
   ]
  },
  {
   "cell_type": "code",
   "execution_count": 22,
   "metadata": {},
   "outputs": [
    {
     "data": {
      "text/plain": [
       "[<matplotlib.lines.Line2D at 0x195af0dff60>]"
      ]
     },
     "execution_count": 22,
     "metadata": {},
     "output_type": "execute_result"
    },
    {
     "data": {
      "image/png": "[encoded data removed]",
      "text/plain": [
       "<matplotlib.figure.Figure at 0x195af091940>"
      ]
     },
     "metadata": {},
     "output_type": "display_data"
    }
   ],
   "source": [
    "k_max = 46\n",
    "error_list = list(())\n",
    "for i in range(2, k_max):\n",
    "    n_neighbors = i\n",
    "    clf = neighbors.KNeighborsClassifier(n_neighbors, weights='distance')\n",
    "    clf.fit(train_x, train_y)\n",
    "    error_list.append(sum(abs(np.array(clf.predict(test_x)) - np.array(test_y))))\n",
    "\n",
    "plt.plot((range(2, k_max)), error_list)\n",
    "\n",
    "# i migliori sono 10 e 14"
   ]
  },
  {
   "cell_type": "code",
   "execution_count": 23,
   "metadata": {},
   "outputs": [
    {
     "data": {
      "text/plain": [
       "Text(0.5,1,'auc')"
      ]
     },
     "execution_count": 23,
     "metadata": {},
     "output_type": "execute_result"
    },
    {
     "data": {
      "image/png": "[encoded data removed]",
      "text/plain": [
       "<matplotlib.figure.Figure at 0x195af0f05f8>"
      ]
     },
     "metadata": {},
     "output_type": "display_data"
    }
   ],
   "source": [
    "k_max = 100\n",
    "auc_list = list(())\n",
    "for i in range(2, k_max):\n",
    "    n_neighbors = i\n",
    "    clf = neighbors.KNeighborsClassifier(n_neighbors, weights='distance')\n",
    "    clf.fit(train_x, train_y)    \n",
    "    \n",
    "    y_score = clf.predict_proba(test_x)     \n",
    "\n",
    "    fpr, tpr, _ =  roc_curve(test_y, y_score[:,1])\n",
    "    roc_auc = auc(fpr, tpr)\n",
    "    \n",
    "    auc_list.append(roc_auc)\n",
    "    \n",
    "plt.plot((range(2, k_max)), auc_list)\n",
    "plt.title('auc')"
   ]
  },
  {
   "cell_type": "code",
   "execution_count": 24,
   "metadata": {},
   "outputs": [
    {
     "data": {
      "text/plain": [
       "[<matplotlib.lines.Line2D at 0x195af151eb8>]"
      ]
     },
     "execution_count": 24,
     "metadata": {},
     "output_type": "execute_result"
    },
    {
     "data": {
      "image/png": "[encoded data removed]",
      "text/plain": [
       "<matplotlib.figure.Figure at 0x195af107630>"
      ]
     },
     "metadata": {},
     "output_type": "display_data"
    }
   ],
   "source": [
    "k_max = 56\n",
    "auc_list = list(())\n",
    "for i in range(2, k_max):\n",
    "    n_neighbors = i\n",
    "    clf = neighbors.KNeighborsClassifier(n_neighbors, weights='distance')\n",
    "    clf.fit(train_x, train_y)    \n",
    "    \n",
    "    y_score = clf.predict_proba(test_x)     \n",
    "\n",
    "    fpr, tpr, _ =  roc_curve(test_y, y_score[:,1])\n",
    "    roc_auc = auc(fpr, tpr)\n",
    "    \n",
    "    auc_list.append(roc_auc)\n",
    "    \n",
    "plt.plot((range(2, k_max)), auc_list)\n",
    "\n",
    "# 11, 13"
   ]
  },
  {
   "cell_type": "code",
   "execution_count": 25,
   "metadata": {},
   "outputs": [
    {
     "name": "stdout",
     "output_type": "stream",
     "text": [
      "Model with rank: 1\n",
      "Mean validation score: 0.833 (std: 0.008)\n",
      "Parameters: {'weights': 'uniform', 'n_neighbors': 13}\n",
      "\n",
      "Model with rank: 2\n",
      "Mean validation score: 0.833 (std: 0.008)\n",
      "Parameters: {'weights': 'uniform', 'n_neighbors': 15}\n",
      "\n",
      "Model with rank: 3\n",
      "Mean validation score: 0.832 (std: 0.010)\n",
      "Parameters: {'weights': 'uniform', 'n_neighbors': 19}\n",
      "\n",
      "Model with rank: 3\n",
      "Mean validation score: 0.832 (std: 0.007)\n",
      "Parameters: {'weights': 'uniform', 'n_neighbors': 21}\n",
      "\n"
     ]
    }
   ],
   "source": [
    "clf = neighbors.KNeighborsClassifier()\n",
    "\n",
    "param_dist = {\"n_neighbors\": list(range(2,50)),\n",
    "              \"weights\": ['uniform']\n",
    "             }\n",
    "\n",
    "n_iter_search = len(param_dist[\"n_neighbors\"])*len(param_dist[\"weights\"])\n",
    "\n",
    "search = RandomizedSearchCV(clf, param_distributions=param_dist, n_iter=n_iter_search, \n",
    "                            n_jobs=10, scoring=make_scorer(accuracy_score))\n",
    "search.fit(train_x, train_y)\n",
    "report(search.cv_results_, 3) #search.best_estimator_.estimators_[0]\n",
    "# qua dà 44 e 42"
   ]
  },
  {
   "cell_type": "code",
   "execution_count": 26,
   "metadata": {},
   "outputs": [
    {
     "name": "stdout",
     "output_type": "stream",
     "text": [
      "Model with rank: 1\n",
      "Mean validation score: 0.833 (std: 0.008)\n",
      "Parameters: {'weights': 'uniform', 'n_neighbors': 13}\n",
      "\n",
      "Model with rank: 2\n",
      "Mean validation score: 0.833 (std: 0.008)\n",
      "Parameters: {'weights': 'uniform', 'n_neighbors': 15}\n",
      "\n",
      "Model with rank: 3\n",
      "Mean validation score: 0.832 (std: 0.010)\n",
      "Parameters: {'weights': 'uniform', 'n_neighbors': 19}\n",
      "\n",
      "Model with rank: 3\n",
      "Mean validation score: 0.832 (std: 0.007)\n",
      "Parameters: {'weights': 'uniform', 'n_neighbors': 21}\n",
      "\n"
     ]
    }
   ],
   "source": [
    "# Proviamo con grid search invece che randomized search\n",
    "\n",
    "param_grid = {\"n_neighbors\": list(range(2,50)),\n",
    "              \"weights\": ['uniform']\n",
    "             }\n",
    "\n",
    "n_iter_search = len(param_dist[\"n_neighbors\"])*len(param_dist[\"weights\"])\n",
    "\n",
    "search = GridSearchCV(clf, param_grid=param_grid, scoring=make_scorer(accuracy_score))\n",
    "search.fit(train_x, train_y)\n",
    "report(search.cv_results_, 3) #search.best_estimator_.estimators_[0]\n",
    "# come sopra"
   ]
  },
  {
   "cell_type": "code",
   "execution_count": null,
   "metadata": {},
   "outputs": [],
   "source": []
  },
  {
   "cell_type": "code",
   "execution_count": 27,
   "metadata": {},
   "outputs": [
    {
     "data": {
      "text/plain": [
       "[<matplotlib.lines.Line2D at 0x195af193e10>]"
      ]
     },
     "execution_count": 27,
     "metadata": {},
     "output_type": "execute_result"
    },
    {
     "data": {
      "image/png": "[encoded data removed]",
      "text/plain": [
       "<matplotlib.figure.Figure at 0x195af077b00>"
      ]
     },
     "metadata": {},
     "output_type": "display_data"
    }
   ],
   "source": [
    "# Proviamo con gli attributi normalizzati, weight = uniform\n",
    "\n",
    "train_features_norm = (train_features - train_features.mean(axis=0))/ train_features.std(axis=0)\n",
    "\n",
    "k_max = 100\n",
    "error_list = list(())\n",
    "for i in range(2, k_max):\n",
    "    n_neighbors = i\n",
    "    clf = neighbors.KNeighborsClassifier(n_neighbors, weights='uniform')\n",
    "    clf.fit(train_features_norm, train_target)\n",
    "    error_list.append(sum(abs(np.array(clf.predict(train_features_norm)) - np.array(train_target))))\n",
    "    \n",
    "plt.plot((range(2, k_max)), error_list)\n",
    "\n",
    "# I migliori sembrano 2 e 4"
   ]
  },
  {
   "cell_type": "code",
   "execution_count": 28,
   "metadata": {},
   "outputs": [
    {
     "data": {
      "text/plain": [
       "[<matplotlib.lines.Line2D at 0x195af1d22b0>]"
      ]
     },
     "execution_count": 28,
     "metadata": {},
     "output_type": "execute_result"
    },
    {
     "data": {
      "image/png": "[encoded data removed]",
      "text/plain": [
       "<matplotlib.figure.Figure at 0x195af1abc88>"
      ]
     },
     "metadata": {},
     "output_type": "display_data"
    }
   ],
   "source": [
    "k_max = 100\n",
    "auc_list = list(())\n",
    "for i in range(2, k_max):\n",
    "    n_neighbors = i\n",
    "    clf = neighbors.KNeighborsClassifier(n_neighbors, weights='uniform')\n",
    "    clf.fit(train_features_norm, train_target)\n",
    "    \n",
    "    y_score = clf.predict_proba(test_x)     \n",
    "\n",
    "    fpr, tpr, _ =  roc_curve(test_y, y_score[:,1])\n",
    "    roc_auc = auc(fpr, tpr)\n",
    "    \n",
    "    auc_list.append(roc_auc)\n",
    "    \n",
    "plt.plot((range(2, k_max)), auc_list)\n",
    "# 22"
   ]
  },
  {
   "cell_type": "code",
   "execution_count": 29,
   "metadata": {},
   "outputs": [
    {
     "name": "stdout",
     "output_type": "stream",
     "text": [
      "Model with rank: 1\n",
      "Mean validation score: 0.817 (std: 0.009)\n",
      "Parameters: {'weights': 'uniform', 'n_neighbors': 21}\n",
      "\n",
      "Model with rank: 2\n",
      "Mean validation score: 0.817 (std: 0.010)\n",
      "Parameters: {'weights': 'uniform', 'n_neighbors': 15}\n",
      "\n",
      "Model with rank: 3\n",
      "Mean validation score: 0.817 (std: 0.009)\n",
      "Parameters: {'weights': 'uniform', 'n_neighbors': 19}\n",
      "\n",
      "Model with rank: 3\n",
      "Mean validation score: 0.817 (std: 0.010)\n",
      "Parameters: {'weights': 'uniform', 'n_neighbors': 23}\n",
      "\n"
     ]
    }
   ],
   "source": [
    "clf = neighbors.KNeighborsClassifier()\n",
    "\n",
    "param_dist = {\"n_neighbors\": list(range(2,50)),\n",
    "              \"weights\": ['uniform']\n",
    "             }\n",
    "\n",
    "n_iter_search = len(param_dist[\"n_neighbors\"])*len(param_dist[\"weights\"])\n",
    "\n",
    "search = RandomizedSearchCV(clf, param_distributions=param_dist, n_iter=n_iter_search, \n",
    "                            n_jobs=10, scoring=make_scorer(accuracy_score))\n",
    "search.fit(train_features_norm, train_target)\n",
    "report(search.cv_results_, 3) #search.best_estimator_.estimators_[0]\n",
    "# invece qua dà 35 e 39"
   ]
  },
  {
   "cell_type": "code",
   "execution_count": 30,
   "metadata": {},
   "outputs": [
    {
     "name": "stdout",
     "output_type": "stream",
     "text": [
      "Model with rank: 1\n",
      "Mean validation score: 0.817 (std: 0.009)\n",
      "Parameters: {'weights': 'uniform', 'n_neighbors': 21}\n",
      "\n",
      "Model with rank: 2\n",
      "Mean validation score: 0.817 (std: 0.010)\n",
      "Parameters: {'weights': 'uniform', 'n_neighbors': 15}\n",
      "\n",
      "Model with rank: 3\n",
      "Mean validation score: 0.817 (std: 0.009)\n",
      "Parameters: {'weights': 'uniform', 'n_neighbors': 19}\n",
      "\n",
      "Model with rank: 3\n",
      "Mean validation score: 0.817 (std: 0.010)\n",
      "Parameters: {'weights': 'uniform', 'n_neighbors': 23}\n",
      "\n"
     ]
    }
   ],
   "source": [
    "# Proviamo con grid search invece che randomized search\n",
    "\n",
    "param_grid = {\"n_neighbors\": list(range(2,50)),\n",
    "              \"weights\": ['uniform']\n",
    "             }\n",
    "\n",
    "n_iter_search = len(param_dist[\"n_neighbors\"])*len(param_dist[\"weights\"])\n",
    "\n",
    "search = GridSearchCV(clf, param_grid=param_grid, scoring=make_scorer(accuracy_score))\n",
    "search.fit(train_features_norm, train_target)\n",
    "report(search.cv_results_, 3) #search.best_estimator_.estimators_[0]\n",
    "# come sopra"
   ]
  },
  {
   "cell_type": "code",
   "execution_count": null,
   "metadata": {},
   "outputs": [],
   "source": []
  },
  {
   "cell_type": "code",
   "execution_count": 31,
   "metadata": {},
   "outputs": [
    {
     "data": {
      "text/plain": [
       "[<matplotlib.lines.Line2D at 0x195b01e0390>]"
      ]
     },
     "execution_count": 31,
     "metadata": {},
     "output_type": "execute_result"
    },
    {
     "data": {
      "image/png": "[encoded data removed]",
      "text/plain": [
       "<matplotlib.figure.Figure at 0x195af1f1dd8>"
      ]
     },
     "metadata": {},
     "output_type": "display_data"
    }
   ],
   "source": [
    "# Proviamo con weight = distance\n",
    "\n",
    "# RICORDA    train_features_norm = (train_features - train_features.mean(axis=0))/ train_features.std(axis=0)\n",
    "\n",
    "k_max = 100\n",
    "error_list = list(())\n",
    "for i in range(2, k_max):\n",
    "    n_neighbors = i\n",
    "    clf = neighbors.KNeighborsClassifier(n_neighbors, weights='distance')\n",
    "    clf.fit(train_features_norm, train_target)\n",
    "    error_list.append(sum(abs(np.array(clf.predict(train_features_norm)) - np.array(train_target))))\n",
    "\n",
    "plt.plot((range(2, k_max)), error_list)\n",
    "\n",
    "# Viene di nuovo tutto giusto"
   ]
  },
  {
   "cell_type": "code",
   "execution_count": 32,
   "metadata": {},
   "outputs": [
    {
     "data": {
      "text/plain": [
       "[<matplotlib.lines.Line2D at 0x195b02189e8>]"
      ]
     },
     "execution_count": 32,
     "metadata": {},
     "output_type": "execute_result"
    },
    {
     "data": {
      "image/png": "[encoded data removed]",
      "text/plain": [
       "<matplotlib.figure.Figure at 0x195af162198>"
      ]
     },
     "metadata": {},
     "output_type": "display_data"
    }
   ],
   "source": [
    "train_xN, test_xN, train_yN, test_yN = train_test_split(train_features_norm, train_target, test_size=0.10, random_state=0)\n",
    "\n",
    "k_max = 100\n",
    "error_list_test = list(())\n",
    "for i in range(2, k_max):\n",
    "    n_neighbors = i\n",
    "    clf = neighbors.KNeighborsClassifier(n_neighbors, weights='distance')\n",
    "    clf.fit(train_xN, train_yN)\n",
    "    error_list_test.append(sum(abs(np.array(clf.predict(test_xN)) - np.array(test_yN))))\n",
    "\n",
    "plt.plot((range(2, k_max)), error_list_test)\n",
    "\n",
    "# sembra un po' più interessante, di nuovo\n",
    "# difficile capire i migliori"
   ]
  },
  {
   "cell_type": "code",
   "execution_count": 33,
   "metadata": {},
   "outputs": [
    {
     "data": {
      "text/plain": [
       "[<matplotlib.lines.Line2D at 0x195b0254470>]"
      ]
     },
     "execution_count": 33,
     "metadata": {},
     "output_type": "execute_result"
    },
    {
     "data": {
      "image/png": "[encoded data removed]",
      "text/plain": [
       "<matplotlib.figure.Figure at 0x195af05b6a0>"
      ]
     },
     "metadata": {},
     "output_type": "display_data"
    }
   ],
   "source": [
    "k_max = 35\n",
    "error_list_test = list(())\n",
    "for i in range(2, k_max):\n",
    "    n_neighbors = i\n",
    "    clf = neighbors.KNeighborsClassifier(n_neighbors, weights='distance')\n",
    "    clf.fit(train_xN, train_yN)\n",
    "    error_list_test.append(sum(abs(np.array(clf.predict(test_xN)) - np.array(test_yN))))\n",
    "\n",
    "plt.plot((range(2, k_max)), error_list_test)\n",
    "\n",
    "# i migliori sono 10, 14, 16..."
   ]
  },
  {
   "cell_type": "code",
   "execution_count": 34,
   "metadata": {},
   "outputs": [
    {
     "data": {
      "text/plain": [
       "[<matplotlib.lines.Line2D at 0x195b0292b38>]"
      ]
     },
     "execution_count": 34,
     "metadata": {},
     "output_type": "execute_result"
    },
    {
     "data": {
      "image/png": "[encoded data removed]",
      "text/plain": [
       "<matplotlib.figure.Figure at 0x195b0254e10>"
      ]
     },
     "metadata": {},
     "output_type": "display_data"
    }
   ],
   "source": [
    "k_max = 100\n",
    "auc_list = list(())\n",
    "for i in range(2, k_max):\n",
    "    n_neighbors = i\n",
    "    clf = neighbors.KNeighborsClassifier(n_neighbors, weights='distance')\n",
    "    clf.fit(train_x, train_y)    \n",
    "    \n",
    "    y_score = clf.predict_proba(test_x)     \n",
    "\n",
    "    fpr, tpr, _ =  roc_curve(test_y, y_score[:,1])\n",
    "    roc_auc = auc(fpr, tpr)\n",
    "    \n",
    "    auc_list.append(roc_auc)\n",
    "    \n",
    "plt.plot((range(2, k_max)), auc_list)\n",
    "# valori buoni"
   ]
  },
  {
   "cell_type": "code",
   "execution_count": 35,
   "metadata": {},
   "outputs": [
    {
     "data": {
      "text/plain": [
       "[<matplotlib.lines.Line2D at 0x195b02cd550>]"
      ]
     },
     "execution_count": 35,
     "metadata": {},
     "output_type": "execute_result"
    },
    {
     "data": {
      "image/png": "[encoded data removed]",
      "text/plain": [
       "<matplotlib.figure.Figure at 0x195b027c1d0>"
      ]
     },
     "metadata": {},
     "output_type": "display_data"
    }
   ],
   "source": [
    "k_max = 60\n",
    "auc_list = list(())\n",
    "for i in range(2, k_max):\n",
    "    n_neighbors = i\n",
    "    clf = neighbors.KNeighborsClassifier(n_neighbors, weights='distance')\n",
    "    clf.fit(train_x, train_y)    \n",
    "    \n",
    "    y_score = clf.predict_proba(test_x)     \n",
    "\n",
    "    fpr, tpr, _ =  roc_curve(test_y, y_score[:,1])\n",
    "    roc_auc = auc(fpr, tpr)\n",
    "    \n",
    "    auc_list.append(roc_auc)\n",
    "    \n",
    "plt.plot((range(2, k_max)), auc_list)\n",
    "# 12 e 14"
   ]
  },
  {
   "cell_type": "code",
   "execution_count": 36,
   "metadata": {},
   "outputs": [
    {
     "name": "stdout",
     "output_type": "stream",
     "text": [
      "Model with rank: 1\n",
      "Mean validation score: 0.829 (std: 0.006)\n",
      "Parameters: {'weights': 'uniform', 'n_neighbors': 11}\n",
      "\n",
      "Model with rank: 2\n",
      "Mean validation score: 0.828 (std: 0.003)\n",
      "Parameters: {'weights': 'uniform', 'n_neighbors': 17}\n",
      "\n",
      "Model with rank: 3\n",
      "Mean validation score: 0.828 (std: 0.004)\n",
      "Parameters: {'weights': 'uniform', 'n_neighbors': 13}\n",
      "\n"
     ]
    }
   ],
   "source": [
    "clf = neighbors.KNeighborsClassifier()\n",
    "\n",
    "param_dist = {\"n_neighbors\": list(range(2,50)),\n",
    "              \"weights\": ['uniform']\n",
    "             }\n",
    "\n",
    "n_iter_search = len(param_dist[\"n_neighbors\"])*len(param_dist[\"weights\"])\n",
    "\n",
    "search = RandomizedSearchCV(clf, param_distributions=param_dist, n_iter=n_iter_search, \n",
    "                            n_jobs=10, scoring=make_scorer(accuracy_score))\n",
    "search.fit(train_xN, train_yN)\n",
    "report(search.cv_results_, 3) #search.best_estimator_.estimators_[0]\n",
    "# qua dà 30 e 31"
   ]
  },
  {
   "cell_type": "code",
   "execution_count": 37,
   "metadata": {},
   "outputs": [
    {
     "name": "stdout",
     "output_type": "stream",
     "text": [
      "Model with rank: 1\n",
      "Mean validation score: 0.829 (std: 0.006)\n",
      "Parameters: {'weights': 'uniform', 'n_neighbors': 11}\n",
      "\n",
      "Model with rank: 2\n",
      "Mean validation score: 0.828 (std: 0.003)\n",
      "Parameters: {'weights': 'uniform', 'n_neighbors': 17}\n",
      "\n",
      "Model with rank: 3\n",
      "Mean validation score: 0.828 (std: 0.004)\n",
      "Parameters: {'weights': 'uniform', 'n_neighbors': 13}\n",
      "\n"
     ]
    }
   ],
   "source": [
    "# Proviamo con grid search invece che randomized search\n",
    "\n",
    "param_grid = {\"n_neighbors\": list(range(2,50)),\n",
    "              \"weights\": ['uniform']\n",
    "             }\n",
    "\n",
    "n_iter_search = len(param_dist[\"n_neighbors\"])*len(param_dist[\"weights\"])\n",
    "\n",
    "search = GridSearchCV(clf, param_grid=param_grid, scoring=make_scorer(accuracy_score))\n",
    "search.fit(train_xN, train_yN)\n",
    "report(search.cv_results_, 3) #search.best_estimator_.estimators_[0]\n",
    "# come sopra"
   ]
  },
  {
   "cell_type": "code",
   "execution_count": null,
   "metadata": {},
   "outputs": [],
   "source": []
  },
  {
   "cell_type": "code",
   "execution_count": 38,
   "metadata": {},
   "outputs": [],
   "source": [
    "# QUINDI QUALI PARAMETRI SCEGLIERE?? USANDO TUTTO IL DATASET COME TRAINING SET O SOLO UNA PARTE??"
   ]
  },
  {
   "cell_type": "code",
   "execution_count": null,
   "metadata": {},
   "outputs": [],
   "source": []
  }
 ],
 "metadata": {
  "kernelspec": {
   "display_name": "Python 3",
   "language": "python",
   "name": "python3"
  },
  "language_info": {
   "codemirror_mode": {
    "name": "ipython",
    "version": 3
   },
   "file_extension": ".py",
   "mimetype": "text/x-python",
   "name": "python",
   "nbconvert_exporter": "python",
   "pygments_lexer": "ipython3",
   "version": "3.5.4"
  }
 },
 "nbformat": 4,
 "nbformat_minor": 2
}
