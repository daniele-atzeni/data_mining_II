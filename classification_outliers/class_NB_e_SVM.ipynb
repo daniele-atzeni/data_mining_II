{
 "cells": [
  {
   "cell_type": "code",
   "execution_count": 1,
   "metadata": {},
   "outputs": [
    {
     "name": "stderr",
     "output_type": "stream",
     "text": [
      "C:\\Users\\danie\\Anaconda3\\lib\\site-packages\\sklearn\\cross_validation.py:41: DeprecationWarning: This module was deprecated in version 0.18 in favor of the model_selection module into which all the refactored classes and functions are moved. Also note that the interface of the new CV iterators are different from that of this module. This module will be removed in 0.20.\n",
      "  \"This module will be removed in 0.20.\", DeprecationWarning)\n"
     ]
    }
   ],
   "source": [
    "%matplotlib inline\n",
    "import math\n",
    "import random\n",
    "import numpy as np\n",
    "import pandas as pd\n",
    "import scipy.stats as stats\n",
    "import matplotlib.pyplot as plt\n",
    "from collections import defaultdict\n",
    "from scipy.stats.stats import pearsonr\n",
    "\n",
    "from sklearn import tree\n",
    "from sklearn import metrics\n",
    "from sklearn.tree import export_graphviz\n",
    "from sklearn.ensemble import RandomForestClassifier, ExtraTreesClassifier\n",
    "from sklearn.metrics import confusion_matrix\n",
    "from sklearn.cross_validation import train_test_split\n",
    "from sklearn import cross_validation\n",
    "from sklearn.cross_validation import cross_val_score\n",
    "from sklearn import neighbors\n",
    "from sklearn import linear_model\n",
    "from sklearn.naive_bayes import GaussianNB\n",
    "from sklearn import svm"
   ]
  },
  {
   "cell_type": "code",
   "execution_count": 2,
   "metadata": {},
   "outputs": [],
   "source": [
    "df_train = pd.read_csv(\"abalone_data.csv\") "
   ]
  },
  {
   "cell_type": "code",
   "execution_count": 3,
   "metadata": {},
   "outputs": [
    {
     "data": {
      "text/html": [
       "<div>\n",
       "<style scoped>\n",
       "    .dataframe tbody tr th:only-of-type {\n",
       "        vertical-align: middle;\n",
       "    }\n",
       "\n",
       "    .dataframe tbody tr th {\n",
       "        vertical-align: top;\n",
       "    }\n",
       "\n",
       "    .dataframe thead th {\n",
       "        text-align: right;\n",
       "    }\n",
       "</style>\n",
       "<table border=\"1\" class=\"dataframe\">\n",
       "  <thead>\n",
       "    <tr style=\"text-align: right;\">\n",
       "      <th></th>\n",
       "      <th>sex</th>\n",
       "      <th>lenght</th>\n",
       "      <th>diameter</th>\n",
       "      <th>height</th>\n",
       "      <th>whole_weight</th>\n",
       "      <th>shucked_weight</th>\n",
       "      <th>viscera_weight</th>\n",
       "      <th>shell_weight</th>\n",
       "      <th>rings</th>\n",
       "    </tr>\n",
       "  </thead>\n",
       "  <tbody>\n",
       "    <tr>\n",
       "      <th>0</th>\n",
       "      <td>M</td>\n",
       "      <td>0.455</td>\n",
       "      <td>0.365</td>\n",
       "      <td>0.095</td>\n",
       "      <td>0.5140</td>\n",
       "      <td>0.2245</td>\n",
       "      <td>0.1010</td>\n",
       "      <td>0.150</td>\n",
       "      <td>15</td>\n",
       "    </tr>\n",
       "    <tr>\n",
       "      <th>1</th>\n",
       "      <td>M</td>\n",
       "      <td>0.350</td>\n",
       "      <td>0.265</td>\n",
       "      <td>0.090</td>\n",
       "      <td>0.2255</td>\n",
       "      <td>0.0995</td>\n",
       "      <td>0.0485</td>\n",
       "      <td>0.070</td>\n",
       "      <td>7</td>\n",
       "    </tr>\n",
       "    <tr>\n",
       "      <th>2</th>\n",
       "      <td>F</td>\n",
       "      <td>0.530</td>\n",
       "      <td>0.420</td>\n",
       "      <td>0.135</td>\n",
       "      <td>0.6770</td>\n",
       "      <td>0.2565</td>\n",
       "      <td>0.1415</td>\n",
       "      <td>0.210</td>\n",
       "      <td>9</td>\n",
       "    </tr>\n",
       "    <tr>\n",
       "      <th>3</th>\n",
       "      <td>M</td>\n",
       "      <td>0.440</td>\n",
       "      <td>0.365</td>\n",
       "      <td>0.125</td>\n",
       "      <td>0.5160</td>\n",
       "      <td>0.2155</td>\n",
       "      <td>0.1140</td>\n",
       "      <td>0.155</td>\n",
       "      <td>10</td>\n",
       "    </tr>\n",
       "    <tr>\n",
       "      <th>4</th>\n",
       "      <td>I</td>\n",
       "      <td>0.330</td>\n",
       "      <td>0.255</td>\n",
       "      <td>0.080</td>\n",
       "      <td>0.2050</td>\n",
       "      <td>0.0895</td>\n",
       "      <td>0.0395</td>\n",
       "      <td>0.055</td>\n",
       "      <td>7</td>\n",
       "    </tr>\n",
       "  </tbody>\n",
       "</table>\n",
       "</div>"
      ],
      "text/plain": [
       "  sex  lenght  diameter  height  whole_weight  shucked_weight  viscera_weight  \\\n",
       "0   M   0.455     0.365   0.095        0.5140          0.2245          0.1010   \n",
       "1   M   0.350     0.265   0.090        0.2255          0.0995          0.0485   \n",
       "2   F   0.530     0.420   0.135        0.6770          0.2565          0.1415   \n",
       "3   M   0.440     0.365   0.125        0.5160          0.2155          0.1140   \n",
       "4   I   0.330     0.255   0.080        0.2050          0.0895          0.0395   \n",
       "\n",
       "   shell_weight  rings  \n",
       "0         0.150     15  \n",
       "1         0.070      7  \n",
       "2         0.210      9  \n",
       "3         0.155     10  \n",
       "4         0.055      7  "
      ]
     },
     "execution_count": 3,
     "metadata": {},
     "output_type": "execute_result"
    }
   ],
   "source": [
    "df_train.head()\n",
    "# dobbiamo creare un modello che predica il numero di rings, dopo aver discretizzato l'attributo ring in due intervalli"
   ]
  },
  {
   "cell_type": "code",
   "execution_count": 4,
   "metadata": {},
   "outputs": [
    {
     "name": "stdout",
     "output_type": "stream",
     "text": [
      "<class 'pandas.core.frame.DataFrame'>\n",
      "RangeIndex: 4177 entries, 0 to 4176\n",
      "Data columns (total 9 columns):\n",
      "sex               4177 non-null object\n",
      "lenght            4177 non-null float64\n",
      "diameter          4177 non-null float64\n",
      "height            4177 non-null float64\n",
      "whole_weight      4177 non-null float64\n",
      "shucked_weight    4177 non-null float64\n",
      "viscera_weight    4177 non-null float64\n",
      "shell_weight      4177 non-null float64\n",
      "rings             4177 non-null int64\n",
      "dtypes: float64(7), int64(1), object(1)\n",
      "memory usage: 293.8+ KB\n"
     ]
    }
   ],
   "source": [
    "df_train.info()"
   ]
  },
  {
   "cell_type": "code",
   "execution_count": 5,
   "metadata": {},
   "outputs": [
    {
     "data": {
      "text/html": [
       "<div>\n",
       "<style scoped>\n",
       "    .dataframe tbody tr th:only-of-type {\n",
       "        vertical-align: middle;\n",
       "    }\n",
       "\n",
       "    .dataframe tbody tr th {\n",
       "        vertical-align: top;\n",
       "    }\n",
       "\n",
       "    .dataframe thead th {\n",
       "        text-align: right;\n",
       "    }\n",
       "</style>\n",
       "<table border=\"1\" class=\"dataframe\">\n",
       "  <thead>\n",
       "    <tr style=\"text-align: right;\">\n",
       "      <th></th>\n",
       "      <th>sex</th>\n",
       "      <th>lenght</th>\n",
       "      <th>diameter</th>\n",
       "      <th>height</th>\n",
       "      <th>whole_weight</th>\n",
       "      <th>shucked_weight</th>\n",
       "      <th>viscera_weight</th>\n",
       "      <th>shell_weight</th>\n",
       "      <th>rings</th>\n",
       "    </tr>\n",
       "  </thead>\n",
       "  <tbody>\n",
       "    <tr>\n",
       "      <th>0</th>\n",
       "      <td>M</td>\n",
       "      <td>0.455</td>\n",
       "      <td>0.365</td>\n",
       "      <td>0.095</td>\n",
       "      <td>0.5140</td>\n",
       "      <td>0.2245</td>\n",
       "      <td>0.1010</td>\n",
       "      <td>0.150</td>\n",
       "      <td>15</td>\n",
       "    </tr>\n",
       "    <tr>\n",
       "      <th>1</th>\n",
       "      <td>M</td>\n",
       "      <td>0.350</td>\n",
       "      <td>0.265</td>\n",
       "      <td>0.090</td>\n",
       "      <td>0.2255</td>\n",
       "      <td>0.0995</td>\n",
       "      <td>0.0485</td>\n",
       "      <td>0.070</td>\n",
       "      <td>7</td>\n",
       "    </tr>\n",
       "    <tr>\n",
       "      <th>2</th>\n",
       "      <td>F</td>\n",
       "      <td>0.530</td>\n",
       "      <td>0.420</td>\n",
       "      <td>0.135</td>\n",
       "      <td>0.6770</td>\n",
       "      <td>0.2565</td>\n",
       "      <td>0.1415</td>\n",
       "      <td>0.210</td>\n",
       "      <td>9</td>\n",
       "    </tr>\n",
       "    <tr>\n",
       "      <th>3</th>\n",
       "      <td>M</td>\n",
       "      <td>0.440</td>\n",
       "      <td>0.365</td>\n",
       "      <td>0.125</td>\n",
       "      <td>0.5160</td>\n",
       "      <td>0.2155</td>\n",
       "      <td>0.1140</td>\n",
       "      <td>0.155</td>\n",
       "      <td>10</td>\n",
       "    </tr>\n",
       "    <tr>\n",
       "      <th>6</th>\n",
       "      <td>F</td>\n",
       "      <td>0.530</td>\n",
       "      <td>0.415</td>\n",
       "      <td>0.150</td>\n",
       "      <td>0.7775</td>\n",
       "      <td>0.2370</td>\n",
       "      <td>0.1415</td>\n",
       "      <td>0.330</td>\n",
       "      <td>20</td>\n",
       "    </tr>\n",
       "  </tbody>\n",
       "</table>\n",
       "</div>"
      ],
      "text/plain": [
       "  sex  lenght  diameter  height  whole_weight  shucked_weight  viscera_weight  \\\n",
       "0   M   0.455     0.365   0.095        0.5140          0.2245          0.1010   \n",
       "1   M   0.350     0.265   0.090        0.2255          0.0995          0.0485   \n",
       "2   F   0.530     0.420   0.135        0.6770          0.2565          0.1415   \n",
       "3   M   0.440     0.365   0.125        0.5160          0.2155          0.1140   \n",
       "6   F   0.530     0.415   0.150        0.7775          0.2370          0.1415   \n",
       "\n",
       "   shell_weight  rings  \n",
       "0         0.150     15  \n",
       "1         0.070      7  \n",
       "2         0.210      9  \n",
       "3         0.155     10  \n",
       "6         0.330     20  "
      ]
     },
     "execution_count": 5,
     "metadata": {},
     "output_type": "execute_result"
    }
   ],
   "source": [
    "# dobbiamo scartare gli infanti\n",
    "df_train = df_train[df_train['sex'] != 'I']\n",
    "df_train.head()"
   ]
  },
  {
   "cell_type": "code",
   "execution_count": 6,
   "metadata": {},
   "outputs": [
    {
     "name": "stdout",
     "output_type": "stream",
     "text": [
      "<class 'pandas.core.frame.DataFrame'>\n",
      "Int64Index: 2835 entries, 0 to 4176\n",
      "Data columns (total 9 columns):\n",
      "sex               2835 non-null object\n",
      "lenght            2835 non-null float64\n",
      "diameter          2835 non-null float64\n",
      "height            2835 non-null float64\n",
      "whole_weight      2835 non-null float64\n",
      "shucked_weight    2835 non-null float64\n",
      "viscera_weight    2835 non-null float64\n",
      "shell_weight      2835 non-null float64\n",
      "rings             2835 non-null int64\n",
      "dtypes: float64(7), int64(1), object(1)\n",
      "memory usage: 221.5+ KB\n"
     ]
    }
   ],
   "source": [
    "df_train.info()"
   ]
  },
  {
   "cell_type": "code",
   "execution_count": 7,
   "metadata": {},
   "outputs": [
    {
     "data": {
      "text/html": [
       "<div>\n",
       "<style scoped>\n",
       "    .dataframe tbody tr th:only-of-type {\n",
       "        vertical-align: middle;\n",
       "    }\n",
       "\n",
       "    .dataframe tbody tr th {\n",
       "        vertical-align: top;\n",
       "    }\n",
       "\n",
       "    .dataframe thead th {\n",
       "        text-align: right;\n",
       "    }\n",
       "</style>\n",
       "<table border=\"1\" class=\"dataframe\">\n",
       "  <thead>\n",
       "    <tr style=\"text-align: right;\">\n",
       "      <th></th>\n",
       "      <th>lenght</th>\n",
       "      <th>diameter</th>\n",
       "      <th>height</th>\n",
       "      <th>whole_weight</th>\n",
       "      <th>shucked_weight</th>\n",
       "      <th>viscera_weight</th>\n",
       "      <th>shell_weight</th>\n",
       "      <th>rings</th>\n",
       "      <th>sex_val</th>\n",
       "    </tr>\n",
       "  </thead>\n",
       "  <tbody>\n",
       "    <tr>\n",
       "      <th>0</th>\n",
       "      <td>0.455</td>\n",
       "      <td>0.365</td>\n",
       "      <td>0.095</td>\n",
       "      <td>0.5140</td>\n",
       "      <td>0.2245</td>\n",
       "      <td>0.1010</td>\n",
       "      <td>0.150</td>\n",
       "      <td>15</td>\n",
       "      <td>1</td>\n",
       "    </tr>\n",
       "    <tr>\n",
       "      <th>1</th>\n",
       "      <td>0.350</td>\n",
       "      <td>0.265</td>\n",
       "      <td>0.090</td>\n",
       "      <td>0.2255</td>\n",
       "      <td>0.0995</td>\n",
       "      <td>0.0485</td>\n",
       "      <td>0.070</td>\n",
       "      <td>7</td>\n",
       "      <td>1</td>\n",
       "    </tr>\n",
       "    <tr>\n",
       "      <th>2</th>\n",
       "      <td>0.530</td>\n",
       "      <td>0.420</td>\n",
       "      <td>0.135</td>\n",
       "      <td>0.6770</td>\n",
       "      <td>0.2565</td>\n",
       "      <td>0.1415</td>\n",
       "      <td>0.210</td>\n",
       "      <td>9</td>\n",
       "      <td>0</td>\n",
       "    </tr>\n",
       "    <tr>\n",
       "      <th>3</th>\n",
       "      <td>0.440</td>\n",
       "      <td>0.365</td>\n",
       "      <td>0.125</td>\n",
       "      <td>0.5160</td>\n",
       "      <td>0.2155</td>\n",
       "      <td>0.1140</td>\n",
       "      <td>0.155</td>\n",
       "      <td>10</td>\n",
       "      <td>1</td>\n",
       "    </tr>\n",
       "    <tr>\n",
       "      <th>6</th>\n",
       "      <td>0.530</td>\n",
       "      <td>0.415</td>\n",
       "      <td>0.150</td>\n",
       "      <td>0.7775</td>\n",
       "      <td>0.2370</td>\n",
       "      <td>0.1415</td>\n",
       "      <td>0.330</td>\n",
       "      <td>20</td>\n",
       "      <td>0</td>\n",
       "    </tr>\n",
       "  </tbody>\n",
       "</table>\n",
       "</div>"
      ],
      "text/plain": [
       "   lenght  diameter  height  whole_weight  shucked_weight  viscera_weight  \\\n",
       "0   0.455     0.365   0.095        0.5140          0.2245          0.1010   \n",
       "1   0.350     0.265   0.090        0.2255          0.0995          0.0485   \n",
       "2   0.530     0.420   0.135        0.6770          0.2565          0.1415   \n",
       "3   0.440     0.365   0.125        0.5160          0.2155          0.1140   \n",
       "6   0.530     0.415   0.150        0.7775          0.2370          0.1415   \n",
       "\n",
       "   shell_weight  rings  sex_val  \n",
       "0         0.150     15        1  \n",
       "1         0.070      7        1  \n",
       "2         0.210      9        0  \n",
       "3         0.155     10        1  \n",
       "6         0.330     20        0  "
      ]
     },
     "execution_count": 7,
     "metadata": {},
     "output_type": "execute_result"
    }
   ],
   "source": [
    "# Get the unique values of sex\n",
    "sexes = sorted(df_train['sex'].unique())\n",
    "    \n",
    "# Generate a mapping of sex from a string to a number representation    \n",
    "genders_mapping = dict(zip(sexes, range(0, len(sexes) + 1)))\n",
    "\n",
    "# Transform Sex from a string to a number representation\n",
    "df_train['sex_val'] = df_train['sex'].map(genders_mapping).astype(int)\n",
    "\n",
    "# Drop the coloumn sex\n",
    "df_train = df_train.drop(['sex'], axis=1)\n",
    "\n",
    "\n",
    "df_train.head()\n",
    "\n",
    "# F = 0, M = 1"
   ]
  },
  {
   "cell_type": "code",
   "execution_count": 8,
   "metadata": {},
   "outputs": [
    {
     "data": {
      "text/plain": [
       "count    2835.000000\n",
       "mean       10.900882\n",
       "std         3.069252\n",
       "min         3.000000\n",
       "25%         9.000000\n",
       "50%        10.000000\n",
       "75%        12.000000\n",
       "max        29.000000\n",
       "Name: rings, dtype: float64"
      ]
     },
     "execution_count": 8,
     "metadata": {},
     "output_type": "execute_result"
    }
   ],
   "source": [
    "df_train['rings'].describe()"
   ]
  },
  {
   "cell_type": "code",
   "execution_count": 9,
   "metadata": {},
   "outputs": [
    {
     "data": {
      "text/plain": [
       "(array([   3.,    6.,   15.,   43.,  124.,  294.,  516.,  542.,  425.,\n",
       "         246.,  179.,  112.,   93.,   60.,   51.,   37.,   30.,   24.,\n",
       "          13.,    6.,    9.,    2.,    1.,    1.,    2.,    1.]),\n",
       " array([  3.,   4.,   5.,   6.,   7.,   8.,   9.,  10.,  11.,  12.,  13.,\n",
       "         14.,  15.,  16.,  17.,  18.,  19.,  20.,  21.,  22.,  23.,  24.,\n",
       "         25.,  26.,  27.,  28.,  29.]),\n",
       " <a list of 26 Patch objects>)"
      ]
     },
     "execution_count": 9,
     "metadata": {},
     "output_type": "execute_result"
    },
    {
     "data": {
      "image/png": "[encoded data removed]",
      "text/plain": [
       "<matplotlib.figure.Figure at 0x142b0927c88>"
      ]
     },
     "metadata": {},
     "output_type": "display_data"
    }
   ],
   "source": [
    "plt.hist(df_train['rings'], bins=len(df_train['rings'].unique()))"
   ]
  },
  {
   "cell_type": "code",
   "execution_count": 10,
   "metadata": {},
   "outputs": [],
   "source": [
    "# discretizzazione dell'attributo rings\n",
    "med = df_train['rings'].median()        # utilizziamo dapprima la mediana\n",
    "\n",
    "# Generate a mapping of rings, 1 if rings > median    \n",
    "def rings_mapping(x):\n",
    "    if x > med:\n",
    "        return 1\n",
    "    return 0\n",
    "\n",
    "# Transform rings from an integer to a 0-1 representation\n",
    "df_train['class'] = df_train['rings'].map(rings_mapping).astype(int)\n",
    "\n",
    "# Drop the coloumn rings\n",
    "df_train = df_train.drop(['rings'], axis=1)"
   ]
  },
  {
   "cell_type": "code",
   "execution_count": 11,
   "metadata": {},
   "outputs": [
    {
     "data": {
      "text/html": [
       "<div>\n",
       "<style scoped>\n",
       "    .dataframe tbody tr th:only-of-type {\n",
       "        vertical-align: middle;\n",
       "    }\n",
       "\n",
       "    .dataframe tbody tr th {\n",
       "        vertical-align: top;\n",
       "    }\n",
       "\n",
       "    .dataframe thead th {\n",
       "        text-align: right;\n",
       "    }\n",
       "</style>\n",
       "<table border=\"1\" class=\"dataframe\">\n",
       "  <thead>\n",
       "    <tr style=\"text-align: right;\">\n",
       "      <th></th>\n",
       "      <th>lenght</th>\n",
       "      <th>diameter</th>\n",
       "      <th>height</th>\n",
       "      <th>whole_weight</th>\n",
       "      <th>shucked_weight</th>\n",
       "      <th>viscera_weight</th>\n",
       "      <th>shell_weight</th>\n",
       "      <th>sex_val</th>\n",
       "      <th>class</th>\n",
       "    </tr>\n",
       "  </thead>\n",
       "  <tbody>\n",
       "    <tr>\n",
       "      <th>0</th>\n",
       "      <td>0.455</td>\n",
       "      <td>0.365</td>\n",
       "      <td>0.095</td>\n",
       "      <td>0.5140</td>\n",
       "      <td>0.2245</td>\n",
       "      <td>0.1010</td>\n",
       "      <td>0.150</td>\n",
       "      <td>1</td>\n",
       "      <td>1</td>\n",
       "    </tr>\n",
       "    <tr>\n",
       "      <th>1</th>\n",
       "      <td>0.350</td>\n",
       "      <td>0.265</td>\n",
       "      <td>0.090</td>\n",
       "      <td>0.2255</td>\n",
       "      <td>0.0995</td>\n",
       "      <td>0.0485</td>\n",
       "      <td>0.070</td>\n",
       "      <td>1</td>\n",
       "      <td>0</td>\n",
       "    </tr>\n",
       "    <tr>\n",
       "      <th>2</th>\n",
       "      <td>0.530</td>\n",
       "      <td>0.420</td>\n",
       "      <td>0.135</td>\n",
       "      <td>0.6770</td>\n",
       "      <td>0.2565</td>\n",
       "      <td>0.1415</td>\n",
       "      <td>0.210</td>\n",
       "      <td>0</td>\n",
       "      <td>0</td>\n",
       "    </tr>\n",
       "    <tr>\n",
       "      <th>3</th>\n",
       "      <td>0.440</td>\n",
       "      <td>0.365</td>\n",
       "      <td>0.125</td>\n",
       "      <td>0.5160</td>\n",
       "      <td>0.2155</td>\n",
       "      <td>0.1140</td>\n",
       "      <td>0.155</td>\n",
       "      <td>1</td>\n",
       "      <td>0</td>\n",
       "    </tr>\n",
       "    <tr>\n",
       "      <th>6</th>\n",
       "      <td>0.530</td>\n",
       "      <td>0.415</td>\n",
       "      <td>0.150</td>\n",
       "      <td>0.7775</td>\n",
       "      <td>0.2370</td>\n",
       "      <td>0.1415</td>\n",
       "      <td>0.330</td>\n",
       "      <td>0</td>\n",
       "      <td>1</td>\n",
       "    </tr>\n",
       "  </tbody>\n",
       "</table>\n",
       "</div>"
      ],
      "text/plain": [
       "   lenght  diameter  height  whole_weight  shucked_weight  viscera_weight  \\\n",
       "0   0.455     0.365   0.095        0.5140          0.2245          0.1010   \n",
       "1   0.350     0.265   0.090        0.2255          0.0995          0.0485   \n",
       "2   0.530     0.420   0.135        0.6770          0.2565          0.1415   \n",
       "3   0.440     0.365   0.125        0.5160          0.2155          0.1140   \n",
       "6   0.530     0.415   0.150        0.7775          0.2370          0.1415   \n",
       "\n",
       "   shell_weight  sex_val  class  \n",
       "0         0.150        1      1  \n",
       "1         0.070        1      0  \n",
       "2         0.210        0      0  \n",
       "3         0.155        1      0  \n",
       "6         0.330        0      1  "
      ]
     },
     "execution_count": 11,
     "metadata": {},
     "output_type": "execute_result"
    }
   ],
   "source": [
    "df_train.head()"
   ]
  },
  {
   "cell_type": "code",
   "execution_count": 12,
   "metadata": {},
   "outputs": [
    {
     "data": {
      "text/plain": [
       "array([[ 0.455 ,  0.365 ,  0.095 , ...,  0.101 ,  0.15  ,  1.    ],\n",
       "       [ 0.35  ,  0.265 ,  0.09  , ...,  0.0485,  0.07  ,  0.    ],\n",
       "       [ 0.53  ,  0.42  ,  0.135 , ...,  0.1415,  0.21  ,  0.    ],\n",
       "       ..., \n",
       "       [ 0.6   ,  0.475 ,  0.205 , ...,  0.2875,  0.308 ,  0.    ],\n",
       "       [ 0.625 ,  0.485 ,  0.15  , ...,  0.261 ,  0.296 ,  0.    ],\n",
       "       [ 0.71  ,  0.555 ,  0.195 , ...,  0.3765,  0.495 ,  1.    ]])"
      ]
     },
     "execution_count": 12,
     "metadata": {},
     "output_type": "execute_result"
    }
   ],
   "source": [
    "# Convert the DataFrame to a numpy array:\n",
    "df_nb = df_train.drop(['sex_val'], axis=1).copy()      # non serve la colonna sex nel nb sui valori numerici\n",
    "train_data = df_nb.values\n",
    "train_data"
   ]
  },
  {
   "cell_type": "code",
   "execution_count": 13,
   "metadata": {},
   "outputs": [],
   "source": [
    "# Training data features, skip the last column 'class'\n",
    "train_features = train_data[:, :len(train_data[0])-1]\n",
    "\n",
    "# 'class' column values\n",
    "train_target = train_data[:, len(train_data[0])-1]"
   ]
  },
  {
   "cell_type": "code",
   "execution_count": 14,
   "metadata": {},
   "outputs": [
    {
     "data": {
      "text/plain": [
       "array([ 0.455 ,  0.365 ,  0.095 ,  0.514 ,  0.2245,  0.101 ,  0.15  ])"
      ]
     },
     "execution_count": 14,
     "metadata": {},
     "output_type": "execute_result"
    }
   ],
   "source": [
    "train_features[0]"
   ]
  },
  {
   "cell_type": "code",
   "execution_count": 15,
   "metadata": {},
   "outputs": [
    {
     "data": {
      "text/plain": [
       "1.0"
      ]
     },
     "execution_count": 15,
     "metadata": {},
     "output_type": "execute_result"
    }
   ],
   "source": [
    "train_target[0]"
   ]
  },
  {
   "cell_type": "code",
   "execution_count": 16,
   "metadata": {},
   "outputs": [],
   "source": [
    "from sklearn.cross_validation import train_test_split\n",
    "\n",
    "train_x, test_x, train_y, test_y = train_test_split(train_features, \n",
    "                                                    train_target, \n",
    "                                                    test_size=0.10, \n",
    "                                                    random_state=0)"
   ]
  },
  {
   "cell_type": "code",
   "execution_count": null,
   "metadata": {},
   "outputs": [],
   "source": []
  },
  {
   "cell_type": "code",
   "execution_count": 17,
   "metadata": {},
   "outputs": [],
   "source": [
    "# FINE LAVORAZIONE SUL DATASET"
   ]
  },
  {
   "cell_type": "code",
   "execution_count": null,
   "metadata": {},
   "outputs": [],
   "source": []
  },
  {
   "cell_type": "code",
   "execution_count": 18,
   "metadata": {},
   "outputs": [
    {
     "name": "stdout",
     "output_type": "stream",
     "text": [
      "0 : [ 0.455   0.365   0.095   0.514   0.2245  0.101   0.15  ] predicted:  0.0  real:  1.0\n",
      "1 : [ 0.35    0.265   0.09    0.2255  0.0995  0.0485  0.07  ] predicted:  0.0  real:  0.0\n",
      "2 : [ 0.53    0.42    0.135   0.677   0.2565  0.1415  0.21  ] predicted:  0.0  real:  0.0\n",
      "3 : [ 0.44    0.365   0.125   0.516   0.2155  0.114   0.155 ] predicted:  0.0  real:  0.0\n",
      "4 : [ 0.53    0.415   0.15    0.7775  0.237   0.1415  0.33  ] predicted:  0.0  real:  1.0\n",
      "5 : [ 0.545   0.425   0.125   0.768   0.294   0.1495  0.26  ] predicted:  0.0  real:  1.0\n",
      "6 : [ 0.475   0.37    0.125   0.5095  0.2165  0.1125  0.165 ] predicted:  0.0  real:  0.0\n",
      "7 : [ 0.55    0.44    0.15    0.8945  0.3145  0.151   0.32  ] predicted:  0.0  real:  1.0\n",
      "8 : [ 0.525   0.38    0.14    0.6065  0.194   0.1475  0.21  ] predicted:  0.0  real:  1.0\n",
      "9 : [ 0.43    0.35    0.11    0.406   0.1675  0.081   0.135 ] predicted:  0.0  real:  0.0\n",
      "error: 1094.0 \terror rate: 0.385890652557\n"
     ]
    }
   ],
   "source": [
    "#\n",
    "# Naive Bayes\n",
    "#\n",
    "# RICORDA\n",
    "# train_data = df_train.values\n",
    "# train_features = train_data[:, :len(train_data[0])-1]\n",
    "# train_target = train_data[:, len(train_data[0])-1]\n",
    "\n",
    "from sklearn.naive_bayes import GaussianNB\n",
    "from sklearn.naive_bayes import MultinomialNB\n",
    "\n",
    "# Gaussian NB, for normally distributed numerical values  --> more generally applicable\n",
    "gnb = GaussianNB()\n",
    "gnb.fit(train_features, train_target)\n",
    "\n",
    "for i in range(10):\n",
    "    p = gnb.predict(train_features[i].reshape(1, -1))\n",
    "    print (i, \":\", train_features[i], \"predicted: \", p[0], \" real: \", train_target[i])\n",
    "error = sum(abs(np.array(gnb.predict(train_features)) - np.array(train_target)))\n",
    "errorRate = error/len(df_train)\n",
    "print (\"error:\", error, \"\\terror rate:\", errorRate)"
   ]
  },
  {
   "cell_type": "code",
   "execution_count": 19,
   "metadata": {},
   "outputs": [],
   "source": [
    "y_score = gnb.predict_proba(test_x)     \n",
    "# alla roc curve devo passargli le previsioni con le probabilità\n",
    "\n",
    "from sklearn.metrics import roc_curve, auc\n",
    "\n",
    "fpr, tpr, _ =  roc_curve(test_y, y_score[:,1])\n",
    "roc_auc = auc(fpr, tpr)"
   ]
  },
  {
   "cell_type": "code",
   "execution_count": 20,
   "metadata": {},
   "outputs": [
    {
     "data": {
      "image/png": "[encoded data removed]",
      "text/plain": [
       "<matplotlib.figure.Figure at 0x142b0c864a8>"
      ]
     },
     "metadata": {},
     "output_type": "display_data"
    }
   ],
   "source": [
    "plt.plot(fpr,tpr, label='ROC curve (area = %0.2f)' % roc_auc)\n",
    "plt.plot(np.linspace(0, 1), np.linspace(0,1))\n",
    "\n",
    "plt.legend(loc=\"lower right\")\n",
    "plt.show()"
   ]
  },
  {
   "cell_type": "code",
   "execution_count": 21,
   "metadata": {},
   "outputs": [
    {
     "name": "stdout",
     "output_type": "stream",
     "text": [
      "Accuracy: 0.60 (+/- 0.23)\n"
     ]
    }
   ],
   "source": [
    "from sklearn import cross_validation\n",
    "from sklearn.cross_validation import cross_val_score\n",
    "\n",
    "scores = cross_validation.cross_val_score(gnb, train_features, train_target, cv=10)\n",
    "print ('Accuracy: %0.2f (+/- %0.2f)' % (scores.mean(), scores.std() * 2))"
   ]
  },
  {
   "cell_type": "code",
   "execution_count": null,
   "metadata": {},
   "outputs": [],
   "source": []
  },
  {
   "cell_type": "code",
   "execution_count": 22,
   "metadata": {},
   "outputs": [
    {
     "data": {
      "text/html": [
       "<div>\n",
       "<style scoped>\n",
       "    .dataframe tbody tr th:only-of-type {\n",
       "        vertical-align: middle;\n",
       "    }\n",
       "\n",
       "    .dataframe tbody tr th {\n",
       "        vertical-align: top;\n",
       "    }\n",
       "\n",
       "    .dataframe thead th {\n",
       "        text-align: right;\n",
       "    }\n",
       "</style>\n",
       "<table border=\"1\" class=\"dataframe\">\n",
       "  <thead>\n",
       "    <tr style=\"text-align: right;\">\n",
       "      <th></th>\n",
       "      <th>lenght</th>\n",
       "      <th>diameter</th>\n",
       "      <th>height</th>\n",
       "      <th>whole_weight</th>\n",
       "      <th>shucked_weight</th>\n",
       "      <th>viscera_weight</th>\n",
       "      <th>shell_weight</th>\n",
       "      <th>sex_val</th>\n",
       "      <th>class</th>\n",
       "    </tr>\n",
       "  </thead>\n",
       "  <tbody>\n",
       "    <tr>\n",
       "      <th>0</th>\n",
       "      <td>0.455</td>\n",
       "      <td>0.365</td>\n",
       "      <td>0.095</td>\n",
       "      <td>0.5140</td>\n",
       "      <td>0.2245</td>\n",
       "      <td>0.1010</td>\n",
       "      <td>0.150</td>\n",
       "      <td>1</td>\n",
       "      <td>1</td>\n",
       "    </tr>\n",
       "    <tr>\n",
       "      <th>1</th>\n",
       "      <td>0.350</td>\n",
       "      <td>0.265</td>\n",
       "      <td>0.090</td>\n",
       "      <td>0.2255</td>\n",
       "      <td>0.0995</td>\n",
       "      <td>0.0485</td>\n",
       "      <td>0.070</td>\n",
       "      <td>1</td>\n",
       "      <td>0</td>\n",
       "    </tr>\n",
       "    <tr>\n",
       "      <th>2</th>\n",
       "      <td>0.530</td>\n",
       "      <td>0.420</td>\n",
       "      <td>0.135</td>\n",
       "      <td>0.6770</td>\n",
       "      <td>0.2565</td>\n",
       "      <td>0.1415</td>\n",
       "      <td>0.210</td>\n",
       "      <td>0</td>\n",
       "      <td>0</td>\n",
       "    </tr>\n",
       "    <tr>\n",
       "      <th>3</th>\n",
       "      <td>0.440</td>\n",
       "      <td>0.365</td>\n",
       "      <td>0.125</td>\n",
       "      <td>0.5160</td>\n",
       "      <td>0.2155</td>\n",
       "      <td>0.1140</td>\n",
       "      <td>0.155</td>\n",
       "      <td>1</td>\n",
       "      <td>0</td>\n",
       "    </tr>\n",
       "    <tr>\n",
       "      <th>6</th>\n",
       "      <td>0.530</td>\n",
       "      <td>0.415</td>\n",
       "      <td>0.150</td>\n",
       "      <td>0.7775</td>\n",
       "      <td>0.2370</td>\n",
       "      <td>0.1415</td>\n",
       "      <td>0.330</td>\n",
       "      <td>0</td>\n",
       "      <td>1</td>\n",
       "    </tr>\n",
       "  </tbody>\n",
       "</table>\n",
       "</div>"
      ],
      "text/plain": [
       "   lenght  diameter  height  whole_weight  shucked_weight  viscera_weight  \\\n",
       "0   0.455     0.365   0.095        0.5140          0.2245          0.1010   \n",
       "1   0.350     0.265   0.090        0.2255          0.0995          0.0485   \n",
       "2   0.530     0.420   0.135        0.6770          0.2565          0.1415   \n",
       "3   0.440     0.365   0.125        0.5160          0.2155          0.1140   \n",
       "6   0.530     0.415   0.150        0.7775          0.2370          0.1415   \n",
       "\n",
       "   shell_weight  sex_val  class  \n",
       "0         0.150        1      1  \n",
       "1         0.070        1      0  \n",
       "2         0.210        0      0  \n",
       "3         0.155        1      0  \n",
       "6         0.330        0      1  "
      ]
     },
     "execution_count": 22,
     "metadata": {},
     "output_type": "execute_result"
    }
   ],
   "source": [
    "# PER USARE NAIVE BAYES IN MODO FURBO BISOGNA DISCRETIZZARE LE COLONNE DI TIPO FLOAT\n",
    "df_train.head()"
   ]
  },
  {
   "cell_type": "code",
   "execution_count": 23,
   "metadata": {},
   "outputs": [
    {
     "data": {
      "text/html": [
       "<div>\n",
       "<style scoped>\n",
       "    .dataframe tbody tr th:only-of-type {\n",
       "        vertical-align: middle;\n",
       "    }\n",
       "\n",
       "    .dataframe tbody tr th {\n",
       "        vertical-align: top;\n",
       "    }\n",
       "\n",
       "    .dataframe thead th {\n",
       "        text-align: right;\n",
       "    }\n",
       "</style>\n",
       "<table border=\"1\" class=\"dataframe\">\n",
       "  <thead>\n",
       "    <tr style=\"text-align: right;\">\n",
       "      <th></th>\n",
       "      <th>lenght</th>\n",
       "      <th>diameter</th>\n",
       "      <th>height</th>\n",
       "      <th>whole_weight</th>\n",
       "      <th>shucked_weight</th>\n",
       "      <th>viscera_weight</th>\n",
       "      <th>shell_weight</th>\n",
       "      <th>sex_val</th>\n",
       "      <th>class</th>\n",
       "    </tr>\n",
       "  </thead>\n",
       "  <tbody>\n",
       "    <tr>\n",
       "      <th>count</th>\n",
       "      <td>2835.000000</td>\n",
       "      <td>2835.000000</td>\n",
       "      <td>2835.000000</td>\n",
       "      <td>2835.000000</td>\n",
       "      <td>2835.000000</td>\n",
       "      <td>2835.000000</td>\n",
       "      <td>2835.000000</td>\n",
       "      <td>2835.000000</td>\n",
       "      <td>2835.000000</td>\n",
       "    </tr>\n",
       "    <tr>\n",
       "      <th>mean</th>\n",
       "      <td>0.569552</td>\n",
       "      <td>0.446407</td>\n",
       "      <td>0.154437</td>\n",
       "      <td>1.016849</td>\n",
       "      <td>0.439051</td>\n",
       "      <td>0.222526</td>\n",
       "      <td>0.291208</td>\n",
       "      <td>0.538977</td>\n",
       "      <td>0.455732</td>\n",
       "    </tr>\n",
       "    <tr>\n",
       "      <th>std</th>\n",
       "      <td>0.095821</td>\n",
       "      <td>0.078850</td>\n",
       "      <td>0.037421</td>\n",
       "      <td>0.453217</td>\n",
       "      <td>0.212193</td>\n",
       "      <td>0.101880</td>\n",
       "      <td>0.128835</td>\n",
       "      <td>0.498566</td>\n",
       "      <td>0.498124</td>\n",
       "    </tr>\n",
       "    <tr>\n",
       "      <th>min</th>\n",
       "      <td>0.155000</td>\n",
       "      <td>0.110000</td>\n",
       "      <td>0.015000</td>\n",
       "      <td>0.015500</td>\n",
       "      <td>0.006500</td>\n",
       "      <td>0.003000</td>\n",
       "      <td>0.005000</td>\n",
       "      <td>0.000000</td>\n",
       "      <td>0.000000</td>\n",
       "    </tr>\n",
       "    <tr>\n",
       "      <th>25%</th>\n",
       "      <td>0.515000</td>\n",
       "      <td>0.400000</td>\n",
       "      <td>0.135000</td>\n",
       "      <td>0.701250</td>\n",
       "      <td>0.287000</td>\n",
       "      <td>0.152000</td>\n",
       "      <td>0.202500</td>\n",
       "      <td>0.000000</td>\n",
       "      <td>0.000000</td>\n",
       "    </tr>\n",
       "    <tr>\n",
       "      <th>50%</th>\n",
       "      <td>0.585000</td>\n",
       "      <td>0.460000</td>\n",
       "      <td>0.155000</td>\n",
       "      <td>1.003000</td>\n",
       "      <td>0.431500</td>\n",
       "      <td>0.217000</td>\n",
       "      <td>0.285000</td>\n",
       "      <td>1.000000</td>\n",
       "      <td>0.000000</td>\n",
       "    </tr>\n",
       "    <tr>\n",
       "      <th>75%</th>\n",
       "      <td>0.635000</td>\n",
       "      <td>0.500000</td>\n",
       "      <td>0.175000</td>\n",
       "      <td>1.289500</td>\n",
       "      <td>0.568750</td>\n",
       "      <td>0.287500</td>\n",
       "      <td>0.365000</td>\n",
       "      <td>1.000000</td>\n",
       "      <td>1.000000</td>\n",
       "    </tr>\n",
       "    <tr>\n",
       "      <th>max</th>\n",
       "      <td>0.815000</td>\n",
       "      <td>0.650000</td>\n",
       "      <td>1.130000</td>\n",
       "      <td>2.825500</td>\n",
       "      <td>1.488000</td>\n",
       "      <td>0.760000</td>\n",
       "      <td>1.005000</td>\n",
       "      <td>1.000000</td>\n",
       "      <td>1.000000</td>\n",
       "    </tr>\n",
       "  </tbody>\n",
       "</table>\n",
       "</div>"
      ],
      "text/plain": [
       "            lenght     diameter       height  whole_weight  shucked_weight  \\\n",
       "count  2835.000000  2835.000000  2835.000000   2835.000000     2835.000000   \n",
       "mean      0.569552     0.446407     0.154437      1.016849        0.439051   \n",
       "std       0.095821     0.078850     0.037421      0.453217        0.212193   \n",
       "min       0.155000     0.110000     0.015000      0.015500        0.006500   \n",
       "25%       0.515000     0.400000     0.135000      0.701250        0.287000   \n",
       "50%       0.585000     0.460000     0.155000      1.003000        0.431500   \n",
       "75%       0.635000     0.500000     0.175000      1.289500        0.568750   \n",
       "max       0.815000     0.650000     1.130000      2.825500        1.488000   \n",
       "\n",
       "       viscera_weight  shell_weight      sex_val        class  \n",
       "count     2835.000000   2835.000000  2835.000000  2835.000000  \n",
       "mean         0.222526      0.291208     0.538977     0.455732  \n",
       "std          0.101880      0.128835     0.498566     0.498124  \n",
       "min          0.003000      0.005000     0.000000     0.000000  \n",
       "25%          0.152000      0.202500     0.000000     0.000000  \n",
       "50%          0.217000      0.285000     1.000000     0.000000  \n",
       "75%          0.287500      0.365000     1.000000     1.000000  \n",
       "max          0.760000      1.005000     1.000000     1.000000  "
      ]
     },
     "execution_count": 23,
     "metadata": {},
     "output_type": "execute_result"
    }
   ],
   "source": [
    "df_train.describe()"
   ]
  },
  {
   "cell_type": "code",
   "execution_count": 24,
   "metadata": {},
   "outputs": [
    {
     "data": {
      "text/html": [
       "<div>\n",
       "<style scoped>\n",
       "    .dataframe tbody tr th:only-of-type {\n",
       "        vertical-align: middle;\n",
       "    }\n",
       "\n",
       "    .dataframe tbody tr th {\n",
       "        vertical-align: top;\n",
       "    }\n",
       "\n",
       "    .dataframe thead th {\n",
       "        text-align: right;\n",
       "    }\n",
       "</style>\n",
       "<table border=\"1\" class=\"dataframe\">\n",
       "  <thead>\n",
       "    <tr style=\"text-align: right;\">\n",
       "      <th></th>\n",
       "      <th>lenght</th>\n",
       "      <th>diameter</th>\n",
       "      <th>height</th>\n",
       "      <th>whole_weight</th>\n",
       "      <th>shucked_weight</th>\n",
       "      <th>viscera_weight</th>\n",
       "      <th>shell_weight</th>\n",
       "      <th>sex_val</th>\n",
       "      <th>class</th>\n",
       "    </tr>\n",
       "  </thead>\n",
       "  <tbody>\n",
       "    <tr>\n",
       "      <th>0</th>\n",
       "      <td>[0.419, 0.485)</td>\n",
       "      <td>[0.326, 0.38)</td>\n",
       "      <td>[0.015, 0.126)</td>\n",
       "      <td>[0.297, 0.578)</td>\n",
       "      <td>[0.155, 0.303)</td>\n",
       "      <td>[0.0787, 0.154)</td>\n",
       "      <td>[0.105, 0.205)</td>\n",
       "      <td>1</td>\n",
       "      <td>1</td>\n",
       "    </tr>\n",
       "    <tr>\n",
       "      <th>1</th>\n",
       "      <td>[0.287, 0.353)</td>\n",
       "      <td>[0.218, 0.272)</td>\n",
       "      <td>[0.015, 0.126)</td>\n",
       "      <td>[0.0155, 0.297)</td>\n",
       "      <td>[0.0065, 0.155)</td>\n",
       "      <td>[0.003, 0.0787)</td>\n",
       "      <td>[0.005, 0.105)</td>\n",
       "      <td>1</td>\n",
       "      <td>0</td>\n",
       "    </tr>\n",
       "    <tr>\n",
       "      <th>2</th>\n",
       "      <td>[0.485, 0.551)</td>\n",
       "      <td>[0.38, 0.434)</td>\n",
       "      <td>[0.126, 0.238)</td>\n",
       "      <td>[0.578, 0.858)</td>\n",
       "      <td>[0.155, 0.303)</td>\n",
       "      <td>[0.0787, 0.154)</td>\n",
       "      <td>[0.205, 0.305)</td>\n",
       "      <td>0</td>\n",
       "      <td>0</td>\n",
       "    </tr>\n",
       "    <tr>\n",
       "      <th>3</th>\n",
       "      <td>[0.419, 0.485)</td>\n",
       "      <td>[0.326, 0.38)</td>\n",
       "      <td>[0.015, 0.126)</td>\n",
       "      <td>[0.297, 0.578)</td>\n",
       "      <td>[0.155, 0.303)</td>\n",
       "      <td>[0.0787, 0.154)</td>\n",
       "      <td>[0.105, 0.205)</td>\n",
       "      <td>1</td>\n",
       "      <td>0</td>\n",
       "    </tr>\n",
       "    <tr>\n",
       "      <th>6</th>\n",
       "      <td>[0.485, 0.551)</td>\n",
       "      <td>[0.38, 0.434)</td>\n",
       "      <td>[0.126, 0.238)</td>\n",
       "      <td>[0.578, 0.858)</td>\n",
       "      <td>[0.155, 0.303)</td>\n",
       "      <td>[0.0787, 0.154)</td>\n",
       "      <td>[0.305, 0.405)</td>\n",
       "      <td>0</td>\n",
       "      <td>1</td>\n",
       "    </tr>\n",
       "  </tbody>\n",
       "</table>\n",
       "</div>"
      ],
      "text/plain": [
       "           lenght        diameter          height     whole_weight  \\\n",
       "0  [0.419, 0.485)   [0.326, 0.38)  [0.015, 0.126)   [0.297, 0.578)   \n",
       "1  [0.287, 0.353)  [0.218, 0.272)  [0.015, 0.126)  [0.0155, 0.297)   \n",
       "2  [0.485, 0.551)   [0.38, 0.434)  [0.126, 0.238)   [0.578, 0.858)   \n",
       "3  [0.419, 0.485)   [0.326, 0.38)  [0.015, 0.126)   [0.297, 0.578)   \n",
       "6  [0.485, 0.551)   [0.38, 0.434)  [0.126, 0.238)   [0.578, 0.858)   \n",
       "\n",
       "    shucked_weight   viscera_weight    shell_weight  sex_val  class  \n",
       "0   [0.155, 0.303)  [0.0787, 0.154)  [0.105, 0.205)        1      1  \n",
       "1  [0.0065, 0.155)  [0.003, 0.0787)  [0.005, 0.105)        1      0  \n",
       "2   [0.155, 0.303)  [0.0787, 0.154)  [0.205, 0.305)        0      0  \n",
       "3   [0.155, 0.303)  [0.0787, 0.154)  [0.105, 0.205)        1      0  \n",
       "6   [0.155, 0.303)  [0.0787, 0.154)  [0.305, 0.405)        0      1  "
      ]
     },
     "execution_count": 24,
     "metadata": {},
     "output_type": "execute_result"
    }
   ],
   "source": [
    "# discretizzazione delle colonne con attributi reali\n",
    "df_train_nb = df_train.copy()\n",
    "\n",
    "for attr in df_train_nb.columns[:len(df_train_nb.columns)-2]:\n",
    "    df_train_nb[attr] = pd.cut(df_train_nb[attr], bins=10, right=False)\n",
    "\n",
    "df_train_nb.head()"
   ]
  },
  {
   "cell_type": "code",
   "execution_count": 25,
   "metadata": {},
   "outputs": [
    {
     "data": {
      "text/html": [
       "<div>\n",
       "<style scoped>\n",
       "    .dataframe tbody tr th:only-of-type {\n",
       "        vertical-align: middle;\n",
       "    }\n",
       "\n",
       "    .dataframe tbody tr th {\n",
       "        vertical-align: top;\n",
       "    }\n",
       "\n",
       "    .dataframe thead th {\n",
       "        text-align: right;\n",
       "    }\n",
       "</style>\n",
       "<table border=\"1\" class=\"dataframe\">\n",
       "  <thead>\n",
       "    <tr style=\"text-align: right;\">\n",
       "      <th></th>\n",
       "      <th>lenght</th>\n",
       "      <th>diameter</th>\n",
       "      <th>height</th>\n",
       "      <th>whole_weight</th>\n",
       "      <th>shucked_weight</th>\n",
       "      <th>viscera_weight</th>\n",
       "      <th>shell_weight</th>\n",
       "      <th>sex_val</th>\n",
       "      <th>class</th>\n",
       "    </tr>\n",
       "  </thead>\n",
       "  <tbody>\n",
       "    <tr>\n",
       "      <th>0</th>\n",
       "      <td>4</td>\n",
       "      <td>4</td>\n",
       "      <td>0</td>\n",
       "      <td>1</td>\n",
       "      <td>1</td>\n",
       "      <td>1</td>\n",
       "      <td>1</td>\n",
       "      <td>1</td>\n",
       "      <td>1</td>\n",
       "    </tr>\n",
       "    <tr>\n",
       "      <th>1</th>\n",
       "      <td>2</td>\n",
       "      <td>2</td>\n",
       "      <td>0</td>\n",
       "      <td>0</td>\n",
       "      <td>0</td>\n",
       "      <td>0</td>\n",
       "      <td>0</td>\n",
       "      <td>1</td>\n",
       "      <td>0</td>\n",
       "    </tr>\n",
       "    <tr>\n",
       "      <th>2</th>\n",
       "      <td>5</td>\n",
       "      <td>5</td>\n",
       "      <td>1</td>\n",
       "      <td>2</td>\n",
       "      <td>1</td>\n",
       "      <td>1</td>\n",
       "      <td>2</td>\n",
       "      <td>0</td>\n",
       "      <td>0</td>\n",
       "    </tr>\n",
       "    <tr>\n",
       "      <th>3</th>\n",
       "      <td>4</td>\n",
       "      <td>4</td>\n",
       "      <td>0</td>\n",
       "      <td>1</td>\n",
       "      <td>1</td>\n",
       "      <td>1</td>\n",
       "      <td>1</td>\n",
       "      <td>1</td>\n",
       "      <td>0</td>\n",
       "    </tr>\n",
       "    <tr>\n",
       "      <th>6</th>\n",
       "      <td>5</td>\n",
       "      <td>5</td>\n",
       "      <td>1</td>\n",
       "      <td>2</td>\n",
       "      <td>1</td>\n",
       "      <td>1</td>\n",
       "      <td>3</td>\n",
       "      <td>0</td>\n",
       "      <td>1</td>\n",
       "    </tr>\n",
       "  </tbody>\n",
       "</table>\n",
       "</div>"
      ],
      "text/plain": [
       "  lenght diameter height whole_weight shucked_weight viscera_weight  \\\n",
       "0      4        4      0            1              1              1   \n",
       "1      2        2      0            0              0              0   \n",
       "2      5        5      1            2              1              1   \n",
       "3      4        4      0            1              1              1   \n",
       "6      5        5      1            2              1              1   \n",
       "\n",
       "  shell_weight  sex_val  class  \n",
       "0            1        1      1  \n",
       "1            0        1      0  \n",
       "2            2        0      0  \n",
       "3            1        1      0  \n",
       "6            3        0      1  "
      ]
     },
     "execution_count": 25,
     "metadata": {},
     "output_type": "execute_result"
    }
   ],
   "source": [
    "# vorrei fosse come prima, ma non posso trasformarlo in np.array! Quindi faccio cosi\n",
    "for attr in df_train.columns[:len(df_train.columns)-2]:\n",
    "    df_train[attr] = pd.cut(df_train[attr], bins=10, right=False, labels=range(10))\n",
    "\n",
    "df_train.head()"
   ]
  },
  {
   "cell_type": "code",
   "execution_count": 26,
   "metadata": {},
   "outputs": [
    {
     "name": "stdout",
     "output_type": "stream",
     "text": [
      "0 : [ 4.  4.  0.  1.  1.  1.  1.  1.] predicted:  0.0  real:  1.0\n",
      "1 : [ 2.  2.  0.  0.  0.  0.  0.  1.] predicted:  0.0  real:  0.0\n",
      "2 : [ 5.  5.  1.  2.  1.  1.  2.  0.] predicted:  0.0  real:  0.0\n",
      "3 : [ 4.  4.  0.  1.  1.  1.  1.  1.] predicted:  0.0  real:  0.0\n",
      "4 : [ 5.  5.  1.  2.  1.  1.  3.  0.] predicted:  1.0  real:  1.0\n",
      "5 : [ 5.  5.  0.  2.  1.  1.  2.  0.] predicted:  0.0  real:  1.0\n",
      "6 : [ 4.  4.  0.  1.  1.  1.  1.  1.] predicted:  0.0  real:  0.0\n",
      "7 : [ 5.  6.  1.  3.  2.  1.  3.  0.] predicted:  1.0  real:  1.0\n",
      "8 : [ 5.  5.  1.  2.  1.  1.  2.  0.] predicted:  0.0  real:  1.0\n",
      "9 : [ 4.  4.  0.  1.  1.  1.  1.  1.] predicted:  0.0  real:  0.0\n",
      "error: 1041.0 \terror rate: 0.367195767196\n"
     ]
    }
   ],
   "source": [
    "# Convert the DataFrame to a numpy array:\n",
    "train_data_nb = df_train.values\n",
    "\n",
    "# Training data features, skip the last column 'class'\n",
    "train_features_nb = train_data_nb[:, :len(train_data_nb[0])-1].astype(float)\n",
    "\n",
    "# 'Class' column values\n",
    "train_target_nb = train_data_nb[:, len(train_data_nb[0])-1].astype(float)\n",
    "\n",
    "# Multinomial NB, for discrete labels (yet still numerical)\n",
    "mnb = MultinomialNB()\n",
    "mnb.fit(train_features_nb, train_target_nb)\n",
    "\n",
    "for i in range(10):\n",
    "    p_nb = mnb.predict(train_features_nb[i].reshape(1, -1))\n",
    "    print (i, \":\", train_features_nb[i], \"predicted: \", p_nb[0], \" real: \", train_target_nb[i])\n",
    "\n",
    "error = sum(abs(np.array(mnb.predict(train_features_nb)) - np.array(train_target_nb)))\n",
    "errorRate = error/len(df_train)\n",
    "print (\"error:\", error, \"\\terror rate:\", errorRate)"
   ]
  },
  {
   "cell_type": "code",
   "execution_count": 27,
   "metadata": {},
   "outputs": [],
   "source": [
    "train_x_nb, test_x_nb, train_y_nb, test_y_nb = train_test_split(train_features_nb, \n",
    "                                                    train_target_nb, \n",
    "                                                    test_size=0.10, \n",
    "                                                    random_state=0)"
   ]
  },
  {
   "cell_type": "code",
   "execution_count": 28,
   "metadata": {},
   "outputs": [
    {
     "data": {
      "image/png": "[encoded data removed]",
      "text/plain": [
       "<matplotlib.figure.Figure at 0x142b1f1ef98>"
      ]
     },
     "metadata": {},
     "output_type": "display_data"
    }
   ],
   "source": [
    "y_score_nb = mnb.predict_proba(test_x_nb)     \n",
    "\n",
    "fpr_nb, tpr_nb, _ =  roc_curve(test_y_nb, y_score_nb[:,1])\n",
    "roc_auc_nb = auc(fpr_nb, tpr_nb)\n",
    "\n",
    "plt.plot(fpr_nb,tpr_nb, label='ROC curve (area = %0.2f)' % roc_auc_nb)\n",
    "plt.plot(np.linspace(0, 1), np.linspace(0,1))\n",
    "\n",
    "plt.legend(loc=\"lower right\")\n",
    "\n",
    "plt.show()"
   ]
  },
  {
   "cell_type": "code",
   "execution_count": 29,
   "metadata": {},
   "outputs": [
    {
     "name": "stdout",
     "output_type": "stream",
     "text": [
      "Accuracy: 0.54 (+/- 0.00)\n"
     ]
    }
   ],
   "source": [
    "scores = cross_validation.cross_val_score(mnb, train_features, train_target, cv=10)\n",
    "print ('Accuracy: %0.2f (+/- %0.2f)' % (scores.mean(), scores.std() * 2))"
   ]
  },
  {
   "cell_type": "code",
   "execution_count": null,
   "metadata": {},
   "outputs": [],
   "source": []
  },
  {
   "cell_type": "code",
   "execution_count": null,
   "metadata": {},
   "outputs": [],
   "source": []
  },
  {
   "cell_type": "code",
   "execution_count": 30,
   "metadata": {},
   "outputs": [],
   "source": [
    "# Risistemiamo il dataset\n",
    "df_train = pd.read_csv(\"abalone_data.csv\") \n",
    "\n",
    "df_train = df_train[df_train['sex'] != 'I']\n",
    "\n",
    "# Get the unique values of sex\n",
    "sexes = sorted(df_train['sex'].unique())\n",
    "    \n",
    "# Generate a mapping of sex from a string to a number representation    \n",
    "genders_mapping = dict(zip(sexes, range(0, len(sexes) + 1)))\n",
    "\n",
    "# Transform Sex from a string to a number representation\n",
    "df_train['sex_val'] = df_train['sex'].map(genders_mapping).astype(int)\n",
    "\n",
    "# Drop the coloumn sex\n",
    "df_train = df_train.drop(['sex'], axis=1)\n",
    "\n",
    "# F = 0, M = 1\n",
    "\n",
    "# discretizzazione dell'attributo rings\n",
    "med = df_train['rings'].median()        # utilizziamo dapprima la mediana\n",
    "\n",
    "# Generate a mapping of rings, 1 if rings > median    \n",
    "def rings_mapping(x):\n",
    "    if x > med:\n",
    "        return 1\n",
    "    return 0\n",
    "\n",
    "# Transform rings from an integer to a 0-1 representation\n",
    "df_train['class'] = df_train['rings'].map(rings_mapping).astype(int)\n",
    "\n",
    "# Drop the coloumn rings\n",
    "df_train = df_train.drop(['rings'], axis=1)"
   ]
  },
  {
   "cell_type": "code",
   "execution_count": 31,
   "metadata": {},
   "outputs": [
    {
     "data": {
      "text/plain": [
       "array([[ 0.455,  0.365,  0.095, ...,  0.15 ,  1.   ,  1.   ],\n",
       "       [ 0.35 ,  0.265,  0.09 , ...,  0.07 ,  1.   ,  0.   ],\n",
       "       [ 0.53 ,  0.42 ,  0.135, ...,  0.21 ,  0.   ,  0.   ],\n",
       "       ..., \n",
       "       [ 0.6  ,  0.475,  0.205, ...,  0.308,  1.   ,  0.   ],\n",
       "       [ 0.625,  0.485,  0.15 , ...,  0.296,  0.   ,  0.   ],\n",
       "       [ 0.71 ,  0.555,  0.195, ...,  0.495,  1.   ,  1.   ]])"
      ]
     },
     "execution_count": 31,
     "metadata": {},
     "output_type": "execute_result"
    }
   ],
   "source": [
    "# Convert the DataFrame to a numpy array:\n",
    "train_data = df_train.values\n",
    "train_data"
   ]
  },
  {
   "cell_type": "code",
   "execution_count": 32,
   "metadata": {},
   "outputs": [],
   "source": [
    "# Training data features, skip the last column 'class'\n",
    "train_features = train_data[:, :len(train_data[0])-1]\n",
    "\n",
    "# 'class' column values\n",
    "train_target = train_data[:, len(train_data[0])-1]"
   ]
  },
  {
   "cell_type": "code",
   "execution_count": 33,
   "metadata": {},
   "outputs": [],
   "source": [
    "# normalizzo\n",
    "\n",
    "train_features = (train_features - train_features.mean(axis=0))/ train_features.std(axis=0)"
   ]
  },
  {
   "cell_type": "code",
   "execution_count": 34,
   "metadata": {},
   "outputs": [],
   "source": [
    "train_x, test_x, train_y, test_y = train_test_split(train_features, \n",
    "                                                    train_target, \n",
    "                                                    test_size=0.10, \n",
    "                                                    random_state=0)"
   ]
  },
  {
   "cell_type": "code",
   "execution_count": null,
   "metadata": {},
   "outputs": [],
   "source": []
  },
  {
   "cell_type": "code",
   "execution_count": 35,
   "metadata": {},
   "outputs": [
    {
     "name": "stdout",
     "output_type": "stream",
     "text": [
      "error: 720.0 \terror rate: 0.253968253968\n"
     ]
    }
   ],
   "source": [
    "#\n",
    "# Support Vector Machines\n",
    "#\n",
    "# RICORDA\n",
    "# train_data = df_train.values\n",
    "# train_features = train_data[:, :len(train_data[0])-1]\n",
    "# train_target = train_data[:, len(train_data[0])-1]\n",
    "\n",
    "from sklearn import svm\n",
    "\n",
    "clf = svm.SVC(probability = True)\n",
    "clf.fit(train_features, train_target)\n",
    "error = sum(abs(np.array(clf.predict(train_features)) - np.array(train_target)))\n",
    "errorRate = error/len(df_train)\n",
    "print (\"error:\", error, \"\\terror rate:\", errorRate)"
   ]
  },
  {
   "cell_type": "code",
   "execution_count": 36,
   "metadata": {},
   "outputs": [],
   "source": [
    "y_score = clf.predict_proba(test_x)     \n",
    "\n",
    "\n",
    "fpr, tpr, _ =  roc_curve(test_y, y_score[:,1])\n",
    "roc_auc = auc(fpr, tpr)"
   ]
  },
  {
   "cell_type": "code",
   "execution_count": 37,
   "metadata": {},
   "outputs": [
    {
     "data": {
      "image/png": "[encoded data removed]",
      "text/plain": [
       "<matplotlib.figure.Figure at 0x142b40157f0>"
      ]
     },
     "metadata": {},
     "output_type": "display_data"
    }
   ],
   "source": [
    "plt.plot(fpr,tpr, label='ROC curve (area = %0.2f)' % roc_auc)\n",
    "plt.plot(np.linspace(0, 1), np.linspace(0,1))\n",
    "\n",
    "plt.legend(loc=\"lower right\")\n",
    "plt.show()"
   ]
  },
  {
   "cell_type": "code",
   "execution_count": 38,
   "metadata": {},
   "outputs": [
    {
     "name": "stdout",
     "output_type": "stream",
     "text": [
      "Accuracy: 0.72 (+/- 0.08)\n"
     ]
    }
   ],
   "source": [
    "scores = cross_validation.cross_val_score(clf, train_features, train_target, cv=10)\n",
    "print ('Accuracy: %0.2f (+/- %0.2f)' % (scores.mean(), scores.std() * 2))"
   ]
  },
  {
   "cell_type": "code",
   "execution_count": null,
   "metadata": {},
   "outputs": [],
   "source": []
  },
  {
   "cell_type": "code",
   "execution_count": 39,
   "metadata": {},
   "outputs": [],
   "source": [
    "# Cerchiamo i parametri migliori con il metodo del prof\n",
    "\n",
    "from sklearn.model_selection import RandomizedSearchCV\n",
    "from sklearn.metrics import make_scorer\n",
    "from sklearn.metrics import accuracy_score\n",
    "\n",
    "def report(results, n_top=3):\n",
    "    for i in range(1, n_top + 1):\n",
    "        candidates = np.flatnonzero(results['rank_test_score'] == i)\n",
    "        for candidate in candidates:\n",
    "            print(\"Model with rank: {0}\".format(i))\n",
    "            print(\"Mean validation score: {0:.3f} (std: {1:.3f})\".format(\n",
    "                  results['mean_test_score'][candidate],\n",
    "                  results['std_test_score'][candidate]))\n",
    "            print(\"Parameters: {0}\".format(results['params'][candidate]))\n",
    "            print(\"\")\n",
    "\n",
    "# I parametri da cercare sono il peso agli errori e il grado con cui dividere il dataset"
   ]
  },
  {
   "cell_type": "code",
   "execution_count": 40,
   "metadata": {},
   "outputs": [
    {
     "name": "stdout",
     "output_type": "stream",
     "text": [
      "Model with rank: 1\n",
      "Mean validation score: 0.735 (std: 0.012)\n",
      "Parameters: {'C': 3.0311515151515147}\n",
      "\n",
      "Model with rank: 2\n",
      "Mean validation score: 0.735 (std: 0.012)\n",
      "Parameters: {'C': 1.6170808080808079}\n",
      "\n",
      "Model with rank: 2\n",
      "Mean validation score: 0.735 (std: 0.013)\n",
      "Parameters: {'C': 2.6271313131313128}\n",
      "\n"
     ]
    }
   ],
   "source": [
    "clf = svm.SVC()\n",
    "\n",
    "param_dist = {'C': np.linspace(0.001, 20, 100)\n",
    "             }\n",
    "            \n",
    "\n",
    "n_iter_search = len(param_dist[\"C\"])\n",
    "\n",
    "search = RandomizedSearchCV(clf, param_distributions=param_dist, n_iter=n_iter_search, \n",
    "                            n_jobs=10, scoring=make_scorer(accuracy_score))\n",
    "\n",
    "search.fit(train_features, train_target)\n",
    "\n",
    "report(search.cv_results_, 3) #search.best_estimator_.estimators_[0]\n"
   ]
  },
  {
   "cell_type": "code",
   "execution_count": 41,
   "metadata": {},
   "outputs": [
    {
     "name": "stdout",
     "output_type": "stream",
     "text": [
      "error: 710.0 \terror rate: 0.250440917108\n"
     ]
    }
   ],
   "source": [
    "clf = svm.SVC(C=3.0311515151515147, probability=True)\n",
    "clf.fit(train_features, train_target)\n",
    "error = sum(abs(np.array(clf.predict(train_features)) - np.array(train_target)))\n",
    "errorRate = error/len(df_train)\n",
    "print (\"error:\", error, \"\\terror rate:\", errorRate)"
   ]
  },
  {
   "cell_type": "code",
   "execution_count": 42,
   "metadata": {},
   "outputs": [
    {
     "data": {
      "image/png": "[encoded data removed]",
      "text/plain": [
       "<matplotlib.figure.Figure at 0x142b0c18630>"
      ]
     },
     "metadata": {},
     "output_type": "display_data"
    }
   ],
   "source": [
    "y_score = clf.predict_proba(test_x)     \n",
    "\n",
    "fpr, tpr, _ =  roc_curve(test_y, y_score[:,1])\n",
    "roc_auc = auc(fpr, tpr)\n",
    "\n",
    "plt.plot(fpr,tpr, label='ROC curve (area = %0.2f)' % roc_auc)\n",
    "plt.plot(np.linspace(0, 1), np.linspace(0,1))\n",
    "\n",
    "plt.legend(loc=\"lower right\")\n",
    "plt.show()"
   ]
  },
  {
   "cell_type": "code",
   "execution_count": 43,
   "metadata": {},
   "outputs": [
    {
     "name": "stdout",
     "output_type": "stream",
     "text": [
      "Accuracy: 0.72 (+/- 0.07)\n"
     ]
    }
   ],
   "source": [
    "scores = cross_validation.cross_val_score(clf, train_features, train_target, cv=10)\n",
    "print ('Accuracy: %0.2f (+/- %0.2f)' % (scores.mean(), scores.std() * 2))"
   ]
  },
  {
   "cell_type": "code",
   "execution_count": null,
   "metadata": {},
   "outputs": [],
   "source": []
  },
  {
   "cell_type": "code",
   "execution_count": 44,
   "metadata": {},
   "outputs": [
    {
     "name": "stdout",
     "output_type": "stream",
     "text": [
      "error: 715.0 \terror rate: 0.252204585538\n"
     ]
    }
   ],
   "source": [
    "clf = svm.SVC(C=1.6170808080808079, probability=True)\n",
    "clf.fit(train_features, train_target)\n",
    "error = sum(abs(np.array(clf.predict(train_features)) - np.array(train_target)))\n",
    "errorRate = error/len(df_train)\n",
    "print (\"error:\", error, \"\\terror rate:\", errorRate)"
   ]
  },
  {
   "cell_type": "code",
   "execution_count": 45,
   "metadata": {},
   "outputs": [
    {
     "data": {
      "image/png": "[encoded data removed]",
      "text/plain": [
       "<matplotlib.figure.Figure at 0x142b1ed4ba8>"
      ]
     },
     "metadata": {},
     "output_type": "display_data"
    }
   ],
   "source": [
    "y_score = clf.predict_proba(test_x)     \n",
    "\n",
    "fpr, tpr, _ =  roc_curve(test_y, y_score[:,1])\n",
    "roc_auc = auc(fpr, tpr)\n",
    "\n",
    "plt.plot(fpr,tpr, label='ROC curve (area = %0.2f)' % roc_auc)\n",
    "plt.plot(np.linspace(0, 1), np.linspace(0,1))\n",
    "\n",
    "plt.legend(loc=\"lower right\")\n",
    "plt.show()"
   ]
  },
  {
   "cell_type": "code",
   "execution_count": 46,
   "metadata": {},
   "outputs": [
    {
     "name": "stdout",
     "output_type": "stream",
     "text": [
      "Accuracy: 0.72 (+/- 0.08)\n"
     ]
    }
   ],
   "source": [
    "scores = cross_validation.cross_val_score(clf, train_features, train_target, cv=10)\n",
    "print ('Accuracy: %0.2f (+/- %0.2f)' % (scores.mean(), scores.std() * 2))"
   ]
  },
  {
   "cell_type": "code",
   "execution_count": null,
   "metadata": {},
   "outputs": [],
   "source": []
  },
  {
   "cell_type": "code",
   "execution_count": 47,
   "metadata": {},
   "outputs": [
    {
     "name": "stdout",
     "output_type": "stream",
     "text": [
      "error: 711.0 \terror rate: 0.250793650794\n"
     ]
    }
   ],
   "source": [
    "clf = svm.SVC(C=2.6271313131313128, probability=True)\n",
    "clf.fit(train_features, train_target)\n",
    "error = sum(abs(np.array(clf.predict(train_features)) - np.array(train_target)))\n",
    "errorRate = error/len(df_train)\n",
    "print (\"error:\", error, \"\\terror rate:\", errorRate)"
   ]
  },
  {
   "cell_type": "code",
   "execution_count": 48,
   "metadata": {},
   "outputs": [
    {
     "data": {
      "image/png": "[encoded data removed]",
      "text/plain": [
       "<matplotlib.figure.Figure at 0x142b40150b8>"
      ]
     },
     "metadata": {},
     "output_type": "display_data"
    }
   ],
   "source": [
    "y_score = clf.predict_proba(test_x)     \n",
    "\n",
    "fpr, tpr, _ =  roc_curve(test_y, y_score[:,1])\n",
    "roc_auc = auc(fpr, tpr)\n",
    "\n",
    "plt.plot(fpr,tpr, label='ROC curve (area = %0.2f)' % roc_auc)\n",
    "plt.plot(np.linspace(0, 1), np.linspace(0,1))\n",
    "\n",
    "plt.legend(loc=\"lower right\")\n",
    "plt.show()"
   ]
  },
  {
   "cell_type": "code",
   "execution_count": 49,
   "metadata": {},
   "outputs": [
    {
     "name": "stdout",
     "output_type": "stream",
     "text": [
      "Accuracy: 0.73 (+/- 0.07)\n"
     ]
    }
   ],
   "source": [
    "scores = cross_validation.cross_val_score(clf, train_features, train_target, cv=10)\n",
    "print ('Accuracy: %0.2f (+/- %0.2f)' % (scores.mean(), scores.std() * 2))"
   ]
  },
  {
   "cell_type": "code",
   "execution_count": 50,
   "metadata": {},
   "outputs": [],
   "source": [
    "# Non cambia mai nulla, comunque meglio degli 860 errori precedenti"
   ]
  },
  {
   "cell_type": "code",
   "execution_count": 51,
   "metadata": {},
   "outputs": [],
   "source": [
    "# proviamo boosting e bagging"
   ]
  },
  {
   "cell_type": "code",
   "execution_count": 52,
   "metadata": {},
   "outputs": [
    {
     "name": "stdout",
     "output_type": "stream",
     "text": [
      "Bagging: 0.838520141413\n",
      "Single DT: 0.837474480904\n"
     ]
    }
   ],
   "source": [
    "# Bagging\n",
    "\n",
    "from sklearn.ensemble import BaggingClassifier\n",
    "\n",
    "# max_sample = 100% + Bootstrap ==> ~62% of original dataset used as sample\n",
    "bag = BaggingClassifier(clf, n_estimators=20, max_samples=1.0, bootstrap=True)\n",
    "bag = bag.fit(train_x, train_y)\n",
    "\n",
    "y_score = bag.predict_proba(test_x)\n",
    "fpr, tpr, _ =  roc_curve(test_y, y_score[:,1])\n",
    "print (\"Bagging:\", auc(fpr, tpr))\n",
    "\n",
    "clf = clf.fit(train_x, train_y)\n",
    "y_score = clf.predict_proba(test_x)\n",
    "fpr, tpr, _ =  roc_curve(test_y, y_score[:,1])\n",
    "print (\"Single SVM:\", auc(fpr, tpr))\n"
   ]
  },
  {
   "cell_type": "code",
   "execution_count": 53,
   "metadata": {},
   "outputs": [
    {
     "name": "stdout",
     "output_type": "stream",
     "text": [
      "Wall time: 8min 46s\n"
     ]
    },
    {
     "data": {
      "image/png": "[encoded data removed]",
      "text/plain": [
       "<matplotlib.figure.Figure at 0x142b602e2e8>"
      ]
     },
     "metadata": {},
     "output_type": "display_data"
    }
   ],
   "source": [
    "%%time\n",
    "# Bagging / 2\n",
    "\n",
    "from sklearn.ensemble import BaggingClassifier\n",
    "\n",
    "results = []\n",
    "for nnn in range(50):\n",
    "    \n",
    "    clf = svm.SVC(C=2.6271313131313128, probability=True)\n",
    "\n",
    "    # max_sample = 100% + Bootstrap ==> ~62% of original dataset used as sample\n",
    "    bag = BaggingClassifier(clf, n_estimators=20, max_samples=1.0, bootstrap=True)\n",
    "    bag = bag.fit(train_x, train_y)\n",
    "\n",
    "    y_score = bag.predict_proba(test_x)\n",
    "    fpr, tpr, _ =  roc_curve(test_y, y_score[:,1])\n",
    "    # print auc(fpr, tpr)\n",
    "    results.append(auc(fpr, tpr))\n",
    "plt.hist(results)"
   ]
  },
  {
   "cell_type": "code",
   "execution_count": 54,
   "metadata": {},
   "outputs": [
    {
     "name": "stdout",
     "output_type": "stream",
     "text": [
      "0.61415127222\n"
     ]
    }
   ],
   "source": [
    "# Boosting with AdaBoost\n",
    "from sklearn.ensemble import AdaBoostClassifier\n",
    "\n",
    "clf = svm.SVC(C=2.6271313131313128, probability=True)\n",
    "\n",
    "ada = AdaBoostClassifier(base_estimator=clf, n_estimators=100)\n",
    "ada = ada.fit(train_x, train_y)\n",
    "\n",
    "y_score = ada.predict_proba(test_x)\n",
    "fpr, tpr, _ =  roc_curve(test_y, y_score[:,1])\n",
    "print (auc(fpr, tpr))\n"
   ]
  },
  {
   "cell_type": "code",
   "execution_count": null,
   "metadata": {},
   "outputs": [],
   "source": []
  },
  {
   "cell_type": "code",
   "execution_count": 55,
   "metadata": {},
   "outputs": [
    {
     "name": "stdout",
     "output_type": "stream",
     "text": [
      "Bagging: 0.837823034407\n",
      "Single DT: 0.83797241448\n"
     ]
    }
   ],
   "source": [
    "# Bagging\n",
    "\n",
    "clf = svm.SVC(C=3.0311515151515147, probability=True)\n",
    "\n",
    "# max_sample = 100% + Bootstrap ==> ~62% of original dataset used as sample\n",
    "bag = BaggingClassifier(clf, n_estimators=20, max_samples=1.0, bootstrap=True)\n",
    "bag = bag.fit(train_x, train_y)\n",
    "\n",
    "y_score = bag.predict_proba(test_x)\n",
    "fpr, tpr, _ =  roc_curve(test_y, y_score[:,1])\n",
    "print (\"Bagging:\", auc(fpr, tpr))\n",
    "\n",
    "clf = clf.fit(train_x, train_y)\n",
    "y_score = clf.predict_proba(test_x)\n",
    "fpr, tpr, _ =  roc_curve(test_y, y_score[:,1])\n",
    "print (\"Single SVM:\", auc(fpr, tpr))\n"
   ]
  },
  {
   "cell_type": "code",
   "execution_count": 56,
   "metadata": {},
   "outputs": [
    {
     "name": "stdout",
     "output_type": "stream",
     "text": [
      "Wall time: 9min 31s\n"
     ]
    },
    {
     "data": {
      "image/png": "[encoded data removed]",
      "text/plain": [
       "<matplotlib.figure.Figure at 0x142b708b240>"
      ]
     },
     "metadata": {},
     "output_type": "display_data"
    }
   ],
   "source": [
    "%%time\n",
    "# Bagging / 2\n",
    "\n",
    "results = []\n",
    "for nnn in range(50):\n",
    "    \n",
    "    clf = svm.SVC(C=3.0311515151515147, probability=True)\n",
    "\n",
    "    # max_sample = 100% + Bootstrap ==> ~62% of original dataset used as sample\n",
    "    bag = BaggingClassifier(clf, n_estimators=20, max_samples=1.0, bootstrap=True)\n",
    "    bag = bag.fit(train_x, train_y)\n",
    "\n",
    "    y_score = bag.predict_proba(test_x)\n",
    "    fpr, tpr, _ =  roc_curve(test_y, y_score[:,1])\n",
    "    # print auc(fpr, tpr)\n",
    "    results.append(auc(fpr, tpr))\n",
    "plt.hist(results)"
   ]
  },
  {
   "cell_type": "code",
   "execution_count": 57,
   "metadata": {},
   "outputs": [
    {
     "name": "stdout",
     "output_type": "stream",
     "text": [
      "0.615744659662\n"
     ]
    }
   ],
   "source": [
    "# Boosting with AdaBoost\n",
    "\n",
    "clf = svm.SVC(C=3.0311515151515147, probability=True)\n",
    "\n",
    "ada = AdaBoostClassifier(base_estimator=clf, n_estimators=100)\n",
    "ada = ada.fit(train_x, train_y)\n",
    "\n",
    "y_score = ada.predict_proba(test_x)\n",
    "fpr, tpr, _ =  roc_curve(test_y, y_score[:,1])\n",
    "print (auc(fpr, tpr))\n"
   ]
  },
  {
   "cell_type": "code",
   "execution_count": null,
   "metadata": {},
   "outputs": [],
   "source": []
  }
 ],
 "metadata": {
  "kernelspec": {
   "display_name": "Python 3",
   "language": "python",
   "name": "python3"
  },
  "language_info": {
   "codemirror_mode": {
    "name": "ipython",
    "version": 3
   },
   "file_extension": ".py",
   "mimetype": "text/x-python",
   "name": "python",
   "nbconvert_exporter": "python",
   "pygments_lexer": "ipython3",
   "version": "3.5.4"
  }
 },
 "nbformat": 4,
 "nbformat_minor": 2
}
